{
  "nbformat": 4,
  "nbformat_minor": 0,
  "metadata": {
    "colab": {
      "name": "Lab5.ipynb",
      "provenance": [],
      "collapsed_sections": [],
      "include_colab_link": true
    },
    "kernelspec": {
      "name": "python3",
      "display_name": "Python 3"
    },
    "language_info": {
      "name": "python"
    },
    "accelerator": "GPU"
  },
  "cells": [
    {
      "cell_type": "markdown",
      "metadata": {
        "id": "view-in-github",
        "colab_type": "text"
      },
      "source": [
        "<a href=\"https://colab.research.google.com/github/dariiimo/nlp2021/blob/main/lab5/Lab5.ipynb\" target=\"_parent\"><img src=\"https://colab.research.google.com/assets/colab-badge.svg\" alt=\"Open In Colab\"/></a>"
      ]
    },
    {
      "cell_type": "code",
      "metadata": {
        "id": "3suJfqw4OdIB"
      },
      "source": [
        "import numpy as np, pandas as pd, tensorflow as tf, requests as rqst, io\n",
        "from tensorflow.keras.layers.experimental.preprocessing import TextVectorization\n",
        "from tensorflow.keras import layers\n",
        "\n",
        "rnd = np.random.randint\n",
        "\n",
        "folder = '/content/drive/MyDrive/нлп/'"
      ],
      "execution_count": 7,
      "outputs": []
    },
    {
      "cell_type": "markdown",
      "metadata": {
        "id": "zjXyPRttUE2S"
      },
      "source": [
        "## На основі підготовлених у попередній лабораторній роботі речень кожного з учасників створити загальний набір даних розмірністю (100, n), де n -кількість учасників команди, та відповідні мітки класів до них\n"
      ]
    },
    {
      "cell_type": "code",
      "metadata": {
        "colab": {
          "base_uri": "https://localhost:8080/"
        },
        "id": "_1bwxXcKUAgf",
        "outputId": "304b7b6d-e9b6-4882-a1b5-bfc0945eaff9"
      },
      "source": [
        "RL_file = open(folder+'sentences.txt')\n",
        "RL_sentences = RL_file.read().split('. ')[:-1]\n",
        "\n",
        "DARINA_file = open(folder+'100.txt', encoding='windows-1251')\n",
        "DARINA_sentences = DARINA_file.read().split('. ')[:-1]\n",
        "\n",
        "max_tokens = 10000\n",
        "\n",
        "sentences = RL_sentences+DARINA_sentences\n",
        "tokens_count = 0\n",
        "for sent in sentences:\n",
        "  tokens_count+=len(sent.split())\n",
        "avg_tokens = round(tokens_count/len(sentences))\n",
        "avg_tokens\n",
        "\n",
        "RL_sentences"
      ],
      "execution_count": 8,
      "outputs": [
        {
          "output_type": "execute_result",
          "data": {
            "text/plain": [
              "['Training a virtual agent to outperform human players can teach us how to optimize different processes in a variety of different and exciting subfields',\n",
              " 'This is what Google DeepMind did with its popular AlphaGo, which beat the strongest Go player in history and scored a goal that was considered impossible at the time.In this article, we will develop an AI agent that is able to learn how to play the popular game Snake from scratch',\n",
              " 'To do it, we implement a Deep Reinforcement Learning algorithm using both Keras on top of Tensorflow and PyTorch (both versions are available, you can choose the one you prefer)',\n",
              " 'This approach consists in the interaction between two components: an environment (the game itself) and an agent (Snake)',\n",
              " 'The agent collects information about its current state (we will see later what this means) and performs an action accordingly',\n",
              " 'The environment rewards or punishes the agent based on the performed action',\n",
              " 'Over time, the agent learns what actions maximize the reward (in our case, what actions lead to eating the apple and avoiding the walls)',\n",
              " 'No rules about the game are given',\n",
              " 'Initially, Snake does not know what to do and performs random actions',\n",
              " 'The goal is to elaborate a strategy (technically called “policy”) to maximize the score — or the reward.We are going to see how a Deep Q-Learning algorithm learns to play Snake, scoring up to 50 points and showing a solid strategy in just 5 minutes of training',\n",
              " 'Optionally, the code shows how to optimize the Artificial Neural Network using Bayesian Optimization',\n",
              " 'Reinforcement Learning is a family of algorithms and techniques used for Control (e.g',\n",
              " 'Robotics, Autonomous driving, etc..) and Decision making',\n",
              " 'These approaches solve problems that need to be expressed as a Markov Decision Process (MDP)',\n",
              " 'What does this mean? It means that we need to describe our game by a set of states S (for example, an index based on Snake’s position), a set of actions A (for example, Up, Down, Right, Left), a reward function R (for example, +10 when Snake eats an apple, -10 when Snakes hits a wall) and optionally a transition function T that describes the transitions among states',\n",
              " 'Traditional ML algorithms need to be trained with an input and a “correct answer” called target',\n",
              " 'The system will then try to learn how to predict targets based on unseen inputs',\n",
              " 'In this example, we don’t know the best action to take at each state of the game (this is actually what we are trying to learn!), so a traditional approach would not be effective',\n",
              " 'In Reinforcement Learning, we have two main components: the environment (our game) and the agent (our Snake.',\n",
              " 'or to be correct, the Deep Neural Network that drives our Snake’s actions)',\n",
              " 'Every time the agent performs an action, the environment gives a reward to the agent, which can be positive or negative depending on how good the action was from that specific state',\n",
              " 'The goal of the agent is to learn what actions maximize the reward, given every possible state',\n",
              " 'States are the observations that the agent receives at each iteration from the environment',\n",
              " 'A state can be its position, its speed, or whatever array of variables describes the environment',\n",
              " 'To be more rigorous and to use a Reinforcement Learning notation, the strategy used by the agent to make decisions is called policy',\n",
              " 'On a theoretical level, a policy is a mapping from the state space (the space of all the possible observations that the agent can receive) into the action space (the space of all the actions the agent can take, say UP, DOWN, LEFT and RIGHT)',\n",
              " 'A Q-table is a matrix that correlates the state of the agent with the possible actions that the agent can adopt',\n",
              " 'The values in the table are the action’s probability of success (technically, a measure of the expected cumulative reward), which were updated based on the rewards the agent received during training',\n",
              " 'In the example, we might want to choose RIGHT if we are in State 2, and we might want to go UP if we are in State 4',\n",
              " 'The values in the Q-Table represent the cumulative expected reward of taking action a from a state s',\n",
              " 'In other words, these values give us an indication of the average reward that the agent obtains if it takes action a from that state s',\n",
              " 'This table is the policy of the agent that we mentioned before: it determines what actions should be taken from every state to maximize the expected reward',\n",
              " 'Deep Q-Learning increases the potentiality of Q-Learning by converting the table into Deep Neural Network — that is a powerful representation of a parametrized function',\n",
              " 'When the AI chooses and performs the action, the environment gives a reward to the agent',\n",
              " 'Then, the agent reaches the new state state’ and it updates its Q-value according to the Bellman equation as mentioned above',\n",
              " 'Also, for each move, it stores the original state, the action, the state reached after performed that action, the reward obtained and whether the game ended or not',\n",
              " 'This data is later sampled to train the neural network',\n",
              " 'This operation is called Replay Memory',\n",
              " 'A state is the representation of a situation in which the agent finds itself',\n",
              " 'The state also represents the input of the Neural network',\n",
              " 'the AI tries to maximize the expected reward',\n",
              " 'In our case, a positive reward is only given to the agent when it eats the food target (+10)',\n",
              " 'If the snake hits a wall or hits itself, the reward is negative (-10)',\n",
              " 'Additionally, we could give a positive reward for each step Snake takes without dying',\n",
              " 'In that case, Snake might exploit the situation by running in a circle instead of reaching the food, since it would get positive rewards for each step while avoiding the risk of collision against a wall',\n",
              " 'Sometimes, Reinforcement Learning agents outsmart us, presenting flaws in our strategy that we did not anticipate',\n",
              " 'The brain of the Artificial Intelligence agent uses Deep learning',\n",
              " 'In our case, it consists of 3 hidden layers of 120 neurons',\n",
              " 'The learning rate is not fixed, it starts at 0.0005 and decreases to 0.000005',\n",
              " 'Different architectures and different hyper-parameters contribute to a quicker convergence to an optimum, as well as possible highest scores',\n",
              " 'The network receives as input the state, and returns as output three values related to the three actions: move left, move right, move straight',\n",
              " 'The last layer uses the Softmax function',\n",
              " 'This example shows how a simple agent can learn the mechanism of a process, in this case the game Snake, in a few minutes and with a few lines of code',\n",
              " 'I strongly suggest to dive into the code and to try to improve the result',\n",
              " 'An interesting upgrade might be obtained passing screenshots of the current game for each iteration',\n",
              " 'In that case, the state could be the RGB information for each pixel',\n",
              " 'The Deep Q-Learning model can be replaced with a Double Deep Q-learning algorithm, for a more precise convergence',\n",
              " 'Reinforcement learning is the training of machine learning models to make a sequence of decisions',\n",
              " 'The agent learns to achieve a goal in an uncertain, potentially complex environment',\n",
              " 'In reinforcement learning, an artificial intelligence faces a game-like situation',\n",
              " 'The computer employs trial and error to come up with a solution to the problem',\n",
              " 'To get the machine to do what the programmer wants, the artificial intelligence gets either rewards or penalties for the actions it performs',\n",
              " 'Its goal is to maximize the total reward',\n",
              " 'Although the designer sets the reward policy–that is, the rules of the game–he gives the model no hints or suggestions for how to solve the game',\n",
              " 'It’s up to the model to figure out how to perform the task to maximize the reward, starting from totally random trials and finishing with sophisticated tactics and superhuman skills',\n",
              " 'By leveraging the power of search and many trials, reinforcement learning is currently the most effective way to hint machine’s creativity',\n",
              " 'In contrast to human beings, artificial intelligence can gather experience from thousands of parallel gameplays if a reinforcement learning algorithm is run on a sufficiently powerful computer infrastructure',\n",
              " 'in usual circumstances we would require an autonomous vehicle to put safety first, minimize ride time, reduce pollution, offer passengers comfort and obey the rules of law',\n",
              " 'With an autonomous race car, on the other hand, we would emphasize speed much more than the driver’s comfort',\n",
              " 'The programmer cannot predict everything that could happen on the road',\n",
              " 'Instead of building lengthy “if-then” instructions, the programmer prepares the reinforcement learning agent to be capable of learning from the system of rewards and penalties',\n",
              " 'The agent (another name for reinforcement learning algorithms performing the task) gets rewards for reaching specific goals',\n",
              " 'deepsense.ai took part in the “Learning to run” project, which aimed to train a virtual runner from scratch',\n",
              " 'The runner is an advanced and precise musculoskeletal model designed by the Stanford Neuromuscular Biomechanics Laboratory',\n",
              " 'Learning the agent how to run is a first step in building a new generation of prosthetic legs, ones that automatically recognize people’s walking patterns and tweak themselves to make moving easier and more effective',\n",
              " 'While it is possible and has been done in Stanford’s labs, hard-wiring all the commands and predicting all possible patterns of walking requires a lot of work from highly skilled programmers',\n",
              " 'Reinforcement learning, as stated above employs a system of rewards and penalties to compel the computer to solve a problem by itself',\n",
              " 'Human involvement is limited to changing the environment and tweaking the system of rewards and penalties',\n",
              " 'As the computer maximizes the reward, it is prone to seeking unexpected ways of doing it',\n",
              " 'Human involvement is focused on preventing it from exploiting the system and motivating the machine to perform the task in the way expected',\n",
              " 'Reinforcement learning is useful when there is no “proper way” to perform a task, yet there are rules the model has to follow to perform its duties correctly',\n",
              " 'By tweaking and seeking the optimal policy for deep reinforcement learning, we built an agent that in just 20 minutes reached a superhuman level in playing Atari games',\n",
              " 'Similar algorithms in principal can be used to build AI for an autonomous car or a prosthetic leg',\n",
              " 'In fact, one of the best ways to evaluate the reinforcement learning approach is to give the model an Atari video game to play, such as Arkanoid or Space Invaders',\n",
              " 'According to Google Brain’s Marc G',\n",
              " 'Bellemare, who introduced Atari video games as a reinforcement learning benchmark, “although challenging, these environments remain simple enough that we can hope to achieve measurable progress as we attempt to solve them”',\n",
              " 'Deep reinforcement learning, the algorithm used by state-of-the-art game-playing bots, starts by providing an agent with a set of possible actions in the game, a mechanism to receive feedback from the environment, and a goal to pursue',\n",
              " 'Then, through numerous episodes of gameplay, the RL agent gradually goes from taking random actions to learning sequences of actions that can help it maximize its goal',\n",
              " 'Early research of deep reinforcement learning relied on the agent being pretrained on gameplay data from human players',\n",
              " 'More recently, researchers have been able to develop RL agents that can learn games from scratch through pure self-play without human input',\n",
              " 'In their study, the researchers at MIT Lincoln Laboratory were interested in finding out if a reinforcement learning program that outperforms humans could become a reliable coworker to humans',\n",
              " '“At a very high level, this work was inspired by the question: What technology gaps exist that prevent reinforcement learning (RL) from being applied to real-world problems, not just video games?” Dr',\n",
              " 'Ross Allen, AI researcher at Lincoln Laboratory and co-author of the paper, told TechTalks',\n",
              " '“While many such technology gaps exist (e.g., the real world is characterized by uncertainty/partial-observability, data scarcity, ambiguous/nuanced objectives, disparate timescales of decision making, etc.), we identified the need to collaborate with humans as a key technology gap for applying RL in the real-world',\n",
              " 'In fact, in some cases, the reinforcement systems have managed to hack the games and find tricks that baffled even the most talented and experienced human players',\n",
              " 'One famous example was a move made by DeepMind’s AlphaGo in its matchup against Go world champion Lee Sedol',\n",
              " 'Analysts first thought the move was a mistake because it went against the intuitions of human experts',\n",
              " 'But the same move ended up turning the tide in favor of the AI player and defeating Sedol',\n",
              " 'Allen thinks the same kind of ingenuity can come into play when RL is teamed up with humans',\n",
              " '“We think RL can be leveraged to advance the state of the art of human-AI collaboration by avoiding the preconceived assumptions and biases that characterize ‘rule-based expert systems,” Allen said',\n",
              " 'Reinforcement learning is a special branch of AI algorithms that is composed of three key elements: an environment, agents, and rewards',\n",
              " 'By performing actions, the agent changes its own state and that of the environment',\n",
              " 'Based on how much those actions affect the goal the agent must achieve, it is rewarded or penalized',\n",
              " 'In many reinforcement learning problems, the agent has no initial knowledge of the environment and starts by taking random actions',\n",
              " 'Based on the feedback it receives, the agent learns to tune its actions and develop policies that maximize its reward',\n",
              " 'In their paper, the researchers at DeepMind suggest reinforcement learning as the main algorithm that can replicate reward maximization as seen in nature and can eventually lead to artificial general intelligence',\n",
              " '“If an agent can continually adjust its behaviour so as to improve its cumulative reward, then any abilities that are repeatedly demanded by its environment must ultimately be produced in the agent’s behaviour,” the researchers write, adding that, in the course of maximizing for its reward, a good reinforcement learning agent could eventually learn perception, language, social intelligence and so forth',\n",
              " '“We do not offer any theoretical guarantee on the sample efficiency of reinforcement learning agents.” Reinforcement learning is notoriously renowned for requiring huge amounts of data',\n",
              " 'For instance, a reinforcement learning agent might need centuries worth of gameplay to master a computer game',\n",
              " 'And AI researchers still haven’t figured out how to create reinforcement learning systems that can generalize their learnings across several domains',\n",
              " 'Therefore, slight changes to the environment often require the full retraining of the model',\n",
              " 'The researchers also acknowledge that learning mechanisms for reward maximization is an unsolved problem that remains a central question to be further studied in reinforcement learning',\n",
              " 'In “Chip Placement with Deep Reinforcement Learning”, we pose chip placement as a reinforcement learning (RL) problem, where we train an agent (i.e, an RL policy) to optimize the quality of chip placements',\n",
              " 'Unlike prior methods, our approach has the ability to learn from past experience and improve over time',\n",
              " 'In particular, as we train over a greater number of chip blocks, our method becomes better at rapidly generating optimized placements for previously unseen chip blocks',\n",
              " 'Whereas existing baselines require human experts in the loop and take several weeks to generate, our method can generate placements in under six hours that outperform or match their manually designed counterparts']"
            ]
          },
          "metadata": {},
          "execution_count": 8
        }
      ]
    },
    {
      "cell_type": "code",
      "metadata": {
        "colab": {
          "base_uri": "https://localhost:8080/",
          "height": 424
        },
        "id": "xXFtRDHpobtl",
        "outputId": "7f60e152-ecf7-42d8-b21f-49b3eeb90a52"
      },
      "source": [
        "sent_df = []\n",
        "\n",
        "for sent in RL_sentences:\n",
        "  sent_df.append({'Sentence':sent, 'Target':'Reinforcement Learning'})\n",
        "\n",
        "for sent in DARINA_sentences:\n",
        "  sent_df.append({'Sentence':sent, 'Target':'Neural network module for recognizing brain diseases'})\n",
        "\n",
        "sent_df = pd.DataFrame(data=sent_df, columns=['Sentence', 'Target'])\n",
        "\n",
        "sent_df['Label'] = sent_df['Target']\n",
        "sent_df.replace({'Label':{'Reinforcement Learning':0, 'Neural network module for recognizing brain diseases':1}}, inplace=True)\n",
        "sent_df"
      ],
      "execution_count": 9,
      "outputs": [
        {
          "output_type": "execute_result",
          "data": {
            "text/html": [
              "<div>\n",
              "<style scoped>\n",
              "    .dataframe tbody tr th:only-of-type {\n",
              "        vertical-align: middle;\n",
              "    }\n",
              "\n",
              "    .dataframe tbody tr th {\n",
              "        vertical-align: top;\n",
              "    }\n",
              "\n",
              "    .dataframe thead th {\n",
              "        text-align: right;\n",
              "    }\n",
              "</style>\n",
              "<table border=\"1\" class=\"dataframe\">\n",
              "  <thead>\n",
              "    <tr style=\"text-align: right;\">\n",
              "      <th></th>\n",
              "      <th>Sentence</th>\n",
              "      <th>Target</th>\n",
              "      <th>Label</th>\n",
              "    </tr>\n",
              "  </thead>\n",
              "  <tbody>\n",
              "    <tr>\n",
              "      <th>0</th>\n",
              "      <td>Training a virtual agent to outperform human p...</td>\n",
              "      <td>Reinforcement Learning</td>\n",
              "      <td>0</td>\n",
              "    </tr>\n",
              "    <tr>\n",
              "      <th>1</th>\n",
              "      <td>This is what Google DeepMind did with its popu...</td>\n",
              "      <td>Reinforcement Learning</td>\n",
              "      <td>0</td>\n",
              "    </tr>\n",
              "    <tr>\n",
              "      <th>2</th>\n",
              "      <td>To do it, we implement a Deep Reinforcement Le...</td>\n",
              "      <td>Reinforcement Learning</td>\n",
              "      <td>0</td>\n",
              "    </tr>\n",
              "    <tr>\n",
              "      <th>3</th>\n",
              "      <td>This approach consists in the interaction betw...</td>\n",
              "      <td>Reinforcement Learning</td>\n",
              "      <td>0</td>\n",
              "    </tr>\n",
              "    <tr>\n",
              "      <th>4</th>\n",
              "      <td>The agent collects information about its curre...</td>\n",
              "      <td>Reinforcement Learning</td>\n",
              "      <td>0</td>\n",
              "    </tr>\n",
              "    <tr>\n",
              "      <th>...</th>\n",
              "      <td>...</td>\n",
              "      <td>...</td>\n",
              "      <td>...</td>\n",
              "    </tr>\n",
              "    <tr>\n",
              "      <th>211</th>\n",
              "      <td>This includes balancing the prospective benefi...</td>\n",
              "      <td>Neural network module for recognizing brain di...</td>\n",
              "      <td>1</td>\n",
              "    </tr>\n",
              "    <tr>\n",
              "      <th>212</th>\n",
              "      <td>Users report their symptoms into the app, whic...</td>\n",
              "      <td>Neural network module for recognizing brain di...</td>\n",
              "      <td>1</td>\n",
              "    </tr>\n",
              "    <tr>\n",
              "      <th>213</th>\n",
              "      <td>Most common users could be people with serious...</td>\n",
              "      <td>Neural network module for recognizing brain di...</td>\n",
              "      <td>1</td>\n",
              "    </tr>\n",
              "    <tr>\n",
              "      <th>214</th>\n",
              "      <td>Body scans can spot cancer and vascular diseas...</td>\n",
              "      <td>Neural network module for recognizing brain di...</td>\n",
              "      <td>1</td>\n",
              "    </tr>\n",
              "    <tr>\n",
              "      <th>215</th>\n",
              "      <td>Since the first step in health care is compili...</td>\n",
              "      <td>Neural network module for recognizing brain di...</td>\n",
              "      <td>1</td>\n",
              "    </tr>\n",
              "  </tbody>\n",
              "</table>\n",
              "<p>216 rows × 3 columns</p>\n",
              "</div>"
            ],
            "text/plain": [
              "                                              Sentence  ... Label\n",
              "0    Training a virtual agent to outperform human p...  ...     0\n",
              "1    This is what Google DeepMind did with its popu...  ...     0\n",
              "2    To do it, we implement a Deep Reinforcement Le...  ...     0\n",
              "3    This approach consists in the interaction betw...  ...     0\n",
              "4    The agent collects information about its curre...  ...     0\n",
              "..                                                 ...  ...   ...\n",
              "211  This includes balancing the prospective benefi...  ...     1\n",
              "212  Users report their symptoms into the app, whic...  ...     1\n",
              "213  Most common users could be people with serious...  ...     1\n",
              "214  Body scans can spot cancer and vascular diseas...  ...     1\n",
              "215  Since the first step in health care is compili...  ...     1\n",
              "\n",
              "[216 rows x 3 columns]"
            ]
          },
          "metadata": {},
          "execution_count": 9
        }
      ]
    },
    {
      "cell_type": "markdown",
      "metadata": {
        "id": "NeH6e0tRVV78"
      },
      "source": [
        "#### Tokenization&Embedding"
      ]
    },
    {
      "cell_type": "code",
      "metadata": {
        "id": "Fm1gjy-eUHB4",
        "colab": {
          "base_uri": "https://localhost:8080/"
        },
        "outputId": "e571c9c6-4d74-4938-f109-9451bc29848e"
      },
      "source": [
        "text_vectorizer = TextVectorization(max_tokens=max_tokens, \n",
        "                                    standardize=\"lower_and_strip_punctuation\", \n",
        "                                    split=\"whitespace\", \n",
        "                                    ngrams=None, \n",
        "                                    output_mode=\"int\",\n",
        "                                    output_sequence_length=avg_tokens, \n",
        "                                    pad_to_max_tokens=True)\n",
        "\n",
        "text_vectorizer.adapt(sent_df['Sentence'])\n",
        "\n",
        "text_vectorizer(sent_df['Sentence'])"
      ],
      "execution_count": 10,
      "outputs": [
        {
          "output_type": "execute_result",
          "data": {
            "text/plain": [
              "<tf.Tensor: shape=(216, 23), dtype=int64, numpy=\n",
              "array([[ 108,    6,  340, ...,  120,    4, 1214],\n",
              "       [  27,    8,   47, ...,    6,   76,    9],\n",
              "       [   3,  152,   26, ...,  618,   22,  216],\n",
              "       ...,\n",
              "       [  86,  314,  342, ...,    7,   64,  126],\n",
              "       [1387,  794,   20, ..., 1159,    0,    0],\n",
              "       [ 244,    2,  119, ...,  446,    8,    2]])>"
            ]
          },
          "metadata": {},
          "execution_count": 10
        }
      ]
    },
    {
      "cell_type": "code",
      "metadata": {
        "colab": {
          "base_uri": "https://localhost:8080/"
        },
        "id": "HsUT7y2avSdJ",
        "outputId": "356b89f9-79e9-4832-b9d8-07ae4fd1a5e3"
      },
      "source": [
        "embedding = layers.Embedding(input_dim=max_tokens, \n",
        "                             output_dim=128, \n",
        "                             embeddings_initializer=\"uniform\", \n",
        "                             input_length=avg_tokens) \n",
        "\n",
        "embedding(text_vectorizer(sent_df['Sentence']))"
      ],
      "execution_count": 11,
      "outputs": [
        {
          "output_type": "execute_result",
          "data": {
            "text/plain": [
              "<tf.Tensor: shape=(216, 23, 128), dtype=float32, numpy=\n",
              "array([[[-0.03388479, -0.04768075,  0.03078211, ..., -0.03321211,\n",
              "          0.04761798,  0.01684901],\n",
              "        [ 0.04252862,  0.01630613, -0.03705528, ...,  0.02445502,\n",
              "          0.03085256,  0.01245614],\n",
              "        [-0.02924492, -0.03447485,  0.03112706, ..., -0.0067829 ,\n",
              "         -0.02896518, -0.01596857],\n",
              "        ...,\n",
              "        [ 0.04709807, -0.02181363,  0.03530426, ...,  0.00954552,\n",
              "         -0.00872532,  0.01410956],\n",
              "        [-0.03746644,  0.01694191, -0.03738953, ...,  0.02119069,\n",
              "          0.03472631,  0.0356879 ],\n",
              "        [ 0.01162535,  0.04556067, -0.01055593, ...,  0.00147337,\n",
              "          0.03196568, -0.01230179]],\n",
              "\n",
              "       [[-0.0328695 , -0.04637541,  0.04104748, ...,  0.00663266,\n",
              "         -0.03744509, -0.04612912],\n",
              "        [-0.04165722,  0.03011524, -0.02073898, ...,  0.0050559 ,\n",
              "          0.01002469,  0.00291776],\n",
              "        [ 0.01242688,  0.00574857,  0.00096856, ..., -0.03897325,\n",
              "         -0.04034108,  0.03804047],\n",
              "        ...,\n",
              "        [ 0.04252862,  0.01630613, -0.03705528, ...,  0.02445502,\n",
              "          0.03085256,  0.01245614],\n",
              "        [-0.01784151, -0.04688474,  0.04980303, ..., -0.01387198,\n",
              "          0.04064455, -0.02270535],\n",
              "        [ 0.02582334, -0.01063613, -0.0124714 , ..., -0.01927314,\n",
              "         -0.01248232,  0.03848301]],\n",
              "\n",
              "       [[ 0.03171024,  0.04076366, -0.00731546, ...,  0.00924586,\n",
              "          0.00052974,  0.03913413],\n",
              "        [-0.04011142, -0.01359586,  0.04202029, ..., -0.03150402,\n",
              "          0.04939931,  0.01002208],\n",
              "        [ 0.02184987,  0.01282618,  0.02004209, ..., -0.03551676,\n",
              "          0.01229902, -0.02742517],\n",
              "        ...,\n",
              "        [-0.04507038,  0.00841316,  0.0140975 , ..., -0.00053002,\n",
              "         -0.02150025, -0.02504379],\n",
              "        [ 0.02769366,  0.0343419 , -0.03792721, ..., -0.04013182,\n",
              "         -0.03734135, -0.02222517],\n",
              "        [ 0.02395446,  0.01062363,  0.0209167 , ..., -0.01926823,\n",
              "          0.01265964, -0.04065811]],\n",
              "\n",
              "       ...,\n",
              "\n",
              "       [[-0.00076319, -0.0043012 ,  0.01140876, ...,  0.02507517,\n",
              "         -0.04197286,  0.04784094],\n",
              "        [ 0.02797513,  0.00010089,  0.04095374, ..., -0.01746036,\n",
              "          0.00039474,  0.00308081],\n",
              "        [ 0.02121868, -0.00391905,  0.02255057, ..., -0.04533758,\n",
              "         -0.02123377, -0.04871405],\n",
              "        ...,\n",
              "        [-0.02023112,  0.04597007, -0.02402326, ..., -0.04399221,\n",
              "         -0.00276767, -0.04714161],\n",
              "        [-0.00276698, -0.0190908 ,  0.00388037, ..., -0.03902348,\n",
              "          0.02730102, -0.02280792],\n",
              "        [ 0.04951224,  0.03211128,  0.02331512, ..., -0.0208741 ,\n",
              "         -0.03172093, -0.03025891]],\n",
              "\n",
              "       [[ 0.02728209, -0.03907261, -0.03844235, ...,  0.02756614,\n",
              "          0.00294722, -0.02941244],\n",
              "        [-0.00617645,  0.00538363,  0.01838619, ...,  0.01045245,\n",
              "          0.02907932, -0.04637286],\n",
              "        [-0.04705178,  0.03989531,  0.03091636, ..., -0.04749797,\n",
              "          0.00924245,  0.03158284],\n",
              "        ...,\n",
              "        [ 0.03582237, -0.00495981,  0.02172397, ...,  0.0015607 ,\n",
              "          0.04367161, -0.03752198],\n",
              "        [-0.03500731,  0.00792557,  0.01836476, ..., -0.04892924,\n",
              "         -0.02973654,  0.02884791],\n",
              "        [-0.03500731,  0.00792557,  0.01836476, ..., -0.04892924,\n",
              "         -0.02973654,  0.02884791]],\n",
              "\n",
              "       [[-0.03155087, -0.00172758, -0.01386864, ..., -0.01800946,\n",
              "         -0.0275843 , -0.01379428],\n",
              "        [ 0.01595331,  0.00087934,  0.0357289 , ...,  0.04639581,\n",
              "         -0.04307879, -0.01679172],\n",
              "        [ 0.0231964 , -0.01567538, -0.00269597, ..., -0.03650385,\n",
              "          0.01595343, -0.0499737 ],\n",
              "        ...,\n",
              "        [ 0.04079894,  0.04318204, -0.02673218, ..., -0.00842289,\n",
              "          0.01153912,  0.02347736],\n",
              "        [-0.04165722,  0.03011524, -0.02073898, ...,  0.0050559 ,\n",
              "          0.01002469,  0.00291776],\n",
              "        [ 0.01595331,  0.00087934,  0.0357289 , ...,  0.04639581,\n",
              "         -0.04307879, -0.01679172]]], dtype=float32)>"
            ]
          },
          "metadata": {},
          "execution_count": 11
        }
      ]
    },
    {
      "cell_type": "markdown",
      "metadata": {
        "id": "x65Oxb8aVV5c"
      },
      "source": [
        "#### Train/Test Split"
      ]
    },
    {
      "cell_type": "code",
      "metadata": {
        "id": "7L-Q1oaDVZLw",
        "colab": {
          "base_uri": "https://localhost:8080/",
          "height": 424
        },
        "outputId": "468d3865-f1d6-4653-f1ab-78ce489f328d"
      },
      "source": [
        "from sklearn.model_selection import train_test_split\n",
        "train_split, test_split = train_test_split(sent_df, train_size=0.8, test_size=0.2)\n",
        "train_split"
      ],
      "execution_count": 12,
      "outputs": [
        {
          "output_type": "execute_result",
          "data": {
            "text/html": [
              "<div>\n",
              "<style scoped>\n",
              "    .dataframe tbody tr th:only-of-type {\n",
              "        vertical-align: middle;\n",
              "    }\n",
              "\n",
              "    .dataframe tbody tr th {\n",
              "        vertical-align: top;\n",
              "    }\n",
              "\n",
              "    .dataframe thead th {\n",
              "        text-align: right;\n",
              "    }\n",
              "</style>\n",
              "<table border=\"1\" class=\"dataframe\">\n",
              "  <thead>\n",
              "    <tr style=\"text-align: right;\">\n",
              "      <th></th>\n",
              "      <th>Sentence</th>\n",
              "      <th>Target</th>\n",
              "      <th>Label</th>\n",
              "    </tr>\n",
              "  </thead>\n",
              "  <tbody>\n",
              "    <tr>\n",
              "      <th>60</th>\n",
              "      <td>The computer employs trial and error to come u...</td>\n",
              "      <td>Reinforcement Learning</td>\n",
              "      <td>0</td>\n",
              "    </tr>\n",
              "    <tr>\n",
              "      <th>157</th>\n",
              "      <td>Support vector machine was also applied in can...</td>\n",
              "      <td>Neural network module for recognizing brain di...</td>\n",
              "      <td>1</td>\n",
              "    </tr>\n",
              "    <tr>\n",
              "      <th>147</th>\n",
              "      <td>The lack of data, complexity and heterogeneity...</td>\n",
              "      <td>Neural network module for recognizing brain di...</td>\n",
              "      <td>1</td>\n",
              "    </tr>\n",
              "    <tr>\n",
              "      <th>135</th>\n",
              "      <td>By sifting out healthy patients, the system al...</td>\n",
              "      <td>Neural network module for recognizing brain di...</td>\n",
              "      <td>1</td>\n",
              "    </tr>\n",
              "    <tr>\n",
              "      <th>23</th>\n",
              "      <td>A state can be its position, its speed, or wha...</td>\n",
              "      <td>Reinforcement Learning</td>\n",
              "      <td>0</td>\n",
              "    </tr>\n",
              "    <tr>\n",
              "      <th>...</th>\n",
              "      <td>...</td>\n",
              "      <td>...</td>\n",
              "      <td>...</td>\n",
              "    </tr>\n",
              "    <tr>\n",
              "      <th>166</th>\n",
              "      <td>Although there is wisdom of excessive prospect...</td>\n",
              "      <td>Neural network module for recognizing brain di...</td>\n",
              "      <td>1</td>\n",
              "    </tr>\n",
              "    <tr>\n",
              "      <th>155</th>\n",
              "      <td>Some solutions to recognize potential biases a...</td>\n",
              "      <td>Neural network module for recognizing brain di...</td>\n",
              "      <td>1</td>\n",
              "    </tr>\n",
              "    <tr>\n",
              "      <th>109</th>\n",
              "      <td>And AI researchers still haven’t figured out h...</td>\n",
              "      <td>Reinforcement Learning</td>\n",
              "      <td>0</td>\n",
              "    </tr>\n",
              "    <tr>\n",
              "      <th>99</th>\n",
              "      <td>“We think RL can be leveraged to advance the s...</td>\n",
              "      <td>Reinforcement Learning</td>\n",
              "      <td>0</td>\n",
              "    </tr>\n",
              "    <tr>\n",
              "      <th>98</th>\n",
              "      <td>Allen thinks the same kind of ingenuity can co...</td>\n",
              "      <td>Reinforcement Learning</td>\n",
              "      <td>0</td>\n",
              "    </tr>\n",
              "  </tbody>\n",
              "</table>\n",
              "<p>172 rows × 3 columns</p>\n",
              "</div>"
            ],
            "text/plain": [
              "                                              Sentence  ... Label\n",
              "60   The computer employs trial and error to come u...  ...     0\n",
              "157  Support vector machine was also applied in can...  ...     1\n",
              "147  The lack of data, complexity and heterogeneity...  ...     1\n",
              "135  By sifting out healthy patients, the system al...  ...     1\n",
              "23   A state can be its position, its speed, or wha...  ...     0\n",
              "..                                                 ...  ...   ...\n",
              "166  Although there is wisdom of excessive prospect...  ...     1\n",
              "155  Some solutions to recognize potential biases a...  ...     1\n",
              "109  And AI researchers still haven’t figured out h...  ...     0\n",
              "99   “We think RL can be leveraged to advance the s...  ...     0\n",
              "98   Allen thinks the same kind of ingenuity can co...  ...     0\n",
              "\n",
              "[172 rows x 3 columns]"
            ]
          },
          "metadata": {},
          "execution_count": 12
        }
      ]
    },
    {
      "cell_type": "markdown",
      "metadata": {
        "id": "fD_fyh_EUHKN"
      },
      "source": [
        "## Вирішити завдання мультикласової класифікації на створеному наборі даних із використанням методів: USE та USE-FT, здійснити порівняння моделей"
      ]
    },
    {
      "cell_type": "code",
      "metadata": {
        "id": "hIu3Fp7fttP0"
      },
      "source": [
        "from sklearn.metrics import accuracy_score, precision_recall_fscore_support\n",
        "\n",
        "def calculate_results(y_true, y_pred):\n",
        "  \"\"\"\n",
        "  Calculates model accuracy, precision, recall and f1 score of a binary classification model.\n",
        "\n",
        "  Args:\n",
        "  -----\n",
        "  y_true = true labels in the form of a 1D array\n",
        "  y_pred = predicted labels in the form of a 1D array\n",
        "\n",
        "  Returns a dictionary of accuracy, precision, recall, f1-score.\n",
        "  \"\"\"\n",
        "  # Calculate model accuracy\n",
        "  model_accuracy = accuracy_score(y_true, y_pred) * 100\n",
        "  # Calculate model precision, recall and f1 score using \"weighted\" average\n",
        "  model_precision, model_recall, model_f1, _ = precision_recall_fscore_support(y_true, y_pred, average=\"weighted\")\n",
        "  model_results = {\"accuracy\": model_accuracy,\n",
        "                  \"precision\": model_precision,\n",
        "                  \"recall\": model_recall,\n",
        "                  \"f1\": model_f1}\n",
        "  return model_results\n"
      ],
      "execution_count": 13,
      "outputs": []
    },
    {
      "cell_type": "markdown",
      "metadata": {
        "id": "cDuPl7hXwCj-"
      },
      "source": [
        "### Naive Bayes Model"
      ]
    },
    {
      "cell_type": "code",
      "metadata": {
        "colab": {
          "base_uri": "https://localhost:8080/"
        },
        "id": "Wj0nNYBawDAF",
        "outputId": "e87093a8-32cf-4c46-dd6d-ea2bbff0a046"
      },
      "source": [
        "from sklearn.feature_extraction.text import TfidfVectorizer\n",
        "from sklearn.naive_bayes import MultinomialNB\n",
        "from sklearn.pipeline import Pipeline\n",
        "\n",
        "model_NB = Pipeline([\n",
        "                    (\"tfidf\", TfidfVectorizer()), \n",
        "                    (\"clf\", MultinomialNB()) \n",
        "])\n",
        "\n",
        "# Fit the pipeline to the training data\n",
        "model_NB.fit(train_split['Sentence'], train_split['Label'])\n",
        "baseline_score = model_NB.score(test_split['Sentence'], test_split['Label'])\n",
        "print(f\"Our baseline model achieves an accuracy of: {baseline_score*100:.2f}%\")"
      ],
      "execution_count": 14,
      "outputs": [
        {
          "output_type": "stream",
          "name": "stdout",
          "text": [
            "Our baseline model achieves an accuracy of: 77.27%\n"
          ]
        }
      ]
    },
    {
      "cell_type": "markdown",
      "metadata": {
        "id": "E117zIJphJ2d"
      },
      "source": [
        "### Sentence Encoder"
      ]
    },
    {
      "cell_type": "code",
      "metadata": {
        "colab": {
          "base_uri": "https://localhost:8080/"
        },
        "id": "LNJQMuQDhJ9E",
        "outputId": "9b9ecf15-deb0-4b7f-aaa6-aa6f70147c16"
      },
      "source": [
        "import tensorflow_hub as hub\n",
        "url=\"https://tfhub.dev/google/universal-sentence-encoder/4\"\n",
        "\n",
        "sentence_encoder_layer = hub.KerasLayer(url,input_shape=[], # shape of inputs coming to our model \n",
        "                                        dtype=tf.string, # data type of inputs coming to the USE layer\n",
        "                                        trainable=False, # keep the pretrained weights (we'll create a feature extractor)\n",
        "                                        name=\"USE\")\n",
        "\n",
        "model_use = tf.keras.Sequential([\n",
        "  sentence_encoder_layer, # take in sentences and then encode them into an embedding\n",
        "  layers.Dense(64, activation=\"relu\"),\n",
        "  layers.Dense(1, activation=\"sigmoid\")\n",
        "], name=\"model_6_USE\")\n",
        "\n",
        "# Compile model\n",
        "model_use.compile(loss=\"binary_crossentropy\",\n",
        "                optimizer=tf.keras.optimizers.Adam(),\n",
        "                metrics=[\"accuracy\"])\n",
        "\n",
        "model_use.summary()\n"
      ],
      "execution_count": 15,
      "outputs": [
        {
          "output_type": "stream",
          "name": "stdout",
          "text": [
            "Model: \"model_6_USE\"\n",
            "_________________________________________________________________\n",
            " Layer (type)                Output Shape              Param #   \n",
            "=================================================================\n",
            " USE (KerasLayer)            (None, 512)               256797824 \n",
            "                                                                 \n",
            " dense (Dense)               (None, 64)                32832     \n",
            "                                                                 \n",
            " dense_1 (Dense)             (None, 1)                 65        \n",
            "                                                                 \n",
            "=================================================================\n",
            "Total params: 256,830,721\n",
            "Trainable params: 32,897\n",
            "Non-trainable params: 256,797,824\n",
            "_________________________________________________________________\n"
          ]
        }
      ]
    },
    {
      "cell_type": "code",
      "metadata": {
        "colab": {
          "base_uri": "https://localhost:8080/"
        },
        "id": "WtKcJCZAhKBi",
        "outputId": "e329f5da-5cbb-42c7-d776-9419b7324d65"
      },
      "source": [
        "model_use_history=model_use.fit(train_split['Sentence'],train_split['Label'],epochs=5,\n",
        "                        validation_data=(test_split['Sentence'],test_split['Label']))"
      ],
      "execution_count": 17,
      "outputs": [
        {
          "output_type": "stream",
          "name": "stdout",
          "text": [
            "Epoch 1/5\n",
            "6/6 [==============================] - 5s 137ms/step - loss: 0.6822 - accuracy: 0.6337 - val_loss: 0.6649 - val_accuracy: 0.7955\n",
            "Epoch 2/5\n",
            "6/6 [==============================] - 0s 33ms/step - loss: 0.6359 - accuracy: 0.9186 - val_loss: 0.6294 - val_accuracy: 0.8864\n",
            "Epoch 3/5\n",
            "6/6 [==============================] - 0s 30ms/step - loss: 0.5900 - accuracy: 0.9535 - val_loss: 0.5906 - val_accuracy: 0.8864\n",
            "Epoch 4/5\n",
            "6/6 [==============================] - 0s 29ms/step - loss: 0.5399 - accuracy: 0.9593 - val_loss: 0.5454 - val_accuracy: 0.9091\n",
            "Epoch 5/5\n",
            "6/6 [==============================] - 0s 27ms/step - loss: 0.4860 - accuracy: 0.9593 - val_loss: 0.4999 - val_accuracy: 0.9318\n"
          ]
        }
      ]
    },
    {
      "cell_type": "markdown",
      "metadata": {
        "id": "zsBs3pBzixsp"
      },
      "source": [
        "### Sentence Encoder with fine tuning"
      ]
    },
    {
      "cell_type": "code",
      "metadata": {
        "colab": {
          "base_uri": "https://localhost:8080/"
        },
        "id": "mHCEdJDLh3xD",
        "outputId": "65a1f4f6-3c64-4c16-a1fe-6c73585cdfad"
      },
      "source": [
        "tf_hub_embedding_layer = hub.KerasLayer(url,input_shape=[], # shape of inputs coming to our model \n",
        "                                        dtype=tf.string, # data type of inputs coming to the USE layer\n",
        "                                        trainable=True, \n",
        "                                        name=\"USE-FT\")\n",
        "\n",
        "model_use_ft = tf.keras.Sequential([\n",
        "  tf_hub_embedding_layer, # take in sentences and then encode them into an embedding\n",
        "  layers.Dense(64, activation=\"relu\"),\n",
        "  layers.Dense(1, activation=\"sigmoid\")\n",
        "], name=\"model_use_ft\")\n",
        "\n",
        "# Compile model\n",
        "model_use_ft.compile(loss=\"binary_crossentropy\",\n",
        "                optimizer=tf.keras.optimizers.Adam(),\n",
        "                metrics=[\"accuracy\"])\n",
        "\n",
        "\n",
        "model_use_ft.summary()\n"
      ],
      "execution_count": 18,
      "outputs": [
        {
          "output_type": "stream",
          "name": "stdout",
          "text": [
            "Model: \"model_use_ft\"\n",
            "_________________________________________________________________\n",
            " Layer (type)                Output Shape              Param #   \n",
            "=================================================================\n",
            " USE-FT (KerasLayer)         (None, 512)               256797824 \n",
            "                                                                 \n",
            " dense_2 (Dense)             (None, 64)                32832     \n",
            "                                                                 \n",
            " dense_3 (Dense)             (None, 1)                 65        \n",
            "                                                                 \n",
            "=================================================================\n",
            "Total params: 256,830,721\n",
            "Trainable params: 256,830,721\n",
            "Non-trainable params: 0\n",
            "_________________________________________________________________\n"
          ]
        }
      ]
    },
    {
      "cell_type": "code",
      "metadata": {
        "colab": {
          "base_uri": "https://localhost:8080/"
        },
        "id": "RsavUcSNjGgL",
        "outputId": "4da85c61-928d-4610-837a-fa1d92a59e53"
      },
      "source": [
        "model_use_ft_history=model_use_ft.fit(train_split['Sentence'],train_split['Label'],epochs=10,\n",
        "                        validation_data=(test_split['Sentence'],test_split['Label']))\n"
      ],
      "execution_count": 19,
      "outputs": [
        {
          "output_type": "stream",
          "name": "stdout",
          "text": [
            "Epoch 1/10\n",
            "6/6 [==============================] - 9s 372ms/step - loss: 0.6511 - accuracy: 0.7035 - val_loss: 0.6372 - val_accuracy: 0.6591\n",
            "Epoch 2/10\n",
            "6/6 [==============================] - 2s 265ms/step - loss: 0.5280 - accuracy: 0.9244 - val_loss: 0.5326 - val_accuracy: 0.7955\n",
            "Epoch 3/10\n",
            "6/6 [==============================] - 2s 264ms/step - loss: 0.3978 - accuracy: 0.9535 - val_loss: 0.4351 - val_accuracy: 0.7955\n",
            "Epoch 4/10\n",
            "6/6 [==============================] - 2s 267ms/step - loss: 0.2584 - accuracy: 0.9884 - val_loss: 0.3324 - val_accuracy: 0.9091\n",
            "Epoch 5/10\n",
            "6/6 [==============================] - 2s 272ms/step - loss: 0.1566 - accuracy: 0.9884 - val_loss: 0.3168 - val_accuracy: 0.8182\n",
            "Epoch 6/10\n",
            "6/6 [==============================] - 2s 269ms/step - loss: 0.0878 - accuracy: 0.9884 - val_loss: 0.2030 - val_accuracy: 0.9318\n",
            "Epoch 7/10\n",
            "6/6 [==============================] - 2s 266ms/step - loss: 0.0483 - accuracy: 1.0000 - val_loss: 0.1799 - val_accuracy: 0.9318\n",
            "Epoch 8/10\n",
            "6/6 [==============================] - 2s 264ms/step - loss: 0.0290 - accuracy: 1.0000 - val_loss: 0.1469 - val_accuracy: 0.9318\n",
            "Epoch 9/10\n",
            "6/6 [==============================] - 2s 263ms/step - loss: 0.0185 - accuracy: 1.0000 - val_loss: 0.1530 - val_accuracy: 0.9318\n",
            "Epoch 10/10\n",
            "6/6 [==============================] - 2s 267ms/step - loss: 0.0131 - accuracy: 1.0000 - val_loss: 0.1857 - val_accuracy: 0.9318\n"
          ]
        }
      ]
    },
    {
      "cell_type": "markdown",
      "metadata": {
        "id": "qH2ONjxtUHZc"
      },
      "source": [
        "## Здійснити порівняння ефективності моделей"
      ]
    },
    {
      "cell_type": "markdown",
      "metadata": {
        "id": "8k23lESpjSv8"
      },
      "source": [
        "### NB"
      ]
    },
    {
      "cell_type": "code",
      "metadata": {
        "id": "ROXko56mUHgl",
        "colab": {
          "base_uri": "https://localhost:8080/"
        },
        "outputId": "ae981ee3-6400-4d30-8e55-3d2abd403e27"
      },
      "source": [
        "calculate_results(test_split['Label'], model_NB.predict(test_split['Sentence']))"
      ],
      "execution_count": 20,
      "outputs": [
        {
          "output_type": "execute_result",
          "data": {
            "text/plain": [
              "{'accuracy': 77.27272727272727,\n",
              " 'f1': 0.7703745529832488,\n",
              " 'precision': 0.8538961038961038,\n",
              " 'recall': 0.7727272727272727}"
            ]
          },
          "metadata": {},
          "execution_count": 20
        }
      ]
    },
    {
      "cell_type": "markdown",
      "metadata": {
        "id": "5ieQGKVajMgr"
      },
      "source": [
        "### USE"
      ]
    },
    {
      "cell_type": "code",
      "metadata": {
        "colab": {
          "base_uri": "https://localhost:8080/"
        },
        "id": "kzWiyKslihDP",
        "outputId": "2d09b02a-c71e-4a07-f60f-341f0da35a51"
      },
      "source": [
        "model_use_preds=model_use.predict(test_split['Sentence'])\n",
        "model_use_preds=tf.squeeze(tf.round(model_use_preds))\n",
        "calculate_results(test_split['Label'],model_use_preds)"
      ],
      "execution_count": 21,
      "outputs": [
        {
          "output_type": "execute_result",
          "data": {
            "text/plain": [
              "{'accuracy': 93.18181818181817,\n",
              " 'f1': 0.9323533609247895,\n",
              " 'precision': 0.9415584415584416,\n",
              " 'recall': 0.9318181818181818}"
            ]
          },
          "metadata": {},
          "execution_count": 21
        }
      ]
    },
    {
      "cell_type": "markdown",
      "metadata": {
        "id": "ebVTNVgejNHS"
      },
      "source": [
        "### USE-FT"
      ]
    },
    {
      "cell_type": "code",
      "metadata": {
        "colab": {
          "base_uri": "https://localhost:8080/"
        },
        "id": "5oQkOhPrjLmL",
        "outputId": "5934e817-a746-47ee-ac3c-3221bc864403"
      },
      "source": [
        "model_use_ft_preds=model_use_ft.predict(test_split['Sentence'])\n",
        "model_use_ft_preds=tf.squeeze(tf.round(model_use_ft_preds))\n",
        "calculate_results(test_split['Label'],model_use_ft_preds)"
      ],
      "execution_count": 22,
      "outputs": [
        {
          "output_type": "execute_result",
          "data": {
            "text/plain": [
              "{'accuracy': 93.18181818181817,\n",
              " 'f1': 0.9323533609247895,\n",
              " 'precision': 0.9415584415584416,\n",
              " 'recall': 0.9318181818181818}"
            ]
          },
          "metadata": {},
          "execution_count": 22
        }
      ]
    },
    {
      "cell_type": "code",
      "metadata": {
        "id": "VqKICk7nj4fm"
      },
      "source": [
        ""
      ],
      "execution_count": null,
      "outputs": []
    }
  ]
}