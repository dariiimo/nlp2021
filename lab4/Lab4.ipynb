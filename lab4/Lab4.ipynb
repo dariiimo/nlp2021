{
  "nbformat": 4,
  "nbformat_minor": 0,
  "metadata": {
    "colab": {
      "name": "Lab4.ipynb",
      "provenance": [],
      "collapsed_sections": [],
      "include_colab_link": true
    },
    "kernelspec": {
      "name": "python3",
      "display_name": "Python 3"
    },
    "language_info": {
      "name": "python"
    },
    "accelerator": "GPU"
  },
  "cells": [
    {
      "cell_type": "markdown",
      "metadata": {
        "id": "view-in-github",
        "colab_type": "text"
      },
      "source": [
        "<a href=\"https://colab.research.google.com/github/dariiimo/nlp2021/blob/main/lab4/Lab4.ipynb\" target=\"_parent\"><img src=\"https://colab.research.google.com/assets/colab-badge.svg\" alt=\"Open In Colab\"/></a>"
      ]
    },
    {
      "cell_type": "code",
      "metadata": {
        "id": "3suJfqw4OdIB"
      },
      "source": [
        "import numpy as np, pandas as pd, tensorflow as tf, requests as rqst, io\n",
        "from tensorflow.keras.layers.experimental.preprocessing import TextVectorization\n",
        "from tensorflow.keras import layers\n",
        "\n",
        "rnd = np.random.randint\n",
        "\n",
        "folder = '/content/drive/MyDrive/нлп/'"
      ],
      "execution_count": 7,
      "outputs": []
    },
    {
      "cell_type": "code",
      "metadata": {
        "colab": {
          "base_uri": "https://localhost:8080/"
        },
        "id": "CpfL4lOIIU0x",
        "outputId": "227e112e-b693-45c5-9a77-81bc0e72934f"
      },
      "source": [
        "from google.colab import drive\n",
        "drive.mount('/content/drive')"
      ],
      "execution_count": 1,
      "outputs": [
        {
          "output_type": "stream",
          "name": "stdout",
          "text": [
            "Mounted at /content/drive\n"
          ]
        }
      ]
    },
    {
      "cell_type": "markdown",
      "metadata": {
        "id": "zjXyPRttUE2S"
      },
      "source": [
        "## На основі підготовлених у попередній лабораторній роботі речень кожного з учасників створити загальний набір даних розмірністю (100, n), де n -кількість учасників команди, та відповідні мітки класів до них\n"
      ]
    },
    {
      "cell_type": "code",
      "metadata": {
        "colab": {
          "base_uri": "https://localhost:8080/"
        },
        "id": "_1bwxXcKUAgf",
        "outputId": "117d2453-22c8-4f0e-f37e-d23273f0c17b"
      },
      "source": [
        "RL_file = open(folder+'sentences.txt')\n",
        "RL_sentences = RL_file.read().split('. ')[:-1]\n",
        "\n",
        "DARINA_file = open(folder+'100.txt', encoding='windows-1251')\n",
        "DARINA_sentences = DARINA_file.read().split('. ')[:-1]\n",
        "\n",
        "\n",
        "max_tokens = 10000\n",
        "\n",
        "sentences = RL_sentences+DARINA_sentences\n",
        "tokens_count = 0\n",
        "for sent in sentences:\n",
        "  tokens_count+=len(sent.split())\n",
        "avg_tokens = round(tokens_count/len(sentences))\n",
        "avg_tokens\n",
        "\n",
        "\n",
        "RL_sentences"
      ],
      "execution_count": 8,
      "outputs": [
        {
          "output_type": "execute_result",
          "data": {
            "text/plain": [
              "['Training a virtual agent to outperform human players can teach us how to optimize different processes in a variety of different and exciting subfields',\n",
              " 'This is what Google DeepMind did with its popular AlphaGo, which beat the strongest Go player in history and scored a goal that was considered impossible at the time.In this article, we will develop an AI agent that is able to learn how to play the popular game Snake from scratch',\n",
              " 'To do it, we implement a Deep Reinforcement Learning algorithm using both Keras on top of Tensorflow and PyTorch (both versions are available, you can choose the one you prefer)',\n",
              " 'This approach consists in the interaction between two components: an environment (the game itself) and an agent (Snake)',\n",
              " 'The agent collects information about its current state (we will see later what this means) and performs an action accordingly',\n",
              " 'The environment rewards or punishes the agent based on the performed action',\n",
              " 'Over time, the agent learns what actions maximize the reward (in our case, what actions lead to eating the apple and avoiding the walls)',\n",
              " 'No rules about the game are given',\n",
              " 'Initially, Snake does not know what to do and performs random actions',\n",
              " 'The goal is to elaborate a strategy (technically called “policy”) to maximize the score — or the reward.We are going to see how a Deep Q-Learning algorithm learns to play Snake, scoring up to 50 points and showing a solid strategy in just 5 minutes of training',\n",
              " 'Optionally, the code shows how to optimize the Artificial Neural Network using Bayesian Optimization',\n",
              " 'Reinforcement Learning is a family of algorithms and techniques used for Control (e.g',\n",
              " 'Robotics, Autonomous driving, etc..) and Decision making',\n",
              " 'These approaches solve problems that need to be expressed as a Markov Decision Process (MDP)',\n",
              " 'What does this mean? It means that we need to describe our game by a set of states S (for example, an index based on Snake’s position), a set of actions A (for example, Up, Down, Right, Left), a reward function R (for example, +10 when Snake eats an apple, -10 when Snakes hits a wall) and optionally a transition function T that describes the transitions among states',\n",
              " 'Traditional ML algorithms need to be trained with an input and a “correct answer” called target',\n",
              " 'The system will then try to learn how to predict targets based on unseen inputs',\n",
              " 'In this example, we don’t know the best action to take at each state of the game (this is actually what we are trying to learn!), so a traditional approach would not be effective',\n",
              " 'In Reinforcement Learning, we have two main components: the environment (our game) and the agent (our Snake.',\n",
              " 'or to be correct, the Deep Neural Network that drives our Snake’s actions)',\n",
              " 'Every time the agent performs an action, the environment gives a reward to the agent, which can be positive or negative depending on how good the action was from that specific state',\n",
              " 'The goal of the agent is to learn what actions maximize the reward, given every possible state',\n",
              " 'States are the observations that the agent receives at each iteration from the environment',\n",
              " 'A state can be its position, its speed, or whatever array of variables describes the environment',\n",
              " 'To be more rigorous and to use a Reinforcement Learning notation, the strategy used by the agent to make decisions is called policy',\n",
              " 'On a theoretical level, a policy is a mapping from the state space (the space of all the possible observations that the agent can receive) into the action space (the space of all the actions the agent can take, say UP, DOWN, LEFT and RIGHT)',\n",
              " 'A Q-table is a matrix that correlates the state of the agent with the possible actions that the agent can adopt',\n",
              " 'The values in the table are the action’s probability of success (technically, a measure of the expected cumulative reward), which were updated based on the rewards the agent received during training',\n",
              " 'In the example, we might want to choose RIGHT if we are in State 2, and we might want to go UP if we are in State 4',\n",
              " 'The values in the Q-Table represent the cumulative expected reward of taking action a from a state s',\n",
              " 'In other words, these values give us an indication of the average reward that the agent obtains if it takes action a from that state s',\n",
              " 'This table is the policy of the agent that we mentioned before: it determines what actions should be taken from every state to maximize the expected reward',\n",
              " 'Deep Q-Learning increases the potentiality of Q-Learning by converting the table into Deep Neural Network — that is a powerful representation of a parametrized function',\n",
              " 'When the AI chooses and performs the action, the environment gives a reward to the agent',\n",
              " 'Then, the agent reaches the new state state’ and it updates its Q-value according to the Bellman equation as mentioned above',\n",
              " 'Also, for each move, it stores the original state, the action, the state reached after performed that action, the reward obtained and whether the game ended or not',\n",
              " 'This data is later sampled to train the neural network',\n",
              " 'This operation is called Replay Memory',\n",
              " 'A state is the representation of a situation in which the agent finds itself',\n",
              " 'The state also represents the input of the Neural network',\n",
              " 'the AI tries to maximize the expected reward',\n",
              " 'In our case, a positive reward is only given to the agent when it eats the food target (+10)',\n",
              " 'If the snake hits a wall or hits itself, the reward is negative (-10)',\n",
              " 'Additionally, we could give a positive reward for each step Snake takes without dying',\n",
              " 'In that case, Snake might exploit the situation by running in a circle instead of reaching the food, since it would get positive rewards for each step while avoiding the risk of collision against a wall',\n",
              " 'Sometimes, Reinforcement Learning agents outsmart us, presenting flaws in our strategy that we did not anticipate',\n",
              " 'The brain of the Artificial Intelligence agent uses Deep learning',\n",
              " 'In our case, it consists of 3 hidden layers of 120 neurons',\n",
              " 'The learning rate is not fixed, it starts at 0.0005 and decreases to 0.000005',\n",
              " 'Different architectures and different hyper-parameters contribute to a quicker convergence to an optimum, as well as possible highest scores',\n",
              " 'The network receives as input the state, and returns as output three values related to the three actions: move left, move right, move straight',\n",
              " 'The last layer uses the Softmax function',\n",
              " 'This example shows how a simple agent can learn the mechanism of a process, in this case the game Snake, in a few minutes and with a few lines of code',\n",
              " 'I strongly suggest to dive into the code and to try to improve the result',\n",
              " 'An interesting upgrade might be obtained passing screenshots of the current game for each iteration',\n",
              " 'In that case, the state could be the RGB information for each pixel',\n",
              " 'The Deep Q-Learning model can be replaced with a Double Deep Q-learning algorithm, for a more precise convergence',\n",
              " 'Reinforcement learning is the training of machine learning models to make a sequence of decisions',\n",
              " 'The agent learns to achieve a goal in an uncertain, potentially complex environment',\n",
              " 'In reinforcement learning, an artificial intelligence faces a game-like situation',\n",
              " 'The computer employs trial and error to come up with a solution to the problem',\n",
              " 'To get the machine to do what the programmer wants, the artificial intelligence gets either rewards or penalties for the actions it performs',\n",
              " 'Its goal is to maximize the total reward',\n",
              " 'Although the designer sets the reward policy–that is, the rules of the game–he gives the model no hints or suggestions for how to solve the game',\n",
              " 'It’s up to the model to figure out how to perform the task to maximize the reward, starting from totally random trials and finishing with sophisticated tactics and superhuman skills',\n",
              " 'By leveraging the power of search and many trials, reinforcement learning is currently the most effective way to hint machine’s creativity',\n",
              " 'In contrast to human beings, artificial intelligence can gather experience from thousands of parallel gameplays if a reinforcement learning algorithm is run on a sufficiently powerful computer infrastructure',\n",
              " 'in usual circumstances we would require an autonomous vehicle to put safety first, minimize ride time, reduce pollution, offer passengers comfort and obey the rules of law',\n",
              " 'With an autonomous race car, on the other hand, we would emphasize speed much more than the driver’s comfort',\n",
              " 'The programmer cannot predict everything that could happen on the road',\n",
              " 'Instead of building lengthy “if-then” instructions, the programmer prepares the reinforcement learning agent to be capable of learning from the system of rewards and penalties',\n",
              " 'The agent (another name for reinforcement learning algorithms performing the task) gets rewards for reaching specific goals',\n",
              " 'deepsense.ai took part in the “Learning to run” project, which aimed to train a virtual runner from scratch',\n",
              " 'The runner is an advanced and precise musculoskeletal model designed by the Stanford Neuromuscular Biomechanics Laboratory',\n",
              " 'Learning the agent how to run is a first step in building a new generation of prosthetic legs, ones that automatically recognize people’s walking patterns and tweak themselves to make moving easier and more effective',\n",
              " 'While it is possible and has been done in Stanford’s labs, hard-wiring all the commands and predicting all possible patterns of walking requires a lot of work from highly skilled programmers',\n",
              " 'Reinforcement learning, as stated above employs a system of rewards and penalties to compel the computer to solve a problem by itself',\n",
              " 'Human involvement is limited to changing the environment and tweaking the system of rewards and penalties',\n",
              " 'As the computer maximizes the reward, it is prone to seeking unexpected ways of doing it',\n",
              " 'Human involvement is focused on preventing it from exploiting the system and motivating the machine to perform the task in the way expected',\n",
              " 'Reinforcement learning is useful when there is no “proper way” to perform a task, yet there are rules the model has to follow to perform its duties correctly',\n",
              " 'By tweaking and seeking the optimal policy for deep reinforcement learning, we built an agent that in just 20 minutes reached a superhuman level in playing Atari games',\n",
              " 'Similar algorithms in principal can be used to build AI for an autonomous car or a prosthetic leg',\n",
              " 'In fact, one of the best ways to evaluate the reinforcement learning approach is to give the model an Atari video game to play, such as Arkanoid or Space Invaders',\n",
              " 'According to Google Brain’s Marc G',\n",
              " 'Bellemare, who introduced Atari video games as a reinforcement learning benchmark, “although challenging, these environments remain simple enough that we can hope to achieve measurable progress as we attempt to solve them”',\n",
              " 'Deep reinforcement learning, the algorithm used by state-of-the-art game-playing bots, starts by providing an agent with a set of possible actions in the game, a mechanism to receive feedback from the environment, and a goal to pursue',\n",
              " 'Then, through numerous episodes of gameplay, the RL agent gradually goes from taking random actions to learning sequences of actions that can help it maximize its goal',\n",
              " 'Early research of deep reinforcement learning relied on the agent being pretrained on gameplay data from human players',\n",
              " 'More recently, researchers have been able to develop RL agents that can learn games from scratch through pure self-play without human input',\n",
              " 'In their study, the researchers at MIT Lincoln Laboratory were interested in finding out if a reinforcement learning program that outperforms humans could become a reliable coworker to humans',\n",
              " '“At a very high level, this work was inspired by the question: What technology gaps exist that prevent reinforcement learning (RL) from being applied to real-world problems, not just video games?” Dr',\n",
              " 'Ross Allen, AI researcher at Lincoln Laboratory and co-author of the paper, told TechTalks',\n",
              " '“While many such technology gaps exist (e.g., the real world is characterized by uncertainty/partial-observability, data scarcity, ambiguous/nuanced objectives, disparate timescales of decision making, etc.), we identified the need to collaborate with humans as a key technology gap for applying RL in the real-world',\n",
              " 'In fact, in some cases, the reinforcement systems have managed to hack the games and find tricks that baffled even the most talented and experienced human players',\n",
              " 'One famous example was a move made by DeepMind’s AlphaGo in its matchup against Go world champion Lee Sedol',\n",
              " 'Analysts first thought the move was a mistake because it went against the intuitions of human experts',\n",
              " 'But the same move ended up turning the tide in favor of the AI player and defeating Sedol',\n",
              " 'Allen thinks the same kind of ingenuity can come into play when RL is teamed up with humans',\n",
              " '“We think RL can be leveraged to advance the state of the art of human-AI collaboration by avoiding the preconceived assumptions and biases that characterize ‘rule-based expert systems,” Allen said',\n",
              " 'Reinforcement learning is a special branch of AI algorithms that is composed of three key elements: an environment, agents, and rewards',\n",
              " 'By performing actions, the agent changes its own state and that of the environment',\n",
              " 'Based on how much those actions affect the goal the agent must achieve, it is rewarded or penalized',\n",
              " 'In many reinforcement learning problems, the agent has no initial knowledge of the environment and starts by taking random actions',\n",
              " 'Based on the feedback it receives, the agent learns to tune its actions and develop policies that maximize its reward',\n",
              " 'In their paper, the researchers at DeepMind suggest reinforcement learning as the main algorithm that can replicate reward maximization as seen in nature and can eventually lead to artificial general intelligence',\n",
              " '“If an agent can continually adjust its behaviour so as to improve its cumulative reward, then any abilities that are repeatedly demanded by its environment must ultimately be produced in the agent’s behaviour,” the researchers write, adding that, in the course of maximizing for its reward, a good reinforcement learning agent could eventually learn perception, language, social intelligence and so forth',\n",
              " '“We do not offer any theoretical guarantee on the sample efficiency of reinforcement learning agents.” Reinforcement learning is notoriously renowned for requiring huge amounts of data',\n",
              " 'For instance, a reinforcement learning agent might need centuries worth of gameplay to master a computer game',\n",
              " 'And AI researchers still haven’t figured out how to create reinforcement learning systems that can generalize their learnings across several domains',\n",
              " 'Therefore, slight changes to the environment often require the full retraining of the model',\n",
              " 'The researchers also acknowledge that learning mechanisms for reward maximization is an unsolved problem that remains a central question to be further studied in reinforcement learning',\n",
              " 'In “Chip Placement with Deep Reinforcement Learning”, we pose chip placement as a reinforcement learning (RL) problem, where we train an agent (i.e, an RL policy) to optimize the quality of chip placements',\n",
              " 'Unlike prior methods, our approach has the ability to learn from past experience and improve over time',\n",
              " 'In particular, as we train over a greater number of chip blocks, our method becomes better at rapidly generating optimized placements for previously unseen chip blocks',\n",
              " 'Whereas existing baselines require human experts in the loop and take several weeks to generate, our method can generate placements in under six hours that outperform or match their manually designed counterparts']"
            ]
          },
          "metadata": {},
          "execution_count": 8
        }
      ]
    },
    {
      "cell_type": "code",
      "metadata": {
        "colab": {
          "base_uri": "https://localhost:8080/",
          "height": 424
        },
        "id": "xXFtRDHpobtl",
        "outputId": "2cc43a3e-3a7d-41bf-b3f6-5e408ff6ed40"
      },
      "source": [
        "sent_df = []\n",
        "\n",
        "for sent in RL_sentences:\n",
        "  sent_df.append({'Sentence':sent, 'Target':'Reinforcement Learning'})\n",
        "\n",
        "for sent in DARINA_sentences:\n",
        "  sent_df.append({'Sentence':sent, 'Target':'Neural network module for recognizing brain diseases'})\n",
        "\n",
        "sent_df = pd.DataFrame(data=sent_df, columns=['Sentence', 'Target'])\n",
        "\n",
        "sent_df['Label'] = sent_df['Target']\n",
        "sent_df.replace({'Label':{'Reinforcement Learning':0, 'Neural network module for recognizing brain diseases':1}}, inplace=True)\n",
        "sent_df"
      ],
      "execution_count": 9,
      "outputs": [
        {
          "output_type": "execute_result",
          "data": {
            "text/html": [
              "<div>\n",
              "<style scoped>\n",
              "    .dataframe tbody tr th:only-of-type {\n",
              "        vertical-align: middle;\n",
              "    }\n",
              "\n",
              "    .dataframe tbody tr th {\n",
              "        vertical-align: top;\n",
              "    }\n",
              "\n",
              "    .dataframe thead th {\n",
              "        text-align: right;\n",
              "    }\n",
              "</style>\n",
              "<table border=\"1\" class=\"dataframe\">\n",
              "  <thead>\n",
              "    <tr style=\"text-align: right;\">\n",
              "      <th></th>\n",
              "      <th>Sentence</th>\n",
              "      <th>Target</th>\n",
              "      <th>Label</th>\n",
              "    </tr>\n",
              "  </thead>\n",
              "  <tbody>\n",
              "    <tr>\n",
              "      <th>0</th>\n",
              "      <td>Training a virtual agent to outperform human p...</td>\n",
              "      <td>Reinforcement Learning</td>\n",
              "      <td>0</td>\n",
              "    </tr>\n",
              "    <tr>\n",
              "      <th>1</th>\n",
              "      <td>This is what Google DeepMind did with its popu...</td>\n",
              "      <td>Reinforcement Learning</td>\n",
              "      <td>0</td>\n",
              "    </tr>\n",
              "    <tr>\n",
              "      <th>2</th>\n",
              "      <td>To do it, we implement a Deep Reinforcement Le...</td>\n",
              "      <td>Reinforcement Learning</td>\n",
              "      <td>0</td>\n",
              "    </tr>\n",
              "    <tr>\n",
              "      <th>3</th>\n",
              "      <td>This approach consists in the interaction betw...</td>\n",
              "      <td>Reinforcement Learning</td>\n",
              "      <td>0</td>\n",
              "    </tr>\n",
              "    <tr>\n",
              "      <th>4</th>\n",
              "      <td>The agent collects information about its curre...</td>\n",
              "      <td>Reinforcement Learning</td>\n",
              "      <td>0</td>\n",
              "    </tr>\n",
              "    <tr>\n",
              "      <th>...</th>\n",
              "      <td>...</td>\n",
              "      <td>...</td>\n",
              "      <td>...</td>\n",
              "    </tr>\n",
              "    <tr>\n",
              "      <th>211</th>\n",
              "      <td>This includes balancing the prospective benefi...</td>\n",
              "      <td>Neural network module for recognizing brain di...</td>\n",
              "      <td>1</td>\n",
              "    </tr>\n",
              "    <tr>\n",
              "      <th>212</th>\n",
              "      <td>Users report their symptoms into the app, whic...</td>\n",
              "      <td>Neural network module for recognizing brain di...</td>\n",
              "      <td>1</td>\n",
              "    </tr>\n",
              "    <tr>\n",
              "      <th>213</th>\n",
              "      <td>Most common users could be people with serious...</td>\n",
              "      <td>Neural network module for recognizing brain di...</td>\n",
              "      <td>1</td>\n",
              "    </tr>\n",
              "    <tr>\n",
              "      <th>214</th>\n",
              "      <td>Body scans can spot cancer and vascular diseas...</td>\n",
              "      <td>Neural network module for recognizing brain di...</td>\n",
              "      <td>1</td>\n",
              "    </tr>\n",
              "    <tr>\n",
              "      <th>215</th>\n",
              "      <td>Since the first step in health care is compili...</td>\n",
              "      <td>Neural network module for recognizing brain di...</td>\n",
              "      <td>1</td>\n",
              "    </tr>\n",
              "  </tbody>\n",
              "</table>\n",
              "<p>216 rows × 3 columns</p>\n",
              "</div>"
            ],
            "text/plain": [
              "                                              Sentence  ... Label\n",
              "0    Training a virtual agent to outperform human p...  ...     0\n",
              "1    This is what Google DeepMind did with its popu...  ...     0\n",
              "2    To do it, we implement a Deep Reinforcement Le...  ...     0\n",
              "3    This approach consists in the interaction betw...  ...     0\n",
              "4    The agent collects information about its curre...  ...     0\n",
              "..                                                 ...  ...   ...\n",
              "211  This includes balancing the prospective benefi...  ...     1\n",
              "212  Users report their symptoms into the app, whic...  ...     1\n",
              "213  Most common users could be people with serious...  ...     1\n",
              "214  Body scans can spot cancer and vascular diseas...  ...     1\n",
              "215  Since the first step in health care is compili...  ...     1\n",
              "\n",
              "[216 rows x 3 columns]"
            ]
          },
          "metadata": {},
          "execution_count": 9
        }
      ]
    },
    {
      "cell_type": "markdown",
      "metadata": {
        "id": "NeH6e0tRVV78"
      },
      "source": [
        "#### Tokenization&Embedding"
      ]
    },
    {
      "cell_type": "code",
      "metadata": {
        "id": "Fm1gjy-eUHB4",
        "colab": {
          "base_uri": "https://localhost:8080/"
        },
        "outputId": "a5e6de59-efc9-41d6-e10c-8c42265a6f9c"
      },
      "source": [
        "text_vectorizer = TextVectorization(max_tokens=max_tokens, \n",
        "                                    standardize=\"lower_and_strip_punctuation\", \n",
        "                                    split=\"whitespace\", \n",
        "                                    ngrams=None, \n",
        "                                    output_mode=\"int\",\n",
        "                                    output_sequence_length=avg_tokens, \n",
        "                                    pad_to_max_tokens=True)\n",
        "\n",
        "text_vectorizer.adapt(sent_df['Sentence'])\n",
        "\n",
        "text_vectorizer(sent_df['Sentence'])"
      ],
      "execution_count": 10,
      "outputs": [
        {
          "output_type": "execute_result",
          "data": {
            "text/plain": [
              "<tf.Tensor: shape=(216, 23), dtype=int64, numpy=\n",
              "array([[ 108,    6,  340, ...,  120,    4, 1214],\n",
              "       [  27,    8,   47, ...,    6,   76,    9],\n",
              "       [   3,  152,   26, ...,  618,   22,  216],\n",
              "       ...,\n",
              "       [  86,  314,  342, ...,    7,   64,  126],\n",
              "       [1387,  794,   20, ..., 1159,    0,    0],\n",
              "       [ 244,    2,  119, ...,  446,    8,    2]])>"
            ]
          },
          "metadata": {},
          "execution_count": 10
        }
      ]
    },
    {
      "cell_type": "code",
      "metadata": {
        "colab": {
          "base_uri": "https://localhost:8080/"
        },
        "id": "HsUT7y2avSdJ",
        "outputId": "bbd290ae-efba-4e84-a4cb-69c36ff476b0"
      },
      "source": [
        "embedding = layers.Embedding(input_dim=max_tokens, \n",
        "                             output_dim=128, \n",
        "                             embeddings_initializer=\"uniform\", \n",
        "                             input_length=avg_tokens) \n",
        "\n",
        "embedding(text_vectorizer(sent_df['Sentence']))"
      ],
      "execution_count": 11,
      "outputs": [
        {
          "output_type": "execute_result",
          "data": {
            "text/plain": [
              "<tf.Tensor: shape=(216, 23, 128), dtype=float32, numpy=\n",
              "array([[[-3.34585682e-02,  2.19931938e-02,  3.51932384e-02, ...,\n",
              "         -1.09933130e-02,  1.73860677e-02, -6.33150339e-03],\n",
              "        [ 5.09514660e-03, -4.65407036e-02,  3.56550477e-02, ...,\n",
              "         -1.81864724e-02, -4.93431352e-02,  2.93092839e-02],\n",
              "        [-3.91652472e-02, -2.60280501e-02,  2.39366628e-02, ...,\n",
              "         -2.06253417e-02, -2.71889213e-02,  3.66695188e-02],\n",
              "        ...,\n",
              "        [ 1.23544335e-02,  4.77907173e-02, -2.54435297e-02, ...,\n",
              "         -6.12269714e-03, -8.67024064e-05, -1.51677951e-02],\n",
              "        [-2.47760657e-02,  1.09596029e-02, -7.10070133e-03, ...,\n",
              "         -1.80762038e-02, -1.73626095e-03, -3.05696018e-02],\n",
              "        [ 1.27626397e-02, -2.70363335e-02, -4.93188277e-02, ...,\n",
              "         -3.70488539e-02,  4.61219810e-02, -4.66816798e-02]],\n",
              "\n",
              "       [[-7.47419894e-04, -1.97347049e-02, -4.85479943e-02, ...,\n",
              "         -3.62601168e-02,  1.22018829e-02,  1.05051510e-02],\n",
              "        [-3.75435948e-02,  4.50884737e-02,  3.26969065e-02, ...,\n",
              "         -3.50538716e-02,  3.86068113e-02, -1.02178343e-02],\n",
              "        [-3.35616991e-03, -4.80600372e-02, -1.06247514e-03, ...,\n",
              "          1.17643476e-02, -3.24730761e-02, -1.03603378e-02],\n",
              "        ...,\n",
              "        [ 5.09514660e-03, -4.65407036e-02,  3.56550477e-02, ...,\n",
              "         -1.81864724e-02, -4.93431352e-02,  2.93092839e-02],\n",
              "        [ 1.76721811e-03,  2.10888125e-02, -4.34073098e-02, ...,\n",
              "         -4.33439612e-02,  4.66906540e-02, -7.20299780e-04],\n",
              "        [-2.52064224e-02,  2.40355469e-02,  5.78606129e-03, ...,\n",
              "          4.77771498e-02,  1.34433247e-02,  3.33256759e-02]],\n",
              "\n",
              "       [[ 2.36772932e-02, -2.98537500e-02, -3.61258164e-02, ...,\n",
              "         -4.24524061e-02,  4.16637547e-02,  5.96256182e-03],\n",
              "        [ 3.35628502e-02, -7.69413635e-03,  3.07477638e-03, ...,\n",
              "         -1.69271231e-02, -1.07127428e-03, -3.19694057e-02],\n",
              "        [-3.36464867e-02, -1.74327716e-02,  2.01829709e-02, ...,\n",
              "         -1.37640946e-02, -8.90623406e-03, -6.88087195e-04],\n",
              "        ...,\n",
              "        [-4.38355468e-02, -1.04870200e-02,  2.54299492e-03, ...,\n",
              "          4.89842184e-02,  3.86274494e-02, -1.19741932e-02],\n",
              "        [ 1.61778666e-02,  1.18829012e-02,  8.21994618e-03, ...,\n",
              "          1.65976547e-02,  1.01476312e-02,  3.36877219e-02],\n",
              "        [ 4.84489314e-02, -3.95299196e-02,  1.16593242e-02, ...,\n",
              "          3.06658186e-02,  2.88749225e-02, -3.35044265e-02]],\n",
              "\n",
              "       ...,\n",
              "\n",
              "       [[-3.37028652e-02, -2.71107908e-02, -2.88504250e-02, ...,\n",
              "          3.20729502e-02,  1.06613412e-02, -1.59038790e-02],\n",
              "        [-2.63820775e-02, -2.15768106e-02,  3.21535505e-02, ...,\n",
              "          1.26180165e-02, -7.18282536e-03,  2.25416906e-02],\n",
              "        [-2.84314286e-02, -3.04997806e-02, -7.51562044e-03, ...,\n",
              "         -1.15741380e-02,  1.89887770e-02, -3.53877172e-02],\n",
              "        ...,\n",
              "        [ 3.61609198e-02,  3.00325416e-02, -6.71101734e-03, ...,\n",
              "         -4.93581295e-02,  4.67886813e-02,  2.37012021e-02],\n",
              "        [-1.02895498e-02,  2.31741741e-03,  3.79612707e-02, ...,\n",
              "          4.70708944e-02,  2.74805091e-02, -4.55964915e-02],\n",
              "        [-1.54358745e-02, -4.51550595e-02, -5.97845763e-04, ...,\n",
              "          8.22548941e-03,  2.81874798e-02,  2.43896246e-03]],\n",
              "\n",
              "       [[ 6.94328547e-03,  7.33376667e-03,  1.42204762e-03, ...,\n",
              "         -3.25258002e-02, -5.07376343e-03, -9.56766680e-03],\n",
              "        [ 1.11749992e-02,  1.29639022e-02, -6.83097914e-03, ...,\n",
              "         -1.68469325e-02,  4.75481786e-02,  3.01193111e-02],\n",
              "        [-3.09960730e-02,  5.82456589e-04,  2.83118337e-03, ...,\n",
              "          4.65929508e-03,  2.83139981e-02, -3.64618190e-02],\n",
              "        ...,\n",
              "        [-3.47976312e-02,  4.34607752e-02,  3.36719863e-02, ...,\n",
              "         -4.25686240e-02, -8.48488882e-03,  4.12111990e-02],\n",
              "        [-4.69672196e-02, -2.49309298e-02,  4.96655367e-02, ...,\n",
              "         -3.79129052e-02, -8.69769976e-03, -2.28872150e-03],\n",
              "        [-4.69672196e-02, -2.49309298e-02,  4.96655367e-02, ...,\n",
              "         -3.79129052e-02, -8.69769976e-03, -2.28872150e-03]],\n",
              "\n",
              "       [[ 4.67280410e-02,  1.39903910e-02, -4.18348089e-02, ...,\n",
              "          4.28486615e-04, -4.02951613e-02,  3.03485729e-02],\n",
              "        [ 3.14154513e-02,  8.18630308e-03,  7.47264549e-03, ...,\n",
              "          1.36744715e-02, -4.81546894e-02, -3.47895510e-02],\n",
              "        [-1.15579590e-02,  3.14325355e-02,  1.75424330e-02, ...,\n",
              "          3.34650539e-02, -9.92242247e-03,  3.79274599e-02],\n",
              "        ...,\n",
              "        [ 1.27911232e-02, -2.82482058e-03,  2.09658407e-02, ...,\n",
              "          3.15466411e-02,  3.20626013e-02, -8.25878233e-03],\n",
              "        [-3.75435948e-02,  4.50884737e-02,  3.26969065e-02, ...,\n",
              "         -3.50538716e-02,  3.86068113e-02, -1.02178343e-02],\n",
              "        [ 3.14154513e-02,  8.18630308e-03,  7.47264549e-03, ...,\n",
              "          1.36744715e-02, -4.81546894e-02, -3.47895510e-02]]],\n",
              "      dtype=float32)>"
            ]
          },
          "metadata": {},
          "execution_count": 11
        }
      ]
    },
    {
      "cell_type": "markdown",
      "metadata": {
        "id": "x65Oxb8aVV5c"
      },
      "source": [
        "#### Train/Test Split"
      ]
    },
    {
      "cell_type": "code",
      "metadata": {
        "id": "7L-Q1oaDVZLw",
        "colab": {
          "base_uri": "https://localhost:8080/",
          "height": 424
        },
        "outputId": "f3aeb79d-3ada-4b7e-ffef-33e5894084cf"
      },
      "source": [
        "from sklearn.model_selection import train_test_split\n",
        "train_split, test_split = train_test_split(sent_df, train_size=0.8, test_size=0.2)\n",
        "train_split"
      ],
      "execution_count": 12,
      "outputs": [
        {
          "output_type": "execute_result",
          "data": {
            "text/html": [
              "<div>\n",
              "<style scoped>\n",
              "    .dataframe tbody tr th:only-of-type {\n",
              "        vertical-align: middle;\n",
              "    }\n",
              "\n",
              "    .dataframe tbody tr th {\n",
              "        vertical-align: top;\n",
              "    }\n",
              "\n",
              "    .dataframe thead th {\n",
              "        text-align: right;\n",
              "    }\n",
              "</style>\n",
              "<table border=\"1\" class=\"dataframe\">\n",
              "  <thead>\n",
              "    <tr style=\"text-align: right;\">\n",
              "      <th></th>\n",
              "      <th>Sentence</th>\n",
              "      <th>Target</th>\n",
              "      <th>Label</th>\n",
              "    </tr>\n",
              "  </thead>\n",
              "  <tbody>\n",
              "    <tr>\n",
              "      <th>106</th>\n",
              "      <td>“If an agent can continually adjust its behavi...</td>\n",
              "      <td>Reinforcement Learning</td>\n",
              "      <td>0</td>\n",
              "    </tr>\n",
              "    <tr>\n",
              "      <th>104</th>\n",
              "      <td>Based on the feedback it receives, the agent l...</td>\n",
              "      <td>Reinforcement Learning</td>\n",
              "      <td>0</td>\n",
              "    </tr>\n",
              "    <tr>\n",
              "      <th>115</th>\n",
              "      <td>Whereas existing baselines require human exper...</td>\n",
              "      <td>Reinforcement Learning</td>\n",
              "      <td>0</td>\n",
              "    </tr>\n",
              "    <tr>\n",
              "      <th>71</th>\n",
              "      <td>The agent (another name for reinforcement lear...</td>\n",
              "      <td>Reinforcement Learning</td>\n",
              "      <td>0</td>\n",
              "    </tr>\n",
              "    <tr>\n",
              "      <th>120</th>\n",
              "      <td>With facial recognition one can take as many f...</td>\n",
              "      <td>Neural network module for recognizing brain di...</td>\n",
              "      <td>1</td>\n",
              "    </tr>\n",
              "    <tr>\n",
              "      <th>...</th>\n",
              "      <td>...</td>\n",
              "      <td>...</td>\n",
              "      <td>...</td>\n",
              "    </tr>\n",
              "    <tr>\n",
              "      <th>25</th>\n",
              "      <td>On a theoretical level, a policy is a mapping ...</td>\n",
              "      <td>Reinforcement Learning</td>\n",
              "      <td>0</td>\n",
              "    </tr>\n",
              "    <tr>\n",
              "      <th>96</th>\n",
              "      <td>Analysts first thought the move was a mistake ...</td>\n",
              "      <td>Reinforcement Learning</td>\n",
              "      <td>0</td>\n",
              "    </tr>\n",
              "    <tr>\n",
              "      <th>72</th>\n",
              "      <td>deepsense.ai took part in the “Learning to run...</td>\n",
              "      <td>Reinforcement Learning</td>\n",
              "      <td>0</td>\n",
              "    </tr>\n",
              "    <tr>\n",
              "      <th>194</th>\n",
              "      <td>Clarified guidelines from the FDA, however, c...</td>\n",
              "      <td>Neural network module for recognizing brain di...</td>\n",
              "      <td>1</td>\n",
              "    </tr>\n",
              "    <tr>\n",
              "      <th>77</th>\n",
              "      <td>Human involvement is limited to changing the e...</td>\n",
              "      <td>Reinforcement Learning</td>\n",
              "      <td>0</td>\n",
              "    </tr>\n",
              "  </tbody>\n",
              "</table>\n",
              "<p>172 rows × 3 columns</p>\n",
              "</div>"
            ],
            "text/plain": [
              "                                              Sentence  ... Label\n",
              "106  “If an agent can continually adjust its behavi...  ...     0\n",
              "104  Based on the feedback it receives, the agent l...  ...     0\n",
              "115  Whereas existing baselines require human exper...  ...     0\n",
              "71   The agent (another name for reinforcement lear...  ...     0\n",
              "120  With facial recognition one can take as many f...  ...     1\n",
              "..                                                 ...  ...   ...\n",
              "25   On a theoretical level, a policy is a mapping ...  ...     0\n",
              "96   Analysts first thought the move was a mistake ...  ...     0\n",
              "72   deepsense.ai took part in the “Learning to run...  ...     0\n",
              "194   Clarified guidelines from the FDA, however, c...  ...     1\n",
              "77   Human involvement is limited to changing the e...  ...     0\n",
              "\n",
              "[172 rows x 3 columns]"
            ]
          },
          "metadata": {},
          "execution_count": 12
        }
      ]
    },
    {
      "cell_type": "markdown",
      "metadata": {
        "id": "fD_fyh_EUHKN"
      },
      "source": [
        "## Вирішити завдання мультикласової класифікації на створеному наборі даних із використанням методів: Naive Bayes Model, Dense Neural Network"
      ]
    },
    {
      "cell_type": "code",
      "metadata": {
        "id": "hIu3Fp7fttP0"
      },
      "source": [
        "from sklearn.metrics import accuracy_score, precision_recall_fscore_support\n",
        "\n",
        "def calculate_results(y_true, y_pred):\n",
        "  \"\"\"\n",
        "  Calculates model accuracy, precision, recall and f1 score of a binary classification model.\n",
        "\n",
        "  Args:\n",
        "  -----\n",
        "  y_true = true labels in the form of a 1D array\n",
        "  y_pred = predicted labels in the form of a 1D array\n",
        "\n",
        "  Returns a dictionary of accuracy, precision, recall, f1-score.\n",
        "  \"\"\"\n",
        "  # Calculate model accuracy\n",
        "  model_accuracy = accuracy_score(y_true, y_pred) * 100\n",
        "  # Calculate model precision, recall and f1 score using \"weighted\" average\n",
        "  model_precision, model_recall, model_f1, _ = precision_recall_fscore_support(y_true, y_pred, average=\"weighted\")\n",
        "  model_results = {\"accuracy\": model_accuracy,\n",
        "                  \"precision\": model_precision,\n",
        "                  \"recall\": model_recall,\n",
        "                  \"f1\": model_f1}\n",
        "  return model_results\n"
      ],
      "execution_count": 13,
      "outputs": []
    },
    {
      "cell_type": "markdown",
      "metadata": {
        "id": "cDuPl7hXwCj-"
      },
      "source": [
        "### Naive Bayes Model"
      ]
    },
    {
      "cell_type": "code",
      "metadata": {
        "colab": {
          "base_uri": "https://localhost:8080/"
        },
        "id": "Wj0nNYBawDAF",
        "outputId": "59a77e39-f493-40c3-9abe-abbb7a8cb436"
      },
      "source": [
        "from sklearn.feature_extraction.text import TfidfVectorizer\n",
        "from sklearn.naive_bayes import MultinomialNB\n",
        "from sklearn.pipeline import Pipeline\n",
        "\n",
        "model_NB = Pipeline([\n",
        "                    (\"tfidf\", TfidfVectorizer()), \n",
        "                    (\"clf\", MultinomialNB()) \n",
        "])\n",
        "\n",
        "# Fit the pipeline to the training data\n",
        "model_NB.fit(train_split['Sentence'], train_split['Label'])\n",
        "baseline_score = model_NB.score(test_split['Sentence'], test_split['Label'])\n",
        "print(f\"Our baseline model achieves an accuracy of: {baseline_score*100:.2f}%\")"
      ],
      "execution_count": 14,
      "outputs": [
        {
          "output_type": "stream",
          "name": "stdout",
          "text": [
            "Our baseline model achieves an accuracy of: 90.91%\n"
          ]
        }
      ]
    },
    {
      "cell_type": "markdown",
      "metadata": {
        "id": "yHkbjdQAwDGI"
      },
      "source": [
        "### LSTM"
      ]
    },
    {
      "cell_type": "code",
      "metadata": {
        "id": "RpW7qBXJJFGR"
      },
      "source": [
        "from tensorflow.keras import layers\n",
        "inputs = layers.Input(shape=(1,), dtype=\"string\")\n",
        "x = text_vectorizer(inputs)\n",
        "x = embedding(x)\n",
        "x = layers.LSTM(64)(x) # return vector for whole sequence\n",
        "x = layers.Dense(64, activation=\"relu\")(x) # optional dense layer on top of output of LSTM cell\n",
        "outputs = layers.Dense(1, activation=\"sigmoid\")(x)\n",
        "model_lstm = tf.keras.Model(inputs, outputs, name=\"model_LSTM\")\n"
      ],
      "execution_count": 15,
      "outputs": []
    },
    {
      "cell_type": "code",
      "metadata": {
        "id": "qQaasE2SLnUL"
      },
      "source": [
        "model_lstm.compile(loss=\"binary_crossentropy\",\n",
        "                optimizer=tf.keras.optimizers.Adam(),\n",
        "                metrics=[\"accuracy\"])"
      ],
      "execution_count": 16,
      "outputs": []
    },
    {
      "cell_type": "code",
      "metadata": {
        "colab": {
          "base_uri": "https://localhost:8080/"
        },
        "id": "g6TLqhlbLtbz",
        "outputId": "9c84dcbf-0dd1-4e0a-818e-a1f98cbba90b"
      },
      "source": [
        "model_lstm.summary()"
      ],
      "execution_count": 17,
      "outputs": [
        {
          "output_type": "stream",
          "name": "stdout",
          "text": [
            "Model: \"model_LSTM\"\n",
            "_________________________________________________________________\n",
            " Layer (type)                Output Shape              Param #   \n",
            "=================================================================\n",
            " input_1 (InputLayer)        [(None, 1)]               0         \n",
            "                                                                 \n",
            " text_vectorization (TextVec  (None, 23)               0         \n",
            " torization)                                                     \n",
            "                                                                 \n",
            " embedding (Embedding)       (None, 23, 128)           1280000   \n",
            "                                                                 \n",
            " lstm (LSTM)                 (None, 64)                49408     \n",
            "                                                                 \n",
            " dense (Dense)               (None, 64)                4160      \n",
            "                                                                 \n",
            " dense_1 (Dense)             (None, 1)                 65        \n",
            "                                                                 \n",
            "=================================================================\n",
            "Total params: 1,333,633\n",
            "Trainable params: 1,333,633\n",
            "Non-trainable params: 0\n",
            "_________________________________________________________________\n"
          ]
        }
      ]
    },
    {
      "cell_type": "code",
      "metadata": {
        "colab": {
          "base_uri": "https://localhost:8080/"
        },
        "id": "AkmqLX8BLvO8",
        "outputId": "07a707bb-3ed9-4d2e-87db-83138557c3a4"
      },
      "source": [
        "model_lstm_history = model_lstm.fit(train_split['Sentence'],\n",
        "                              train_split['Label'],\n",
        "                              epochs=4,\n",
        "                              validation_data=(test_split['Sentence'], test_split['Label']))\n"
      ],
      "execution_count": 18,
      "outputs": [
        {
          "output_type": "stream",
          "name": "stdout",
          "text": [
            "Epoch 1/4\n",
            "6/6 [==============================] - 6s 145ms/step - loss: 0.6922 - accuracy: 0.5174 - val_loss: 0.6886 - val_accuracy: 0.5909\n",
            "Epoch 2/4\n",
            "6/6 [==============================] - 0s 20ms/step - loss: 0.6805 - accuracy: 0.7209 - val_loss: 0.6824 - val_accuracy: 0.6136\n",
            "Epoch 3/4\n",
            "6/6 [==============================] - 0s 18ms/step - loss: 0.6556 - accuracy: 0.7907 - val_loss: 0.6617 - val_accuracy: 0.7045\n",
            "Epoch 4/4\n",
            "6/6 [==============================] - 0s 18ms/step - loss: 0.5732 - accuracy: 0.8953 - val_loss: 0.5599 - val_accuracy: 0.8182\n"
          ]
        }
      ]
    },
    {
      "cell_type": "code",
      "metadata": {
        "colab": {
          "base_uri": "https://localhost:8080/"
        },
        "id": "O2qS5-pSMLqc",
        "outputId": "35d0c8ee-2279-47a5-a2da-5251525a4e76"
      },
      "source": [
        "model_lstm_pred_probs = model_lstm.predict(test_split['Sentence'])\n",
        "model_lstm_preds = tf.squeeze(tf.round(model_lstm_pred_probs))\n",
        "calculate_results(y_true=test_split['Label'], y_pred=model_lstm_preds)\n"
      ],
      "execution_count": 19,
      "outputs": [
        {
          "output_type": "execute_result",
          "data": {
            "text/plain": [
              "{'accuracy': 81.81818181818183,\n",
              " 'f1': 0.8181818181818182,\n",
              " 'precision': 0.8181818181818182,\n",
              " 'recall': 0.8181818181818182}"
            ]
          },
          "metadata": {},
          "execution_count": 19
        }
      ]
    },
    {
      "cell_type": "markdown",
      "metadata": {
        "id": "wOZg5ROdNctP"
      },
      "source": [
        "### GRU"
      ]
    },
    {
      "cell_type": "code",
      "metadata": {
        "id": "N4lYimUjNkUZ"
      },
      "source": [
        "from tensorflow.keras import layers\n",
        "inputs = layers.Input(shape=(1,), dtype=\"string\")\n",
        "x = text_vectorizer(inputs)\n",
        "x = embedding(x)\n",
        "x = layers.GRU(64)(x) \n",
        "x = layers.Dense(64, activation=\"relu\")(x) # optional dense layer after GRU cell\n",
        "outputs = layers.Dense(1, activation=\"sigmoid\")(x)\n",
        "model_gru = tf.keras.Model(inputs, outputs, name=\"model_GRU\")\n"
      ],
      "execution_count": 20,
      "outputs": []
    },
    {
      "cell_type": "code",
      "metadata": {
        "id": "7QQzEkvGNkWI"
      },
      "source": [
        "model_gru.compile(loss=\"binary_crossentropy\",\n",
        "                optimizer=tf.keras.optimizers.Adam(),\n",
        "                metrics=[\"accuracy\"])\n"
      ],
      "execution_count": 21,
      "outputs": []
    },
    {
      "cell_type": "code",
      "metadata": {
        "colab": {
          "base_uri": "https://localhost:8080/"
        },
        "id": "P63GbmYDNkYR",
        "outputId": "1f71a3a8-34e4-4374-e27e-1602cf76c195"
      },
      "source": [
        "model_gru_history = model_gru.fit(train_split['Sentence'],\n",
        "                              train_split['Label'],\n",
        "                              epochs=5,\n",
        "                              validation_data=(test_split['Sentence'], test_split['Label']))\n"
      ],
      "execution_count": 22,
      "outputs": [
        {
          "output_type": "stream",
          "name": "stdout",
          "text": [
            "Epoch 1/5\n",
            "6/6 [==============================] - 3s 123ms/step - loss: 0.6901 - accuracy: 0.5116 - val_loss: 0.6868 - val_accuracy: 0.5455\n",
            "Epoch 2/5\n",
            "6/6 [==============================] - 0s 18ms/step - loss: 0.6684 - accuracy: 0.6744 - val_loss: 0.6803 - val_accuracy: 0.5455\n",
            "Epoch 3/5\n",
            "6/6 [==============================] - 0s 18ms/step - loss: 0.6457 - accuracy: 0.7384 - val_loss: 0.6756 - val_accuracy: 0.5682\n",
            "Epoch 4/5\n",
            "6/6 [==============================] - 0s 19ms/step - loss: 0.6031 - accuracy: 0.7674 - val_loss: 0.6579 - val_accuracy: 0.6136\n",
            "Epoch 5/5\n",
            "6/6 [==============================] - 0s 18ms/step - loss: 0.5054 - accuracy: 0.8256 - val_loss: 0.5847 - val_accuracy: 0.7273\n"
          ]
        }
      ]
    },
    {
      "cell_type": "code",
      "metadata": {
        "colab": {
          "base_uri": "https://localhost:8080/"
        },
        "id": "ehia-s8tNkaV",
        "outputId": "3ca09dc2-7a47-4b4a-b890-2a5d81ba43ad"
      },
      "source": [
        "model_gru_pred_probs = model_gru.predict(test_split['Sentence'])\n",
        "model_gru_preds = tf.squeeze(tf.round(model_gru_pred_probs))\n",
        "calculate_results(y_true=test_split['Label'], y_pred=model_gru_preds)"
      ],
      "execution_count": 23,
      "outputs": [
        {
          "output_type": "execute_result",
          "data": {
            "text/plain": [
              "{'accuracy': 72.72727272727273,\n",
              " 'f1': 0.7255502392344497,\n",
              " 'precision': 0.7268842268842269,\n",
              " 'recall': 0.7272727272727273}"
            ]
          },
          "metadata": {},
          "execution_count": 23
        }
      ]
    },
    {
      "cell_type": "markdown",
      "metadata": {
        "id": "l7fZONy0SFDk"
      },
      "source": [
        "### Bidirectional LSTM"
      ]
    },
    {
      "cell_type": "code",
      "metadata": {
        "id": "8L6so5LeSHn5"
      },
      "source": [
        "from tensorflow.keras import layers\n",
        "inputs = layers.Input(shape=(1,), dtype=\"string\")\n",
        "x = text_vectorizer(inputs)\n",
        "x = embedding(x)\n",
        "# x = layers.Bidirectional(layers.LSTM(64, return_sequences=True))(x) # stacking RNN layers requires return_sequences=True\n",
        "x = layers.Bidirectional(layers.LSTM(64))(x) # bidirectional goes both ways so has double the parameters of a regular LSTM layer\n",
        "outputs = layers.Dense(1, activation=\"sigmoid\")(x)\n",
        "model_bi_lstm = tf.keras.Model(inputs, outputs, name=\"model_Bi_lstm\")\n"
      ],
      "execution_count": 24,
      "outputs": []
    },
    {
      "cell_type": "code",
      "metadata": {
        "id": "VZDUsyfeSOuo"
      },
      "source": [
        "model_bi_lstm.compile(loss=\"binary_crossentropy\",\n",
        "                optimizer=tf.keras.optimizers.Adam(),\n",
        "                metrics=[\"accuracy\"])\n"
      ],
      "execution_count": 25,
      "outputs": []
    },
    {
      "cell_type": "code",
      "metadata": {
        "colab": {
          "base_uri": "https://localhost:8080/"
        },
        "id": "5USTZa7zSQc3",
        "outputId": "a70a37c0-e9d3-456d-dce1-897b0a642ada"
      },
      "source": [
        "model_bi_lstm.summary()\n"
      ],
      "execution_count": 26,
      "outputs": [
        {
          "output_type": "stream",
          "name": "stdout",
          "text": [
            "Model: \"model_Bi_lstm\"\n",
            "_________________________________________________________________\n",
            " Layer (type)                Output Shape              Param #   \n",
            "=================================================================\n",
            " input_3 (InputLayer)        [(None, 1)]               0         \n",
            "                                                                 \n",
            " text_vectorization (TextVec  (None, 23)               0         \n",
            " torization)                                                     \n",
            "                                                                 \n",
            " embedding (Embedding)       (None, 23, 128)           1280000   \n",
            "                                                                 \n",
            " bidirectional (Bidirectiona  (None, 128)              98816     \n",
            " l)                                                              \n",
            "                                                                 \n",
            " dense_4 (Dense)             (None, 1)                 129       \n",
            "                                                                 \n",
            "=================================================================\n",
            "Total params: 1,378,945\n",
            "Trainable params: 1,378,945\n",
            "Non-trainable params: 0\n",
            "_________________________________________________________________\n"
          ]
        }
      ]
    },
    {
      "cell_type": "code",
      "metadata": {
        "colab": {
          "base_uri": "https://localhost:8080/"
        },
        "id": "dfpOLQssSQ6k",
        "outputId": "d52af3ae-d52b-44f5-9df1-d582f0c56039"
      },
      "source": [
        "model_bi_lstm_history = model_bi_lstm.fit(train_split['Sentence'],\n",
        "                              train_split['Label'],\n",
        "                              epochs=4,\n",
        "                              validation_data=(test_split['Sentence'], test_split['Label']))\n"
      ],
      "execution_count": 27,
      "outputs": [
        {
          "output_type": "stream",
          "name": "stdout",
          "text": [
            "Epoch 1/4\n",
            "6/6 [==============================] - 5s 215ms/step - loss: 0.6738 - accuracy: 0.7849 - val_loss: 0.6635 - val_accuracy: 0.7045\n",
            "Epoch 2/4\n",
            "6/6 [==============================] - 0s 30ms/step - loss: 0.5979 - accuracy: 0.8430 - val_loss: 0.6131 - val_accuracy: 0.7045\n",
            "Epoch 3/4\n",
            "6/6 [==============================] - 0s 27ms/step - loss: 0.4472 - accuracy: 0.8837 - val_loss: 0.5223 - val_accuracy: 0.7500\n",
            "Epoch 4/4\n",
            "6/6 [==============================] - 0s 25ms/step - loss: 0.1966 - accuracy: 0.9419 - val_loss: 0.3281 - val_accuracy: 0.8636\n"
          ]
        }
      ]
    },
    {
      "cell_type": "markdown",
      "metadata": {
        "id": "U8ZWx5MITEeK"
      },
      "source": [
        "### Bidirectional GRU"
      ]
    },
    {
      "cell_type": "code",
      "metadata": {
        "id": "IuxMkSKeTIBF"
      },
      "source": [
        "from tensorflow.keras import layers\n",
        "inputs = layers.Input(shape=(1,), dtype=\"string\")\n",
        "x = text_vectorizer(inputs)\n",
        "x = embedding(x)\n",
        "x = layers.Bidirectional(layers.GRU(64))(x) # bidirectional goes both ways so has double the parameters of a regular LSTM layer\n",
        "outputs = layers.Dense(1, activation=\"sigmoid\")(x)\n",
        "model_bi_gru = tf.keras.Model(inputs, outputs, name=\"model_Bi_gru\")"
      ],
      "execution_count": 28,
      "outputs": []
    },
    {
      "cell_type": "code",
      "metadata": {
        "id": "3wTDfkosTOQx"
      },
      "source": [
        "model_bi_gru.compile(loss=\"binary_crossentropy\",\n",
        "                optimizer=tf.keras.optimizers.Adam(),\n",
        "                metrics=[\"accuracy\"])"
      ],
      "execution_count": 29,
      "outputs": []
    },
    {
      "cell_type": "code",
      "metadata": {
        "colab": {
          "base_uri": "https://localhost:8080/"
        },
        "id": "xX0PT4rkTQZ4",
        "outputId": "9438b140-3175-48e9-c202-f41af7c6455f"
      },
      "source": [
        "model_bi_gru.summary()"
      ],
      "execution_count": 30,
      "outputs": [
        {
          "output_type": "stream",
          "name": "stdout",
          "text": [
            "Model: \"model_Bi_gru\"\n",
            "_________________________________________________________________\n",
            " Layer (type)                Output Shape              Param #   \n",
            "=================================================================\n",
            " input_4 (InputLayer)        [(None, 1)]               0         \n",
            "                                                                 \n",
            " text_vectorization (TextVec  (None, 23)               0         \n",
            " torization)                                                     \n",
            "                                                                 \n",
            " embedding (Embedding)       (None, 23, 128)           1280000   \n",
            "                                                                 \n",
            " bidirectional_1 (Bidirectio  (None, 128)              74496     \n",
            " nal)                                                            \n",
            "                                                                 \n",
            " dense_5 (Dense)             (None, 1)                 129       \n",
            "                                                                 \n",
            "=================================================================\n",
            "Total params: 1,354,625\n",
            "Trainable params: 1,354,625\n",
            "Non-trainable params: 0\n",
            "_________________________________________________________________\n"
          ]
        }
      ]
    },
    {
      "cell_type": "code",
      "metadata": {
        "colab": {
          "base_uri": "https://localhost:8080/"
        },
        "id": "AUA9dZgATS-R",
        "outputId": "51d7342b-0b1d-44f6-a17d-45f86bb46a9d"
      },
      "source": [
        "model_bi_gru_history = model_bi_gru.fit(train_split['Sentence'],\n",
        "                              train_split['Label'],\n",
        "                              epochs=10,\n",
        "                              validation_data=(test_split['Sentence'], test_split['Label']))"
      ],
      "execution_count": 31,
      "outputs": [
        {
          "output_type": "stream",
          "name": "stdout",
          "text": [
            "Epoch 1/10\n",
            "6/6 [==============================] - 5s 245ms/step - loss: 0.6756 - accuracy: 0.6337 - val_loss: 0.6662 - val_accuracy: 0.5909\n",
            "Epoch 2/10\n",
            "6/6 [==============================] - 0s 26ms/step - loss: 0.6076 - accuracy: 0.7907 - val_loss: 0.6352 - val_accuracy: 0.6364\n",
            "Epoch 3/10\n",
            "6/6 [==============================] - 0s 24ms/step - loss: 0.5148 - accuracy: 0.8314 - val_loss: 0.5809 - val_accuracy: 0.7045\n",
            "Epoch 4/10\n",
            "6/6 [==============================] - 0s 25ms/step - loss: 0.3545 - accuracy: 0.8953 - val_loss: 0.4583 - val_accuracy: 0.8182\n",
            "Epoch 5/10\n",
            "6/6 [==============================] - 0s 25ms/step - loss: 0.1303 - accuracy: 1.0000 - val_loss: 0.3458 - val_accuracy: 0.8409\n",
            "Epoch 6/10\n",
            "6/6 [==============================] - 0s 24ms/step - loss: 0.0200 - accuracy: 1.0000 - val_loss: 0.4165 - val_accuracy: 0.8636\n",
            "Epoch 7/10\n",
            "6/6 [==============================] - 0s 25ms/step - loss: 0.0058 - accuracy: 1.0000 - val_loss: 0.5999 - val_accuracy: 0.8409\n",
            "Epoch 8/10\n",
            "6/6 [==============================] - 0s 25ms/step - loss: 0.0011 - accuracy: 1.0000 - val_loss: 0.5638 - val_accuracy: 0.8636\n",
            "Epoch 9/10\n",
            "6/6 [==============================] - 0s 24ms/step - loss: 2.1051e-04 - accuracy: 1.0000 - val_loss: 0.5190 - val_accuracy: 0.8182\n",
            "Epoch 10/10\n",
            "6/6 [==============================] - 0s 24ms/step - loss: 1.9598e-04 - accuracy: 1.0000 - val_loss: 0.5114 - val_accuracy: 0.8182\n"
          ]
        }
      ]
    },
    {
      "cell_type": "markdown",
      "metadata": {
        "id": "qH2ONjxtUHZc"
      },
      "source": [
        "## Здійснити порівняння ефективності моделей"
      ]
    },
    {
      "cell_type": "markdown",
      "metadata": {
        "id": "JZUXuRoXSYmj"
      },
      "source": [
        "### Naive Bayes"
      ]
    },
    {
      "cell_type": "code",
      "metadata": {
        "id": "ROXko56mUHgl",
        "colab": {
          "base_uri": "https://localhost:8080/"
        },
        "outputId": "9a065ae3-658a-4ba4-e2c5-b9a7a83dfca0"
      },
      "source": [
        "calculate_results(test_split['Label'], model_NB.predict(test_split['Sentence']))"
      ],
      "execution_count": 32,
      "outputs": [
        {
          "output_type": "execute_result",
          "data": {
            "text/plain": [
              "{'accuracy': 90.9090909090909,\n",
              " 'f1': 0.9075369075369075,\n",
              " 'precision': 0.922077922077922,\n",
              " 'recall': 0.9090909090909091}"
            ]
          },
          "metadata": {},
          "execution_count": 32
        }
      ]
    },
    {
      "cell_type": "markdown",
      "metadata": {
        "id": "jK7MgUl4Sg0q"
      },
      "source": [
        "### LSTM"
      ]
    },
    {
      "cell_type": "code",
      "metadata": {
        "colab": {
          "base_uri": "https://localhost:8080/"
        },
        "id": "kzWiyKslihDP",
        "outputId": "f7f2fdd7-bc31-405f-f7af-bc27ff2ef8de"
      },
      "source": [
        "model_lstm_pred_probs = model_lstm.predict(test_split['Sentence'])\n",
        "model_lstm_preds = tf.squeeze(tf.round(model_lstm_pred_probs))\n",
        "calculate_results(y_true=test_split['Label'], y_pred=model_lstm_preds)"
      ],
      "execution_count": 33,
      "outputs": [
        {
          "output_type": "execute_result",
          "data": {
            "text/plain": [
              "{'accuracy': 90.9090909090909,\n",
              " 'f1': 0.9090909090909091,\n",
              " 'precision': 0.9090909090909091,\n",
              " 'recall': 0.9090909090909091}"
            ]
          },
          "metadata": {},
          "execution_count": 33
        }
      ]
    },
    {
      "cell_type": "markdown",
      "metadata": {
        "id": "dk1g9bv3Sh8v"
      },
      "source": [
        "### GRU"
      ]
    },
    {
      "cell_type": "code",
      "metadata": {
        "colab": {
          "base_uri": "https://localhost:8080/"
        },
        "id": "qYeqV3UpRv2H",
        "outputId": "a123005f-f274-41d9-e962-1f038097dfa9"
      },
      "source": [
        "model_gru_pred_probs = model_gru.predict(test_split['Sentence'])\n",
        "model_gru_preds = tf.squeeze(tf.round(model_gru_pred_probs))\n",
        "calculate_results(y_true=test_split['Label'], y_pred=model_gru_preds)"
      ],
      "execution_count": 34,
      "outputs": [
        {
          "output_type": "execute_result",
          "data": {
            "text/plain": [
              "{'accuracy': 77.27272727272727,\n",
              " 'f1': 0.7727272727272727,\n",
              " 'precision': 0.7856060606060605,\n",
              " 'recall': 0.7727272727272727}"
            ]
          },
          "metadata": {},
          "execution_count": 34
        }
      ]
    },
    {
      "cell_type": "markdown",
      "metadata": {
        "id": "lGpqHmyCSjUo"
      },
      "source": [
        "### BI_LSTM\n"
      ]
    },
    {
      "cell_type": "code",
      "metadata": {
        "colab": {
          "base_uri": "https://localhost:8080/"
        },
        "id": "ZJjrEI0jRxtA",
        "outputId": "0d7d644e-8aeb-46a4-f824-4ceaba322566"
      },
      "source": [
        "model_bi_lstm_pred_probs = model_bi_lstm.predict(test_split['Sentence'])\n",
        "model_bi_lstm_preds = tf.squeeze(tf.round(model_bi_lstm_pred_probs))\n",
        "calculate_results(test_split['Label'], model_bi_lstm_preds)"
      ],
      "execution_count": 35,
      "outputs": [
        {
          "output_type": "execute_result",
          "data": {
            "text/plain": [
              "{'accuracy': 90.9090909090909,\n",
              " 'f1': 0.9090909090909091,\n",
              " 'precision': 0.9090909090909091,\n",
              " 'recall': 0.9090909090909091}"
            ]
          },
          "metadata": {},
          "execution_count": 35
        }
      ]
    },
    {
      "cell_type": "markdown",
      "metadata": {
        "id": "G7z5RuRySnwT"
      },
      "source": [
        "### BI_GRU"
      ]
    },
    {
      "cell_type": "code",
      "metadata": {
        "colab": {
          "base_uri": "https://localhost:8080/"
        },
        "id": "VNk2XthjTr70",
        "outputId": "df11a81f-43aa-4ed3-8553-3ebc7c137f5b"
      },
      "source": [
        "model_bi_gru_pred_probs = model_bi_gru.predict(test_split['Sentence'])\n",
        "model_bi_gru_preds = tf.squeeze(tf.round(model_bi_gru_pred_probs))\n",
        "calculate_results(test_split['Label'], model_bi_gru_preds)"
      ],
      "execution_count": 36,
      "outputs": [
        {
          "output_type": "execute_result",
          "data": {
            "text/plain": [
              "{'accuracy': 81.81818181818183,\n",
              " 'f1': 0.8181818181818182,\n",
              " 'precision': 0.8318181818181819,\n",
              " 'recall': 0.8181818181818182}"
            ]
          },
          "metadata": {},
          "execution_count": 36
        }
      ]
    },
    {
      "cell_type": "markdown",
      "metadata": {
        "id": "P0aMvjOrUHo0"
      },
      "source": [
        ""
      ]
    }
  ]
}