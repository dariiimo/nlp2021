{
  "cells": [
    {
      "cell_type": "markdown",
      "metadata": {
        "id": "view-in-github",
        "colab_type": "text"
      },
      "source": [
        "<a href=\"https://colab.research.google.com/github/dariiimo/nlp2021/blob/main/exam/Moskalenko.ipynb\" target=\"_parent\"><img src=\"https://colab.research.google.com/assets/colab-badge.svg\" alt=\"Open In Colab\"/></a>"
      ]
    },
    {
      "cell_type": "markdown",
      "metadata": {
        "id": "PjeAa7ztLk6v"
      },
      "source": [
        "# Практичне завдання з дисципліни Методи обробки природномовної інформації\n",
        "\n",
        "Варіант 111\n",
        "\n",
        "\n",
        "Завдання:\n",
        "\n",
        "Розробити Jupyter Notebook для вирішення завдання класифікації тексту\n",
        "на основі набору даних:\n",
        "[link]\n",
        "\n",
        "Забезпечити виконання наступних етапів:\n",
        "\n",
        "1. Завантаження та попередній аналіз даних.\n",
        "2. Створення тренувального та тестувального наборів даних.\n",
        "3. Попередню оцінку точності моделі за допомогою методу Naive Bayes.\n",
        "4. Вирішення задачі класифікації за допомогою методу [method].\n",
        "5. Графічне відображення тренування моделі.\n",
        "6. Порівняння результатів, отриманих у п.п. 3,4\n",
        "7. Висновки.\n",
        "\n"
      ]
    },
    {
      "cell_type": "markdown",
      "metadata": {
        "id": "6vHKHAAjMDxV"
      },
      "source": [
        "# 1. Завантаження та попередній аналіз даних.\n"
      ]
    },
    {
      "cell_type": "code",
      "execution_count": 126,
      "metadata": {
        "id": "SDVUmhJhMfFJ"
      },
      "outputs": [],
      "source": [
        "# імпортуємо необхідні бібліотеки\n",
        "import random\n",
        "import numpy as np\n",
        "import pandas as pd \n",
        "import matplotlib.pyplot as plt\n",
        "\n",
        "import tensorflow as tf \n",
        "from tensorflow.keras.layers.experimental.preprocessing import TextVectorization\n",
        "from tensorflow.keras.layers import Embedding\n",
        "from tensorflow.keras import layers\n",
        "\n",
        "from sklearn.model_selection import train_test_split\n",
        "from sklearn.feature_extraction.text import TfidfVectorizer\n",
        "from sklearn.naive_bayes import MultinomialNB\n",
        "from sklearn.pipeline import Pipeline\n",
        "from sklearn.metrics import accuracy_score, precision_recall_fscore_support\n",
        "\n"
      ]
    },
    {
      "cell_type": "code",
      "execution_count": 127,
      "metadata": {
        "id": "Lh1h3payv38v"
      },
      "outputs": [],
      "source": [
        "# Дано 1 файл\n",
        "df = pd.read_csv('/content/data.csv', error_bad_lines=False)"
      ]
    },
    {
      "cell_type": "code",
      "execution_count": 127,
      "metadata": {
        "id": "P6vk08ObAz6r"
      },
      "outputs": [],
      "source": [
        ""
      ]
    },
    {
      "cell_type": "code",
      "execution_count": 128,
      "metadata": {
        "colab": {
          "base_uri": "https://localhost:8080/",
          "height": 269
        },
        "id": "g_tnGkLrzYjA",
        "outputId": "41fa1ab4-fc54-4973-a351-2a0bbe9c5ee9"
      },
      "outputs": [
        {
          "output_type": "execute_result",
          "data": {
            "text/html": [
              "<div>\n",
              "<style scoped>\n",
              "    .dataframe tbody tr th:only-of-type {\n",
              "        vertical-align: middle;\n",
              "    }\n",
              "\n",
              "    .dataframe tbody tr th {\n",
              "        vertical-align: top;\n",
              "    }\n",
              "\n",
              "    .dataframe thead th {\n",
              "        text-align: right;\n",
              "    }\n",
              "</style>\n",
              "<table border=\"1\" class=\"dataframe\">\n",
              "  <thead>\n",
              "    <tr style=\"text-align: right;\">\n",
              "      <th></th>\n",
              "      <th>Unnamed: 0</th>\n",
              "      <th>title</th>\n",
              "      <th>text</th>\n",
              "      <th>label</th>\n",
              "    </tr>\n",
              "  </thead>\n",
              "  <tbody>\n",
              "    <tr>\n",
              "      <th>0</th>\n",
              "      <td>8476</td>\n",
              "      <td>You Can Smell Hillary’s Fear</td>\n",
              "      <td>Daniel Greenfield, a Shillman Journalism Fello...</td>\n",
              "      <td>FAKE</td>\n",
              "    </tr>\n",
              "    <tr>\n",
              "      <th>1</th>\n",
              "      <td>10294</td>\n",
              "      <td>Watch The Exact Moment Paul Ryan Committed Pol...</td>\n",
              "      <td>Google Pinterest Digg Linkedin Reddit Stumbleu...</td>\n",
              "      <td>FAKE</td>\n",
              "    </tr>\n",
              "    <tr>\n",
              "      <th>2</th>\n",
              "      <td>3608</td>\n",
              "      <td>Kerry to go to Paris in gesture of sympathy</td>\n",
              "      <td>U.S. Secretary of State John F. Kerry said Mon...</td>\n",
              "      <td>REAL</td>\n",
              "    </tr>\n",
              "    <tr>\n",
              "      <th>3</th>\n",
              "      <td>10142</td>\n",
              "      <td>Bernie supporters on Twitter erupt in anger ag...</td>\n",
              "      <td>— Kaydee King (@KaydeeKing) November 9, 2016 T...</td>\n",
              "      <td>FAKE</td>\n",
              "    </tr>\n",
              "    <tr>\n",
              "      <th>4</th>\n",
              "      <td>875</td>\n",
              "      <td>The Battle of New York: Why This Primary Matters</td>\n",
              "      <td>It's primary day in New York and front-runners...</td>\n",
              "      <td>REAL</td>\n",
              "    </tr>\n",
              "    <tr>\n",
              "      <th>5</th>\n",
              "      <td>6903</td>\n",
              "      <td>Tehran, USA</td>\n",
              "      <td>\\nI’m not an immigrant, but my grandparents ...</td>\n",
              "      <td>FAKE</td>\n",
              "    </tr>\n",
              "    <tr>\n",
              "      <th>6</th>\n",
              "      <td>7341</td>\n",
              "      <td>Girl Horrified At What She Watches Boyfriend D...</td>\n",
              "      <td>Share This Baylee Luciani (left), Screenshot o...</td>\n",
              "      <td>FAKE</td>\n",
              "    </tr>\n",
              "  </tbody>\n",
              "</table>\n",
              "</div>"
            ],
            "text/plain": [
              "   Unnamed: 0  ... label\n",
              "0        8476  ...  FAKE\n",
              "1       10294  ...  FAKE\n",
              "2        3608  ...  REAL\n",
              "3       10142  ...  FAKE\n",
              "4         875  ...  REAL\n",
              "5        6903  ...  FAKE\n",
              "6        7341  ...  FAKE\n",
              "\n",
              "[7 rows x 4 columns]"
            ]
          },
          "metadata": {},
          "execution_count": 128
        }
      ],
      "source": [
        "df.head(7) # check data (first 7 rows)"
      ]
    },
    {
      "cell_type": "code",
      "execution_count": 129,
      "metadata": {
        "id": "qVRbq29N8dMr"
      },
      "outputs": [],
      "source": [
        "df = df.rename(columns={'label': 'target'})"
      ]
    },
    {
      "cell_type": "code",
      "execution_count": 130,
      "metadata": {
        "colab": {
          "base_uri": "https://localhost:8080/",
          "height": 206
        },
        "id": "qVYbK0hb8xQK",
        "outputId": "f1f3e64b-94db-40bc-fa5b-6232c49d7a00"
      },
      "outputs": [
        {
          "output_type": "execute_result",
          "data": {
            "text/html": [
              "<div>\n",
              "<style scoped>\n",
              "    .dataframe tbody tr th:only-of-type {\n",
              "        vertical-align: middle;\n",
              "    }\n",
              "\n",
              "    .dataframe tbody tr th {\n",
              "        vertical-align: top;\n",
              "    }\n",
              "\n",
              "    .dataframe thead th {\n",
              "        text-align: right;\n",
              "    }\n",
              "</style>\n",
              "<table border=\"1\" class=\"dataframe\">\n",
              "  <thead>\n",
              "    <tr style=\"text-align: right;\">\n",
              "      <th></th>\n",
              "      <th>Unnamed: 0</th>\n",
              "      <th>title</th>\n",
              "      <th>text</th>\n",
              "      <th>target</th>\n",
              "    </tr>\n",
              "  </thead>\n",
              "  <tbody>\n",
              "    <tr>\n",
              "      <th>0</th>\n",
              "      <td>8476</td>\n",
              "      <td>You Can Smell Hillary’s Fear</td>\n",
              "      <td>Daniel Greenfield, a Shillman Journalism Fello...</td>\n",
              "      <td>FAKE</td>\n",
              "    </tr>\n",
              "    <tr>\n",
              "      <th>1</th>\n",
              "      <td>10294</td>\n",
              "      <td>Watch The Exact Moment Paul Ryan Committed Pol...</td>\n",
              "      <td>Google Pinterest Digg Linkedin Reddit Stumbleu...</td>\n",
              "      <td>FAKE</td>\n",
              "    </tr>\n",
              "    <tr>\n",
              "      <th>2</th>\n",
              "      <td>3608</td>\n",
              "      <td>Kerry to go to Paris in gesture of sympathy</td>\n",
              "      <td>U.S. Secretary of State John F. Kerry said Mon...</td>\n",
              "      <td>REAL</td>\n",
              "    </tr>\n",
              "    <tr>\n",
              "      <th>3</th>\n",
              "      <td>10142</td>\n",
              "      <td>Bernie supporters on Twitter erupt in anger ag...</td>\n",
              "      <td>— Kaydee King (@KaydeeKing) November 9, 2016 T...</td>\n",
              "      <td>FAKE</td>\n",
              "    </tr>\n",
              "    <tr>\n",
              "      <th>4</th>\n",
              "      <td>875</td>\n",
              "      <td>The Battle of New York: Why This Primary Matters</td>\n",
              "      <td>It's primary day in New York and front-runners...</td>\n",
              "      <td>REAL</td>\n",
              "    </tr>\n",
              "  </tbody>\n",
              "</table>\n",
              "</div>"
            ],
            "text/plain": [
              "   Unnamed: 0  ... target\n",
              "0        8476  ...   FAKE\n",
              "1       10294  ...   FAKE\n",
              "2        3608  ...   REAL\n",
              "3       10142  ...   FAKE\n",
              "4         875  ...   REAL\n",
              "\n",
              "[5 rows x 4 columns]"
            ]
          },
          "metadata": {},
          "execution_count": 130
        }
      ],
      "source": [
        "df.head()"
      ]
    },
    {
      "cell_type": "code",
      "execution_count": 131,
      "metadata": {
        "colab": {
          "base_uri": "https://localhost:8080/"
        },
        "id": "mEFR99ZXzsxQ",
        "outputId": "ef81a6ae-823c-404e-e46b-7c6f6f91f270"
      },
      "outputs": [
        {
          "output_type": "execute_result",
          "data": {
            "text/plain": [
              "(6335, 4)"
            ]
          },
          "metadata": {},
          "execution_count": 131
        }
      ],
      "source": [
        "df.shape # check data"
      ]
    },
    {
      "cell_type": "code",
      "execution_count": 132,
      "metadata": {
        "id": "DrYnUPq5zzae",
        "colab": {
          "base_uri": "https://localhost:8080/",
          "height": 294
        },
        "outputId": "9e310698-449f-4165-a74d-f60668025b2f"
      },
      "outputs": [
        {
          "output_type": "display_data",
          "data": {
            "image/png": "[encoded data removed]",
            "text/plain": [
              "<Figure size 432x288 with 1 Axes>"
            ]
          },
          "metadata": {
            "needs_background": "light"
          }
        }
      ],
      "source": [
        "count_classes = df['target'].value_counts()\n",
        "plt.title(\"Records in each class\")\n",
        "count_classes.plot(kind='bar', color=['b', 'r'])\n",
        "plt.xticks(rotation='horizontal')\n",
        "plt.xlabel(\"Class\")\n",
        "plt.ylabel(\"Count\")\n",
        "plt.show()"
      ]
    },
    {
      "cell_type": "code",
      "execution_count": 133,
      "metadata": {
        "id": "4ML67RKFz-W5"
      },
      "outputs": [],
      "source": [
        "df[\"target\"] = pd.factorize(df[\"target\"])[0]"
      ]
    },
    {
      "cell_type": "code",
      "execution_count": 134,
      "metadata": {
        "colab": {
          "base_uri": "https://localhost:8080/"
        },
        "id": "mm1aJSk10Izm",
        "outputId": "f6d048f5-8e8d-46ed-fa0c-b631a43ca709"
      },
      "outputs": [
        {
          "output_type": "execute_result",
          "data": {
            "text/plain": [
              "2"
            ]
          },
          "metadata": {},
          "execution_count": 134
        }
      ],
      "source": [
        "#get the number of classes\n",
        "n_classes = df[\"target\"].nunique()\n",
        "n_classes"
      ]
    },
    {
      "cell_type": "code",
      "execution_count": 135,
      "metadata": {
        "colab": {
          "base_uri": "https://localhost:8080/",
          "height": 206
        },
        "id": "nsMUB-tE0e1H",
        "outputId": "5e3d1b67-c6d8-4496-8fe7-54bea0dfff44"
      },
      "outputs": [
        {
          "output_type": "execute_result",
          "data": {
            "text/html": [
              "<div>\n",
              "<style scoped>\n",
              "    .dataframe tbody tr th:only-of-type {\n",
              "        vertical-align: middle;\n",
              "    }\n",
              "\n",
              "    .dataframe tbody tr th {\n",
              "        vertical-align: top;\n",
              "    }\n",
              "\n",
              "    .dataframe thead th {\n",
              "        text-align: right;\n",
              "    }\n",
              "</style>\n",
              "<table border=\"1\" class=\"dataframe\">\n",
              "  <thead>\n",
              "    <tr style=\"text-align: right;\">\n",
              "      <th></th>\n",
              "      <th>Unnamed: 0</th>\n",
              "      <th>title</th>\n",
              "      <th>text</th>\n",
              "      <th>target</th>\n",
              "    </tr>\n",
              "  </thead>\n",
              "  <tbody>\n",
              "    <tr>\n",
              "      <th>1720</th>\n",
              "      <td>7878</td>\n",
              "      <td>Hilarious Cartoon Reveals 2016 Political Versi...</td>\n",
              "      <td>Pinterest \\nC.E. Dyer writes that the disaster...</td>\n",
              "      <td>0</td>\n",
              "    </tr>\n",
              "    <tr>\n",
              "      <th>4631</th>\n",
              "      <td>5771</td>\n",
              "      <td>Tom Hayden: Things Come Around in the Mideast</td>\n",
              "      <td>By Padishah , July 23, 2006 at 12:19 am Link t...</td>\n",
              "      <td>0</td>\n",
              "    </tr>\n",
              "    <tr>\n",
              "      <th>4246</th>\n",
              "      <td>9346</td>\n",
              "      <td>The Pitfalls of Partial Disclosure – Examining...</td>\n",
              "      <td>By Shem El-Jamal\\nFor almost a decade, many of...</td>\n",
              "      <td>0</td>\n",
              "    </tr>\n",
              "    <tr>\n",
              "      <th>5115</th>\n",
              "      <td>26</td>\n",
              "      <td>House passes alternate abortion measure</td>\n",
              "      <td>Washington (CNN) The GOP-controlled House of R...</td>\n",
              "      <td>1</td>\n",
              "    </tr>\n",
              "    <tr>\n",
              "      <th>1086</th>\n",
              "      <td>10534</td>\n",
              "      <td>Fashwave Friday: Endgame</td>\n",
              "      <td>6827 N. High Street, Suite 121 Worthington, Oh...</td>\n",
              "      <td>0</td>\n",
              "    </tr>\n",
              "  </tbody>\n",
              "</table>\n",
              "</div>"
            ],
            "text/plain": [
              "      Unnamed: 0  ... target\n",
              "1720        7878  ...      0\n",
              "4631        5771  ...      0\n",
              "4246        9346  ...      0\n",
              "5115          26  ...      1\n",
              "1086       10534  ...      0\n",
              "\n",
              "[5 rows x 4 columns]"
            ]
          },
          "metadata": {},
          "execution_count": 135
        }
      ],
      "source": [
        "# random shuffle\n",
        "df = df.sample(frac=1,random_state=49) \n",
        "df.head(5)"
      ]
    },
    {
      "cell_type": "code",
      "execution_count": 136,
      "metadata": {
        "colab": {
          "base_uri": "https://localhost:8080/"
        },
        "id": "MwL6kTva08p4",
        "outputId": "d10989ac-f221-431b-c8a1-87e464f0b720"
      },
      "outputs": [
        {
          "output_type": "stream",
          "name": "stdout",
          "text": [
            "• Pandas(Index=3170, text='WASHINGTON -- Rep. Louie Gohmert (R-Texas) launched a long-shot campaign Sunday for speaker of the House of Representatives, in the latest episode of the conservative rebellion against current Speaker John Boehner (R-Ohio).\\n\\nHouse members are set to vote for their next speaker on Tuesday, with Boehner heavily favored to win. Rep. Ted Yoho (R-Fla.) said Saturday that he is willing to serve as an alternative to Boehner. In addition, Reps. Jim Bridenstine (R-Okla.) and Thomas Massie (R-Ky.) have stated that they will oppose Boehner\\'s re-election.\\n\\nGohmert\\'s latest objection to Boehner -- although certainly not his only one -- was the speaker\\'s decision to pass the so-called \"cromnibus\" spending bill in December without including a measure to block President Barack Obama\\'s executive actions on immigration.\\n\\n\"It was a terrible strategy and it follows a number of years of broken promises,\" Gohmert said on \"Fox & Friends\" while announcing his candidacy. \"It\\'s time for a change.\"\\n\\nThe congressman said that if he were elected speaker, he would fight to end \"amnesty\" for immigrants and Obamacare. He added that he would make sure members got a voice, going so far as to imply Boehner was acting like a \"dictator.\"\\n\\n\"We will go through regular committee process so everybody, every representative from both parties, will have a chance to participate in the process and not have a dictator running things, deciding who\\'s the chairman, who gets what committee, what bills come to the floor,\" Gohmert said.\\n\\nHe noted that it would take 29 conservatives voting against Boehner to bring the speakership up for secondary votes, which would be the first step toward eventually electing another Republican as speaker. Only 12 Republicans voted against Boehner for the position in 2013, including Gohmert, Yoho, Bridenstine and Massie.', target=1)\n",
            "• Pandas(Index=5972, text='Will James Comey Change the Outcome of the Election? Is this the game-changing October surprise that many hope for -- and others dread? November 2, 2016 \\nBruce Thornton is a Shillman Journalism Fellow at the David Horowitz Freedom Center. \\nFBI Director James Comey’s reopening of the investigation into Clinton’s emails has roiled once more the presidential election. Donald Trump has called the decision “courageous” and “bigger than Watergate.” Clinton, the DOJ, Democrat Senators, and their media flying monkeys are all having conniption fits over their quondam champion’s defection, calling the announcement “appalling,” “absurd,” “strange,” “deeply troubling,” an “attack,” and “unprecedented.” The bigger question is whether it will move enough voters over to Trump’s side and put him in the White House. \\nThere’s no doubt that Comey’s announcement eleven days before the election is mystifying. Not because it is “unprecedented” as the Democrats keep squealing. They had no such qualms when the weekend before the 1992 election, special prosecutor Lawrence Walsh indicted a poll-surging George H.W. Bush for his alleged involvement in the Iran-Contra scandal. No, the mystery is Comey’s motives. Is Comey like Conrad’s Lord Jim, now sacrificing his FBI career––sure to be over if the notoriously vengeful Clinton is elected–– to atone for having besmirched his office, reputation, and the principle of equality before the law in service to careerist self-interest? Or was he facing a mutiny and leaks from disgruntled FBI investigators? To quote one of our candidates, “At this point, what difference does it make?” \\nThe real question is whether it will make a difference to the voters. Right now we don’t know if the content of the 650,000 emails from the conjugal laptop used by serial sexter Anthony Weiner, estranged husband of Clinton vizier Huma Abedin, will reveal something damning like, say, classified materials. But we already know that Clinton passed classified information over an unsecured server, which didn’t bother Comey back in July. So what could be in these new emails that rises above Comey’s sophistic “extreme carelessness,” and reaches the statute’s “gross negligence”? Or has Comey found new evidence of Hillary’s “intent,” his other exculpatory sophistry that had little to do with the law? There had to be something that made Comey subject himself to the scorched-earth wrath of the Democrats. \\nWhatever is found on the Abedin laptop, one wonders if will even matter to a sufficient number of voters. They have shrugged off so many scandals, lies, and failures that should have sunk a candidacy, that it’s hard to calculate what level of incompetence, unpleasantness, dishonesty, sleaze, and crime is disqualifying anymore. Here are the greatest hits from Hillary’s catalogue: Whitewater Missing billing records from her tenure at the Rose Law Firm Renting out the Lincoln Bedroom to donors Travelgate Illegal possession of FBI files Conducting illegal secret meetings of the Task Force on National Health Care Reform Cackling over keeping a pedophile rapist out of jail Hounding the victims of her husband’s sexual assaults and philandering Stealing $200,000 worth of china, furniture, and artwork from the White House Claiming she landed under “sniper fire” in Bosnia Claiming she and Bill left the White House “dead broke” Shaking down Wall Street while assuring the Orcs of capitalism that she’s got their back Charging exorbitant speaking fees for a half hour of banalities and bromides Calling 30,000 missing emails “personal” communications Lying about the Benghazi attack to the faces of the four dead Americans’ families Supporting the lie that the attacks were caused by an obscure Internet video when she knew the same night that they weren’t Perjuring herself before Congress and the FBI about the emails and her private server The disastrous overthrow of Ghaddafi in Libya The disastrous “reset” with Russia The disastrous nuclear deal with Iran The disastrous withdrawal from Iraq The corrupt Clinton Foundation and its wholly owned subsidiary, the pay-to-play State Department Using feminist rhetoric while taking cash from some of the planet’s most brutally misogynistic regimes Serially flip-flopping on issues like same-sex marriage, the Trans Pacific Trade deal, and the Keystone pipeline Promising to “raise taxes on the middle class” and “put coal miners out of work” Her campaign staff’s dirty tricks against Trump and his supporters Her campaign staff’s incestuous relationship with the media Her staff’s illegal destruction of incriminating evidence during the email investigation Her strong support of gruesome late-term abortions And, last but not least, the continuing unanswered questions about her physical and cognitive health \\nBack in the day, just a few of these gaffes, deceptions, and failures would probably have sunk a campaign for Congress, let alone the White House. \\nAnd Mr. Trump’s offenses? He’s talks exactly as you’d expect a New York real estate developer, casino owner, reality television star, and beauty pageant mogul to talk He’s condemned as a sexual assaulter for saying a decade ago what Bill Clinton and every White-House-visiting rapper, movie star, or rock star knows about the sexual perks of celebrity: “When you’re a star they let you do it,” as Trump bragged of his crude sexual advances He’s ignorant of policy He doesn’t understand the economics of global trade He doesn’t know what the “nuclear triad” is He’s addicted to a half dozen superlative adjectives He wants to build a wall with Mexico He takes legal advantage of tax law He’s not “suitable” for office He does not have the right “temperament” He’s used bankruptcy as a business tool He’s accused of groping over a dozen women, including a polymorphously perverse porn star He’s mean and insulting He has orange hair \\nIn short, Trump lacks the superficial patina of rhetorical decorum and sober demeanor that most modern presidents and candidates spray over their public personas in order to hide their private flaws and vices. Just ask Hillary’s various Secret Service details how wide the distance between public and private personalities can be. \\nThe voters will decide for themselves which candidate’s catalogue of sins is more disqualifying and dangerous. But whatever happens, it’s clear that we the people have lowered the bar of acceptability for presidential candidates. \\nThis transformation happened decades before Trump and Hillary came along. After Bill Clinton was impeached for perjury related to his sordid sexual depredations in the White House, his approval ratings were 73%. He left the White House with a 66% rating, higher than any president since Harry Truman, including Ronald Reagan. Think about it: the president who sexually exploited an intern and was impeached for perjury left office with higher approval ratings than the president who rescued the economy and tossed the Soviet Union into its own dustbin of history. \\nThat was the inflection point for our political culture. No wonder that Barack Obama’s lack of any real-world experience or achievement, left-wing views, self-confessed drug use, friends like the anti-American racist Jeremiah Wright and unrepentant terrorist Bill Ayers, and gaping holes in his biography were unimportant to 45 million voters. So why now are we shocked, shocked that off-brand candidates like Hillary Clinton and Donald Trump are vying for the presidency? Decrying these candidates is closing the barn door after the horses of virtue, wisdom, and decorum have already long gone. \\nSo absent a smoking howitzer in the next WikiLeaks dump, Comey’s restart of the investigation, which in any case will take months to complete, will probably not be the game-changing October surprise many hope for and others dread, especially given a corrupt media’s studied indifference to anything that damages their candidate. Then again, the rapid erosion of Hillary’s support is drawing analogies to Reagan’s late surge against Carter. \\nEither way, on November 8, most people will vote their economic interests and their ideological passions, and decide based on subjective perceptions and silly criteria like “cares for people like me.” Or they might just finally realize that Hillary’s accumulated offenses are intolerable. But what that standard of selection will deliver is anybody’s guess.', target=0)\n",
            "• Pandas(Index=5998, text='Videos Evidence Reveals Possible Link Between Voting Machines And Clinton Foundation According to OpenSecrets, the company who provided the alleged glitching voting machines is a subsidiary of The McCarthy Group, a major donor to the Clinton Foundation. | October 28, 2016 Be Sociable, Share! A technician works to prepare voting machines to be used in the upcoming presidential election, in Philadelphia, Friday, Oct. 14, 2016. \\nCould these connections be enough to implicate the Clinton Foundation in the alleged early vote rigging in Texas? \\nAs usual, the internet has come through as the ultimate watchdog while the supposed safeguards of our democracy have failed. \\nA Gab user by the name “Special Prosecutor Will Logan” has found some stunning information. Note: as Gab is a members only site, you’ll have to join to see his actual posts, but we included all pertinent information in the article. Click to enlarge \\nAccording to OpenSecrets, the company who provided the alleged glitching voting machines is a subsidiary of The McCarthy Group. \\nThe McCarthy group is a major donor to the Clinton Foundation – apparently donating 200,000 dollars in 2007 – when it was the largest owner of United States voting machines. Or perhaps the 200,000 dollars went to paying Bill Clinton for speeches? \\nEither way, it doesn’t look good. \\nBut there’s more. \\nAs the same user notes in this post , Dominion Voting Systems and The Clinton Foundation did a 2.25 million dollar charity initiative in developing nations together called the DELIAN Project. \\nAccording to the project’s own website : In 2014, Dominion Voting committed to providing emerging and post-conflict democracies with access to voting technology through its philanthropic support to the DELIAN Project, as many emerging democracies suffer from post-electoral violence due to the delay in the publishing of election results. Over the next three years, Dominion Voting will support election technology pilots with donated Automated Voting Machines (AVM), providing an improved electoral process, and therefore safer elections. As a large number of election staff are women, there will be an emphasis on training women, who will be the first to benefit from the skills transfer training and use of AVMs. It is estimated that 100 women will directly benefit from election technology skills training per pilot election. \\nOf course, this is all speculation, and we are not making any claims of illegal activity by the Clinton Foundation. \\nHowever, it presents a very troubling conflict of interest. Most Americans would certainly agree that voting machines should have zero connection to presidential candidates and their foundations. \\nConsider the implications further abroad, as well. Could this DELIAN Project be designed to influence elections in developing nations? \\nIt can certainly be argued that electronic voting machines do not in fact provide an “improved electoral process” or provide “safer elections” \\nAgain, this is speculation. This work by Planet Free Will is licensed under a Creative Commons Attribution-NonCommercial-ShareAlike 4.0 International License.', target=0)\n",
            "• Pandas(Index=5410, text=\"Share on Facebook You've got to hand it to this guy for such an ingenious, yet simple design. The how-to example in the video below is made from approximately 12 feet of copper tubing plus a few fittings (the stainless steel tube option is shown too). Follow the instructions in the video below to learn how to build it yourself. If a torch isn't something you have in your tool kit you can find “push on” fittings from a hardware store that you won't need to solder. NOTE: It is absolutely imperative if you do choose to solder your device, that you use lead-free solder. Prior to 1986, solder in the U.S. contained an alarmingly high content of lead. Chances are, if you live in a house built before the 1980's your tap water is contaminated with the neurotoxin lead due to leeching solder on your water pipes. All the more reason to filter your water with a device like this! Lead solder was the industry standard after all. Watch below: We don't have a water problem. We have a salt problem! - Joe Rogan Related:\", target=0)\n"
          ]
        }
      ],
      "source": [
        "# check again\n",
        "random_index=random.randint(0, len(df)-4)\n",
        "\n",
        "for row in df[['text','target']][random_index:random_index+4].itertuples():\n",
        "    print(\"• \" + str(row))"
      ]
    },
    {
      "cell_type": "markdown",
      "metadata": {
        "id": "c8IIlPlWL1hZ"
      },
      "source": [
        "# 2. Створення тренувального та тестувального наборів даних.\n",
        "\n"
      ]
    },
    {
      "cell_type": "code",
      "execution_count": 137,
      "metadata": {
        "id": "MPlm1GSH0UKa"
      },
      "outputs": [],
      "source": [
        "train_sentences, test_sentences, \\\n",
        "train_labels, test_labels = train_test_split(df['text'].to_numpy(),\n",
        "                                             df['target'].to_numpy(),\n",
        "                                             test_size=0.2, \n",
        "                                             random_state=49)"
      ]
    },
    {
      "cell_type": "code",
      "execution_count": 138,
      "metadata": {
        "colab": {
          "base_uri": "https://localhost:8080/"
        },
        "id": "o-0uadas_c87",
        "outputId": "88eca872-19a5-4463-f751-83d10e7b38e6"
      },
      "outputs": [
        {
          "output_type": "execute_result",
          "data": {
            "text/plain": [
              "array([\"An FBI dive team reportedly pulled an object from a San Bernardino lake Friday, seeking evidence pinpointing the motive and history of the attackers who killed more than a dozen people during a holiday party.\\n\\nOne diver handed the unknown item to an official wearing gloves, who put the object in a plastic bag, the Press-Enterprise reports.\\n\\nInvestigators are looking for a hard drive that may have been dumped in the lake, a law enforcement official briefed on the investigation told The Associated Press. David Bowdich, chief of the FBI's Los Angeles office, said investigative leads indicated the shooters had been in the area the day of the massacre and said the search of the lake could take days.\\n\\nFox News has learned that in 2012, one of the gunmen, Syed Farook, conspired with former neighbor Enrique Marquez, the man who purchased the rifles used in the deadly attack in San Bernardino on Dec. 2. The plot would have targeted the Los Angeles area.\\n\\nIt appeared the two were scared off the idea by the November 2012 arrests of four Southern California men attempting to travel to Afghanistan to wage holy war.\\n\\nThe small, urban lake is about 3 miles north of the shooting site.\\n\\nAuthorities say Farook and his wife, Tashfeen Malik, opened fire on his fellow San Bernardino County health inspectors during a holiday party, killing 14 people and wounding 22 others. The couple died hours later in a police shootout, leaving behind a 6-month-old daughter.\\n\\nFBI Director James Comey has said Farook had been in communication with individuals who were being scrutinized by the FBI in terrorism investigations, but that the contact he had was not enough to bring him onto the law enforcement radar.\\n\\nThe FBI has interviewed hundreds of people and conducted searches looking for evidence. Bowdich says it's possible the agency will do neighborhood canvasses in the future, too.\\n\\nFox News' Adam Housley and The Associated Press contributed to this report.\",\n",
              "       'President Obama invoked his\\xa0“Yes we can”\\xa02008 campaign slogan\\xa0Wednesday\\xa0night at the Democratic National Convention, leaving little doubt that his declaration that Hillary Clinton was\\xa0“fit”\\xa0and\\xa0“ready”\\xa0to be commander-in-chief was a\\xa0baton-passing of his eight years in office\\xa0— a legacy that Republican nominee Donald Trump immediately attacked as “Owning the 3rd Term.”\\n\\nCapping another night of Trump bashing\\xa0— briefly interrupted by the official nomination of Tim Kaine to be Clinton’s vice presidential running mate — Obama declared, “There has never been a man or a woman – not me, not Bill, nobody – more qualified than Hillary Clinton to serve as president of the United States of America,” at the same time accusing Trump of\\xa0peddling \"fear\" and a pessimistic vision of the country.\\n\\n\\u200eRepublicans immediately fired back, with party Chairman Reince Priebus issuing a statement saying, “Tonight reinforced that the Hillary Clinton, Tim Kaine ticket is nothing more than two career DC insiders who want nothing more than to continue the failed Democrat status quo.”\\n\\nHe pointed to what he called the president’s “failed legacy in the Middle East” and said, “Our\\xa0country cannot afford four more years like the last eight, which have left us less prosperous, less safe, and less free.”\\n\\nWithout question, the sitting president depends on his former secretary of state to help preserve his legacy, and fend off recurring Republican attempts to repeal ObamaCare, upend environmental regulations and more. But Republicans point to the other side of the picture – a debt nearing $20 trillion, tensions growing in America’s cities and an Islamic State threat that even top security officials suggest is growing in its reach and unpredictability.\\n\\n“Our country does not feel \\'great already\\' to the millions of wonderful people living in poverty, violence and despair,” Trump tweeted Wednesday night.\\n\\nObama, though,\\xa0tried to frame the election as a choice between pessimism and optimism, as he set the stage for Clinton to accept the nomination Thursday night.\\n\\n“America is already great. America is already strong,” Obama said. “And I promise you, our strength, our greatness, does not depend on Donald Trump.”\\n\\nClinton surprised the crowd by showing up onstage with Obama at the end of his speech, the two of them hugging and waving to delegates who were holding up \"thank you\" signs.\\n\\nObama’s address was delivered shortly after delegates finalized the party’s 2016 ticket. In an overwhelming voice vote, they nominated Virginia Sen. Tim Kaine for vice president.\\n\\nKaine himself, after starting off talking family and faith, shifted gears in the second half and shelved his nice-guy persona to deliver a broadside against Trump, as he accepted the VP nomination from his party.\\n\\n“Hillary has a passion for kids and families. … Donald Trump has a passion too: It\\'s himself,” Kaine said. The senator was merciless after that. He went on to mock Trump, imitating his Queens accent when he says, “Believe me.”\\n\\n“We\\'re gonna destroy ISIS so fast -- believe me! There\\'s nothing suspicious in my tax returns -- believe me!” Kaine bellowed, as the crowd roared with laughter. “Here\\'s the thing. Most people, when they run for president, they don\\'t just say ‘believe me.’ They respect you enough to tell you how they will get things done. … You cannot believe one word that comes out of Donald Trump\\'s mouth.”\\n\\nWhile he was speaking, the Trump campaign was firing out press releases ripping Kaine as a “job killer” and part of the Washington establishment.\\n\\nFormer New York City Mayor Michael Bloomberg, who had considered an independent presidential run before ruling it out, made a late appearance Wednesday – with an endorsement that could help Clinton reach out to vital independents whom Trump also is courting, and a bagful of zingers aimed squarely at his fellow billionaire.\\n\\n“Trump says he wants to run the nation like he’s run his business. God help us!” Bloomberg said, calling him a “dangerous demagogue” and claiming it’s “imperative” to elect Clinton.\\n\\nThe focus of the third convention night was heavy on gun control, global warming and even national security, an issue largely absent from the first two nights.\\n\\nTogether, the speakers Wednesday set the stage for Clinton to deliver her nomination acceptance speech and close out the convention Thursday night, after becoming Tuesday the first woman in U.S. history nominated for president by a major party.',\n",
              "       'HAMPTON, N.H. -- Hillary Rodham Clinton said Friday that she sees \"no role whatsoever for American soldiers on the ground to go back\" to Iraq as the Islamic State terrorist group makes gains.\\n\\nThe remarks by Clinton -- who has disavowed her own 2003 vote for the Iraq war as a senator -- come amid growing fervor among Republicans to send ground forces back to Iraq in some capacity to assist the Baghdad government in its battle with Islamic State, which earlier this week overran the city of Ramadi.\\n\\nThe Democratic front-runner made her comments during a brief news conference here at a brewery following a roundtable discussion with small-business leaders.\\n\\n\"I think it\\'s a very difficult situation and I basically agree with the policies that we are currently following,\" Clinton said. \"And that is, American air support is available. American intelligence and surveillance is available. American trainers are trying to undo the damage that was done to the Iraqi army by former prime minister Maliki, who bears a very big part of the responsibility for what is happening inside of Iraq today.\"\\n\\nBut she said \"this has to be fought by and won by Iraqis. There is no role whatsoever for American soldiers on the ground to go back, other than in the capacity as trainers and advisers.\"\\n\\nThe large field of Republicans vying for the 2016 nomination has set a hawkish tone and all have called on the United States to do more in Iraq, with varying degrees of specificity. Sen. Lindsey Graham (R-S.C.), who is running mostly on national security issues, has called for sending 10,000 U.S. troops into the country, and others -- including former Texas governor Rick Perry and pediatric neurosurgeon Ben Carson have advocated for an unspecified number.'],\n",
              "      dtype=object)"
            ]
          },
          "metadata": {},
          "execution_count": 138
        }
      ],
      "source": [
        "train_sentences[:3]"
      ]
    },
    {
      "cell_type": "code",
      "execution_count": 139,
      "metadata": {
        "colab": {
          "base_uri": "https://localhost:8080/"
        },
        "id": "yowuioKD_2Lq",
        "outputId": "db4ba9d7-1e5b-418a-840d-22730805fa5d"
      },
      "outputs": [
        {
          "output_type": "execute_result",
          "data": {
            "text/plain": [
              "array([1, 1, 1])"
            ]
          },
          "metadata": {},
          "execution_count": 139
        }
      ],
      "source": [
        "train_labels[:3]"
      ]
    },
    {
      "cell_type": "code",
      "execution_count": 139,
      "metadata": {
        "id": "orI10l8Z_4L8"
      },
      "outputs": [],
      "source": [
        ""
      ]
    },
    {
      "cell_type": "code",
      "execution_count": 140,
      "metadata": {
        "colab": {
          "base_uri": "https://localhost:8080/"
        },
        "id": "eEXamZ681uux",
        "outputId": "90c0fb94-b8fe-4dad-93d2-5f265ea73ceb"
      },
      "outputs": [
        {
          "output_type": "execute_result",
          "data": {
            "text/plain": [
              "dtype('O')"
            ]
          },
          "metadata": {},
          "execution_count": 140
        }
      ],
      "source": [
        "train_sentences.dtype # check data type"
      ]
    },
    {
      "cell_type": "code",
      "execution_count": 141,
      "metadata": {
        "colab": {
          "base_uri": "https://localhost:8080/"
        },
        "id": "ecveD2H91y8H",
        "outputId": "20c1f722-bff8-49e4-9552-83151507b7b3"
      },
      "outputs": [
        {
          "output_type": "execute_result",
          "data": {
            "text/plain": [
              "dtype('int64')"
            ]
          },
          "metadata": {},
          "execution_count": 141
        }
      ],
      "source": [
        "train_labels.dtype # check data type"
      ]
    },
    {
      "cell_type": "code",
      "execution_count": 142,
      "metadata": {
        "colab": {
          "base_uri": "https://localhost:8080/"
        },
        "id": "1wQbV9aJ12XT",
        "outputId": "024ebecb-fb2a-41b4-df2f-b52ad65dd87f"
      },
      "outputs": [
        {
          "output_type": "execute_result",
          "data": {
            "text/plain": [
              "(5068,)"
            ]
          },
          "metadata": {},
          "execution_count": 142
        }
      ],
      "source": [
        "train_sentences.shape # check shape"
      ]
    },
    {
      "cell_type": "code",
      "execution_count": 143,
      "metadata": {
        "colab": {
          "base_uri": "https://localhost:8080/"
        },
        "id": "fQMOHy_e15oI",
        "outputId": "3cd2c980-574f-4470-ca55-78faf2f23fc6"
      },
      "outputs": [
        {
          "output_type": "execute_result",
          "data": {
            "text/plain": [
              "(1267,)"
            ]
          },
          "metadata": {},
          "execution_count": 143
        }
      ],
      "source": [
        "test_sentences.shape # check shape"
      ]
    },
    {
      "cell_type": "code",
      "execution_count": 144,
      "metadata": {
        "id": "PvaMIAvP2J_2"
      },
      "outputs": [],
      "source": [
        "#TextVectorization transforms a batch of strings into either a list of token indices or a dense representation\n",
        "text_vectorizer = TextVectorization(max_tokens=10000, \n",
        "                                    standardize=\"lower_and_strip_punctuation\", \n",
        "                                    output_sequence_length=15)"
      ]
    },
    {
      "cell_type": "code",
      "execution_count": 145,
      "metadata": {
        "id": "SfY14fi92XvK"
      },
      "outputs": [],
      "source": [
        "#adapt dataset\n",
        "text_vectorizer.adapt(train_sentences)"
      ]
    },
    {
      "cell_type": "code",
      "execution_count": 146,
      "metadata": {
        "colab": {
          "base_uri": "https://localhost:8080/"
        },
        "id": "osPgpnoi2cBE",
        "outputId": "3e8aabe8-314f-4fc9-c561-e4448e05c839"
      },
      "outputs": [
        {
          "output_type": "execute_result",
          "data": {
            "text/plain": [
              "<tf.Tensor: shape=(1, 15), dtype=int64, numpy=\n",
              "array([[1881, 1898,    5, 1114, 3175,    0,    0,    0,    0,    0,    0,\n",
              "           0,    0,    0,    0]])>"
            ]
          },
          "metadata": {},
          "execution_count": 146
        }
      ],
      "source": [
        "# example\n",
        "sample_sentense = \"Computer vision and deep learning\"\n",
        "text_vectorizer([sample_sentense])"
      ]
    },
    {
      "cell_type": "code",
      "execution_count": 147,
      "metadata": {
        "colab": {
          "base_uri": "https://localhost:8080/"
        },
        "id": "yHolxfpk2g3C",
        "outputId": "24fb122f-c308-4d4b-d31d-19080f498d60"
      },
      "outputs": [
        {
          "output_type": "execute_result",
          "data": {
            "text/plain": [
              "['', '[UNK]', 'the', 'to', 'of', 'and', 'a', 'in', 'that', 'is']"
            ]
          },
          "metadata": {},
          "execution_count": 147
        }
      ],
      "source": [
        "#the get_vocabulary() function provides the vocabulary to build a metadata file with one token per line\n",
        "words = text_vectorizer.get_vocabulary()\n",
        "#The vocabulary contains the padding token ('') and OOV token ('[UNK]') as well as the passed tokens\n",
        "words[:10] # check data"
      ]
    },
    {
      "cell_type": "code",
      "execution_count": 148,
      "metadata": {
        "colab": {
          "base_uri": "https://localhost:8080/"
        },
        "id": "CMTw3DCh2hFg",
        "outputId": "e35afb26-e911-4d84-bd7b-5bad30702f1a"
      },
      "outputs": [
        {
          "output_type": "execute_result",
          "data": {
            "text/plain": [
              "<keras.layers.embeddings.Embedding at 0x7fe84e662bd0>"
            ]
          },
          "metadata": {},
          "execution_count": 148
        }
      ],
      "source": [
        "#turns positive integers (indexes) into dense vectors of fixed size\n",
        "embedding = Embedding(input_dim=10000, output_dim=128, input_length=15, name = 'embeding_1')\n",
        "embedding"
      ]
    },
    {
      "cell_type": "code",
      "execution_count": 149,
      "metadata": {
        "colab": {
          "base_uri": "https://localhost:8080/"
        },
        "id": "rk3pR3OX2hUu",
        "outputId": "2d0e6dfe-3307-4f55-9190-f8dfc7a542f0"
      },
      "outputs": [
        {
          "output_type": "execute_result",
          "data": {
            "text/plain": [
              "<tf.Tensor: shape=(1, 15, 128), dtype=float32, numpy=\n",
              "array([[[ 0.02219423, -0.01566228,  0.00764818, ...,  0.01674639,\n",
              "          0.0077601 ,  0.04880687],\n",
              "        [-0.01020607, -0.02018758,  0.04567447, ..., -0.02020196,\n",
              "          0.02318648, -0.00456125],\n",
              "        [-0.04840731,  0.0198687 , -0.04803182, ..., -0.04367474,\n",
              "         -0.03023669, -0.01660508],\n",
              "        ...,\n",
              "        [ 0.02113951,  0.0150087 , -0.00407283, ...,  0.03145221,\n",
              "          0.04714879, -0.02439568],\n",
              "        [ 0.02113951,  0.0150087 , -0.00407283, ...,  0.03145221,\n",
              "          0.04714879, -0.02439568],\n",
              "        [ 0.02113951,  0.0150087 , -0.00407283, ...,  0.03145221,\n",
              "          0.04714879, -0.02439568]]], dtype=float32)>"
            ]
          },
          "metadata": {},
          "execution_count": 149
        }
      ],
      "source": [
        "#example\n",
        "sample_embed = embedding(text_vectorizer([\"Computer vision and deep learning\"]))\n",
        "sample_embed"
      ]
    },
    {
      "cell_type": "markdown",
      "metadata": {
        "id": "RNy1iq6CsE5Q"
      },
      "source": [
        "# 3. Попередню оцінку точності моделі за допомогою методу Naive Bayes"
      ]
    },
    {
      "cell_type": "code",
      "execution_count": 150,
      "metadata": {
        "id": "kuu8hsAUsFV1"
      },
      "outputs": [],
      "source": [
        "#first model, using MultinomialNB()\n",
        "model_0 = Pipeline([(\"tfidf\", TfidfVectorizer()),\n",
        "                    (\"clf\", MultinomialNB())])\n"
      ]
    },
    {
      "cell_type": "code",
      "execution_count": 151,
      "metadata": {
        "colab": {
          "base_uri": "https://localhost:8080/"
        },
        "id": "tt7XszZL4MLI",
        "outputId": "8631a059-f0e0-438e-ae83-84c6144e9ed2"
      },
      "outputs": [
        {
          "output_type": "execute_result",
          "data": {
            "text/plain": [
              "Pipeline(steps=[('tfidf', TfidfVectorizer()), ('clf', MultinomialNB())])"
            ]
          },
          "metadata": {},
          "execution_count": 151
        }
      ],
      "source": [
        "# train model\n",
        "model_0.fit(train_sentences, train_labels)"
      ]
    },
    {
      "cell_type": "code",
      "execution_count": 152,
      "metadata": {
        "colab": {
          "base_uri": "https://localhost:8080/"
        },
        "id": "QY5iOWm34QjM",
        "outputId": "01ee0cfa-d378-49be-f402-b82bcdcd9adc"
      },
      "outputs": [
        {
          "output_type": "execute_result",
          "data": {
            "text/plain": [
              "0.7932123125493291"
            ]
          },
          "metadata": {},
          "execution_count": 152
        }
      ],
      "source": [
        "# get the score of the model\n",
        "baseline_score = model_0.score(test_sentences, test_labels)\n",
        "baseline_score"
      ]
    },
    {
      "cell_type": "code",
      "execution_count": 153,
      "metadata": {
        "id": "01knZY0n4ZQb"
      },
      "outputs": [],
      "source": [
        "# get the predictions\n",
        "y_hat_0 = model_0.predict(test_sentences)"
      ]
    },
    {
      "cell_type": "code",
      "execution_count": 154,
      "metadata": {
        "colab": {
          "base_uri": "https://localhost:8080/"
        },
        "id": "Ky5EQ_Y24d_a",
        "outputId": "c278817a-3629-4a83-fddd-20a0fc4c0d7d"
      },
      "outputs": [
        {
          "output_type": "execute_result",
          "data": {
            "text/plain": [
              "array([0, 1, 0, 1, 1, 1, 1, 0, 0, 1])"
            ]
          },
          "metadata": {},
          "execution_count": 154
        }
      ],
      "source": [
        "# check results\n",
        "test_labels[:10]"
      ]
    },
    {
      "cell_type": "code",
      "execution_count": 155,
      "metadata": {
        "colab": {
          "base_uri": "https://localhost:8080/"
        },
        "id": "OhQBIQ794hLs",
        "outputId": "9322d012-e6e8-4b5b-8695-a3b8b4b11d9b"
      },
      "outputs": [
        {
          "output_type": "execute_result",
          "data": {
            "text/plain": [
              "array([0, 1, 0, 1, 1, 1, 1, 0, 0, 0])"
            ]
          },
          "metadata": {},
          "execution_count": 155
        }
      ],
      "source": [
        "# check results\n",
        "y_hat_0[:10]"
      ]
    },
    {
      "cell_type": "code",
      "execution_count": 156,
      "metadata": {
        "id": "UIz_obkZ4msM"
      },
      "outputs": [],
      "source": [
        "def calculate_results(y_true, y_pred):\n",
        "    \"\"\"\n",
        "    Calculates model accuracy, precision, recall and f1 score of a classification model.\n",
        "\n",
        "    Args:\n",
        "    -----\n",
        "    y_true = true labels in the form of a 1D array\n",
        "    y_pred = predicted labels in the form of a 1D array\n",
        "\n",
        "    Returns a dictionary of accuracy, precision, recall, f1-score.\n",
        "    \"\"\"\n",
        "\n",
        "    # Calculate model accuracy\n",
        "    model_accuracy = accuracy_score(y_true, y_pred) * 100\n",
        "    # Calculate model precision, recall and f1 score using \"weighted\" average\n",
        "    model_precision, model_recall, model_f1, _ = precision_recall_fscore_support(y_true, y_pred, average=\"weighted\")\n",
        "    model_results = {\"accuracy\": model_accuracy,\n",
        "                     \"precision\": model_precision,\n",
        "                     \"recall\": model_recall,\n",
        "                     \"f1\": model_f1}\n",
        "    return model_results"
      ]
    },
    {
      "cell_type": "code",
      "execution_count": 157,
      "metadata": {
        "id": "6rAkkyUV4v-a"
      },
      "outputs": [],
      "source": [
        "# calculate results\n",
        "res_0 = calculate_results(test_labels, y_hat_0)"
      ]
    },
    {
      "cell_type": "code",
      "execution_count": 158,
      "metadata": {
        "colab": {
          "base_uri": "https://localhost:8080/"
        },
        "id": "ycoqjv_W42VV",
        "outputId": "5b2d4bbd-9129-4384-af04-b1bc49578fbf"
      },
      "outputs": [
        {
          "output_type": "execute_result",
          "data": {
            "text/plain": [
              "dtype('O')"
            ]
          },
          "metadata": {},
          "execution_count": 158
        }
      ],
      "source": [
        "test_sentences.dtype # check type of sentences"
      ]
    },
    {
      "cell_type": "markdown",
      "metadata": {
        "id": "HmIDmD2osbIJ"
      },
      "source": [
        "# 4. Вирішення задачі класифікації за допомогою методу [GRU]"
      ]
    },
    {
      "cell_type": "code",
      "execution_count": 159,
      "metadata": {
        "id": "UAmJW9Ay5pdG"
      },
      "outputs": [],
      "source": [
        "# GRU\n",
        "# setting inputs and outputs of NN\n",
        "inputs = layers.Input(shape=(1,), dtype=\"string\")\n",
        "x = text_vectorizer(inputs)\n",
        "x = embedding(x)\n",
        "x = layers.GRU(64)(x)\n",
        "outputs = layers.Dense(1, activation=\"sigmoid\")(x) # binary"
      ]
    },
    {
      "cell_type": "code",
      "execution_count": 160,
      "metadata": {
        "id": "GM8fpx4b7M7p"
      },
      "outputs": [],
      "source": [
        "#create model\n",
        "model_1 = tf.keras.Model(inputs, outputs, name=\"model_gru\")"
      ]
    },
    {
      "cell_type": "code",
      "execution_count": 161,
      "metadata": {
        "id": "8lmpAtcY98qF"
      },
      "outputs": [],
      "source": [
        "# create model\n",
        "model_1.compile(loss='binary_crossentropy', optimizer=tf.keras.optimizers.Adam(), metrics=[\"accuracy\"]) "
      ]
    },
    {
      "cell_type": "code",
      "execution_count": 162,
      "metadata": {
        "colab": {
          "base_uri": "https://localhost:8080/"
        },
        "id": "_x30C2Mx_W4_",
        "outputId": "696c9e1b-ec59-4b39-bd56-92cf038c7c96"
      },
      "outputs": [
        {
          "output_type": "stream",
          "name": "stdout",
          "text": [
            "Model: \"model_gru\"\n",
            "_________________________________________________________________\n",
            " Layer (type)                Output Shape              Param #   \n",
            "=================================================================\n",
            " input_3 (InputLayer)        [(None, 1)]               0         \n",
            "                                                                 \n",
            " text_vectorization_3 (TextV  (None, 15)               0         \n",
            " ectorization)                                                   \n",
            "                                                                 \n",
            " embeding_1 (Embedding)      (None, 15, 128)           1280000   \n",
            "                                                                 \n",
            " gru_2 (GRU)                 (None, 64)                37248     \n",
            "                                                                 \n",
            " dense_2 (Dense)             (None, 1)                 65        \n",
            "                                                                 \n",
            "=================================================================\n",
            "Total params: 1,317,313\n",
            "Trainable params: 1,317,313\n",
            "Non-trainable params: 0\n",
            "_________________________________________________________________\n"
          ]
        }
      ],
      "source": [
        "# check model\n",
        "model_1.summary()"
      ]
    },
    {
      "cell_type": "code",
      "execution_count": 163,
      "metadata": {
        "colab": {
          "base_uri": "https://localhost:8080/"
        },
        "id": "UkFxiH-lA4Sr",
        "outputId": "55fb6e70-ce2f-4777-9f27-97681726dd94"
      },
      "outputs": [
        {
          "output_type": "stream",
          "name": "stdout",
          "text": [
            "Epoch 1/10\n",
            "159/159 [==============================] - 6s 21ms/step - loss: 0.4164 - accuracy: 0.7968 - val_loss: 0.2762 - val_accuracy: 0.8761\n",
            "Epoch 2/10\n",
            "159/159 [==============================] - 3s 18ms/step - loss: 0.1377 - accuracy: 0.9489 - val_loss: 0.3130 - val_accuracy: 0.8737\n",
            "Epoch 3/10\n",
            "159/159 [==============================] - 3s 18ms/step - loss: 0.0494 - accuracy: 0.9838 - val_loss: 0.4236 - val_accuracy: 0.8635\n",
            "Epoch 4/10\n",
            "159/159 [==============================] - 3s 18ms/step - loss: 0.0244 - accuracy: 0.9915 - val_loss: 0.5647 - val_accuracy: 0.8650\n",
            "Epoch 5/10\n",
            "159/159 [==============================] - 3s 18ms/step - loss: 0.0086 - accuracy: 0.9972 - val_loss: 0.7258 - val_accuracy: 0.8532\n",
            "Epoch 6/10\n",
            "159/159 [==============================] - 3s 18ms/step - loss: 0.0038 - accuracy: 0.9994 - val_loss: 0.7896 - val_accuracy: 0.8658\n",
            "Epoch 7/10\n",
            "159/159 [==============================] - 3s 18ms/step - loss: 0.0034 - accuracy: 0.9996 - val_loss: 0.6966 - val_accuracy: 0.8642\n",
            "Epoch 8/10\n",
            "159/159 [==============================] - 3s 18ms/step - loss: 0.0023 - accuracy: 0.9998 - val_loss: 0.8132 - val_accuracy: 0.8650\n",
            "Epoch 9/10\n",
            "159/159 [==============================] - 3s 17ms/step - loss: 0.0012 - accuracy: 0.9998 - val_loss: 0.8367 - val_accuracy: 0.8571\n",
            "Epoch 10/10\n",
            "159/159 [==============================] - 3s 18ms/step - loss: 0.0023 - accuracy: 0.9998 - val_loss: 0.8655 - val_accuracy: 0.8603\n"
          ]
        }
      ],
      "source": [
        "# train model\n",
        "model_1_history = model_1.fit(train_sentences, \n",
        "                              train_labels, \n",
        "                              epochs=10, \n",
        "                              validation_data=(test_sentences, test_labels),\n",
        "                              verbose=True)"
      ]
    },
    {
      "cell_type": "code",
      "source": [
        "# check on test data\n",
        "print(\"...evaluating model...\")\n",
        "model_1.evaluate(test_sentences, test_labels)"
      ],
      "metadata": {
        "colab": {
          "base_uri": "https://localhost:8080/"
        },
        "id": "1haXUk3_EbhQ",
        "outputId": "ba3035fc-9380-4dc1-c808-55031cec140e"
      },
      "execution_count": 164,
      "outputs": [
        {
          "output_type": "stream",
          "name": "stdout",
          "text": [
            "...evaluating model...\n",
            "40/40 [==============================] - 0s 11ms/step - loss: 0.8655 - accuracy: 0.8603\n"
          ]
        },
        {
          "output_type": "execute_result",
          "data": {
            "text/plain": [
              "[0.8654985427856445, 0.8602999448776245]"
            ]
          },
          "metadata": {},
          "execution_count": 164
        }
      ]
    },
    {
      "cell_type": "code",
      "source": [
        "# check shape\n",
        "print(\"test_labels.shape = \", test_labels.shape)\n",
        "print()"
      ],
      "metadata": {
        "colab": {
          "base_uri": "https://localhost:8080/"
        },
        "id": "3viDhfaIEmTt",
        "outputId": "4596b480-0952-4be9-f2f5-ae9e1f093265"
      },
      "execution_count": 165,
      "outputs": [
        {
          "output_type": "stream",
          "name": "stdout",
          "text": [
            "test_labels.shape =  (1267,)\n",
            "\n"
          ]
        }
      ]
    },
    {
      "cell_type": "code",
      "source": [
        "# get the probabilities\n",
        "y_prob = model_1.predict(test_sentences)"
      ],
      "metadata": {
        "id": "x0xLIFV9EtgF"
      },
      "execution_count": 166,
      "outputs": []
    },
    {
      "cell_type": "code",
      "source": [
        "# get the classes\n",
        "y_hat = y_prob.argmax(axis=-1)"
      ],
      "metadata": {
        "id": "UTnM3idiExeq"
      },
      "execution_count": 167,
      "outputs": []
    },
    {
      "cell_type": "code",
      "source": [
        "# see the test labels\n",
        "print(\"test_labels =\\n\", test_labels)\n",
        "print()"
      ],
      "metadata": {
        "colab": {
          "base_uri": "https://localhost:8080/"
        },
        "id": "vR230EqBEzue",
        "outputId": "310d8243-b97f-4976-e8df-7a639769c8c6"
      },
      "execution_count": 168,
      "outputs": [
        {
          "output_type": "stream",
          "name": "stdout",
          "text": [
            "test_labels =\n",
            " [0 1 0 ... 1 1 1]\n",
            "\n"
          ]
        }
      ]
    },
    {
      "cell_type": "code",
      "execution_count": 177,
      "metadata": {
        "colab": {
          "base_uri": "https://localhost:8080/"
        },
        "id": "UDB6yk3oCVxp",
        "outputId": "1cce4d44-4859-4cfe-ad1c-f3b9ae53f923"
      },
      "outputs": [
        {
          "output_type": "stream",
          "name": "stderr",
          "text": [
            "/usr/local/lib/python3.7/dist-packages/sklearn/metrics/_classification.py:1308: UndefinedMetricWarning: Precision and F-score are ill-defined and being set to 0.0 in labels with no predicted samples. Use `zero_division` parameter to control this behavior.\n",
            "  _warn_prf(average, modifier, msg_start, len(result))\n"
          ]
        }
      ],
      "source": [
        "# check results\n",
        "res_1 = calculate_results(test_labels, y_hat)"
      ]
    },
    {
      "cell_type": "markdown",
      "metadata": {
        "id": "aH5Ne1GasQCY"
      },
      "source": [
        "# 5. Графічне відображення тренування моделі.\n",
        "\n",
        "\n"
      ]
    },
    {
      "cell_type": "code",
      "execution_count": 173,
      "metadata": {
        "id": "km07gGqcsQ9R"
      },
      "outputs": [],
      "source": [
        "def plot_NN_history(model_history, suptitle):\n",
        "    # plot data\n",
        "    fig, axes = plt.subplots(nrows=1, ncols=2, figsize=(15,6))\n",
        "    fig.suptitle(suptitle, fontsize=18)\n",
        "    \n",
        "    axes[0].plot(model_history.history['accuracy'], label='train accuracy', color='m', axes=axes[0])\n",
        "    axes[0].plot(model_history.history['val_accuracy'], label='val accuracy', color='c', axes=axes[0])\n",
        "    axes[0].set_title(\"Model Accuracy\", fontsize=16) \n",
        "    axes[0].legend(loc='upper left')\n",
        "\n",
        "    axes[1].plot(model_history.history['loss'], label='train loss', color='m', axes=axes[1])\n",
        "    axes[1].plot(model_history.history['val_loss'], label='val loss', color='c', axes=axes[1])\n",
        "    axes[1].set_title(\"Model Loss\", fontsize=16) \n",
        "    axes[1].legend(loc='upper left')\n",
        "\n",
        "    plt.show()"
      ]
    },
    {
      "cell_type": "code",
      "execution_count": 174,
      "metadata": {
        "colab": {
          "base_uri": "https://localhost:8080/",
          "height": 417
        },
        "id": "qK8Ln25DBaKp",
        "outputId": "1c1e531c-eb17-4fdf-a74b-8e4f63d06ad0"
      },
      "outputs": [
        {
          "output_type": "display_data",
          "data": {
            "image/png": "[encoded data removed]",
            "text/plain": [
              "<Figure size 1080x432 with 2 Axes>"
            ]
          },
          "metadata": {
            "needs_background": "light"
          }
        }
      ],
      "source": [
        "plot_NN_history(model_1_history, \"gru\")"
      ]
    },
    {
      "cell_type": "markdown",
      "metadata": {
        "id": "Rpeuljqys9LD"
      },
      "source": [
        "#6. Порівняння результатів, отриманих у п.п. 3,4"
      ]
    },
    {
      "cell_type": "code",
      "execution_count": 175,
      "metadata": {
        "id": "DL9iRMHYtCe4"
      },
      "outputs": [],
      "source": [
        "def plot_results(results, ax1, ax2, ax3, ax4):\n",
        "    \n",
        "    \n",
        "    ax1 = results['accuracy'].plot.bar(ax=ax1, color='m', legend=False)\n",
        "    ax1.set_title(\"Accuracy\", fontsize=16)\n",
        "    \n",
        "    ax2 = results['precision'].plot.bar(ax=ax2, color='c', legend=False)\n",
        "    ax2.set_title(\"Precision\", fontsize=16)   \n",
        "    \n",
        "    ax3 = results['recall'].plot.bar(ax=ax3, color='g', legend=False)\n",
        "    ax3.set_title(\"Recall\", fontsize=16) \n",
        "    \n",
        "    ax4 = results['f1'].plot.bar(ax=ax4, color='r', legend=False)\n",
        "    ax4.set_title(\"F1\", fontsize=16) \n",
        "    \n",
        "    print()"
      ]
    },
    {
      "cell_type": "code",
      "execution_count": 178,
      "metadata": {
        "colab": {
          "base_uri": "https://localhost:8080/",
          "height": 380
        },
        "id": "1S1D92eMDJ2t",
        "outputId": "a39a0d05-bb87-4d96-90c4-fff9484a9afb"
      },
      "outputs": [
        {
          "output_type": "error",
          "ename": "TypeError",
          "evalue": "ignored",
          "traceback": [
            "\u001b[0;31m---------------------------------------------------------------------------\u001b[0m",
            "\u001b[0;31mTypeError\u001b[0m                                 Traceback (most recent call last)",
            "\u001b[0;32m<ipython-input-178-9e1d17174c98>\u001b[0m in \u001b[0;36m<module>\u001b[0;34m()\u001b[0m\n\u001b[1;32m      1\u001b[0m \u001b[0mresults\u001b[0m \u001b[0;34m=\u001b[0m \u001b[0;34m[\u001b[0m\u001b[0mres_0\u001b[0m\u001b[0;34m,\u001b[0m \u001b[0mres_1\u001b[0m\u001b[0;34m]\u001b[0m\u001b[0;34m\u001b[0m\u001b[0;34m\u001b[0m\u001b[0m\n\u001b[0;32m----> 2\u001b[0;31m \u001b[0mresults\u001b[0m \u001b[0;34m=\u001b[0m \u001b[0mpd\u001b[0m\u001b[0;34m.\u001b[0m\u001b[0mconcat\u001b[0m\u001b[0;34m(\u001b[0m\u001b[0mresults\u001b[0m\u001b[0;34m,\u001b[0m \u001b[0mignore_index\u001b[0m\u001b[0;34m=\u001b[0m\u001b[0;32mTrue\u001b[0m\u001b[0;34m)\u001b[0m\u001b[0;34m\u001b[0m\u001b[0;34m\u001b[0m\u001b[0m\n\u001b[0m\u001b[1;32m      3\u001b[0m \u001b[0mresults\u001b[0m\u001b[0;34m.\u001b[0m\u001b[0mindex\u001b[0m \u001b[0;34m=\u001b[0m \u001b[0mresults\u001b[0m\u001b[0;34m[\u001b[0m\u001b[0;34m'model'\u001b[0m\u001b[0;34m]\u001b[0m\u001b[0;34m\u001b[0m\u001b[0;34m\u001b[0m\u001b[0m\n\u001b[1;32m      4\u001b[0m \u001b[0mresults\u001b[0m \u001b[0;34m=\u001b[0m \u001b[0mresults\u001b[0m\u001b[0;34m.\u001b[0m\u001b[0mdrop\u001b[0m\u001b[0;34m(\u001b[0m\u001b[0mcolumns\u001b[0m\u001b[0;34m=\u001b[0m\u001b[0;34m[\u001b[0m\u001b[0;34m'model'\u001b[0m\u001b[0;34m]\u001b[0m\u001b[0;34m)\u001b[0m\u001b[0;34m\u001b[0m\u001b[0;34m\u001b[0m\u001b[0m\n\u001b[1;32m      5\u001b[0m \u001b[0mresults\u001b[0m \u001b[0;31m# check data\u001b[0m\u001b[0;34m\u001b[0m\u001b[0;34m\u001b[0m\u001b[0m\n",
            "\u001b[0;32m/usr/local/lib/python3.7/dist-packages/pandas/core/reshape/concat.py\u001b[0m in \u001b[0;36mconcat\u001b[0;34m(objs, axis, join, ignore_index, keys, levels, names, verify_integrity, sort, copy)\u001b[0m\n\u001b[1;32m    282\u001b[0m         \u001b[0mverify_integrity\u001b[0m\u001b[0;34m=\u001b[0m\u001b[0mverify_integrity\u001b[0m\u001b[0;34m,\u001b[0m\u001b[0;34m\u001b[0m\u001b[0;34m\u001b[0m\u001b[0m\n\u001b[1;32m    283\u001b[0m         \u001b[0mcopy\u001b[0m\u001b[0;34m=\u001b[0m\u001b[0mcopy\u001b[0m\u001b[0;34m,\u001b[0m\u001b[0;34m\u001b[0m\u001b[0;34m\u001b[0m\u001b[0m\n\u001b[0;32m--> 284\u001b[0;31m         \u001b[0msort\u001b[0m\u001b[0;34m=\u001b[0m\u001b[0msort\u001b[0m\u001b[0;34m,\u001b[0m\u001b[0;34m\u001b[0m\u001b[0;34m\u001b[0m\u001b[0m\n\u001b[0m\u001b[1;32m    285\u001b[0m     )\n\u001b[1;32m    286\u001b[0m \u001b[0;34m\u001b[0m\u001b[0m\n",
            "\u001b[0;32m/usr/local/lib/python3.7/dist-packages/pandas/core/reshape/concat.py\u001b[0m in \u001b[0;36m__init__\u001b[0;34m(self, objs, axis, join, keys, levels, names, ignore_index, verify_integrity, copy, sort)\u001b[0m\n\u001b[1;32m    357\u001b[0m                     \u001b[0;34m\"only Series and DataFrame objs are valid\"\u001b[0m\u001b[0;34m\u001b[0m\u001b[0;34m\u001b[0m\u001b[0m\n\u001b[1;32m    358\u001b[0m                 )\n\u001b[0;32m--> 359\u001b[0;31m                 \u001b[0;32mraise\u001b[0m \u001b[0mTypeError\u001b[0m\u001b[0;34m(\u001b[0m\u001b[0mmsg\u001b[0m\u001b[0;34m)\u001b[0m\u001b[0;34m\u001b[0m\u001b[0;34m\u001b[0m\u001b[0m\n\u001b[0m\u001b[1;32m    360\u001b[0m \u001b[0;34m\u001b[0m\u001b[0m\n\u001b[1;32m    361\u001b[0m             \u001b[0;31m# consolidate\u001b[0m\u001b[0;34m\u001b[0m\u001b[0;34m\u001b[0m\u001b[0;34m\u001b[0m\u001b[0m\n",
            "\u001b[0;31mTypeError\u001b[0m: cannot concatenate object of type '<class 'dict'>'; only Series and DataFrame objs are valid"
          ]
        }
      ],
      "source": [
        "results = [res_0, res_1]\n",
        "results = pd.concat(results, ignore_index=True)\n",
        "results.index = results['model']\n",
        "results = results.drop(columns=['model'])\n",
        "results # check data"
      ]
    },
    {
      "cell_type": "code",
      "execution_count": null,
      "metadata": {
        "id": "EdZMBDB6DBQ4"
      },
      "outputs": [],
      "source": [
        "# plot data\n",
        "fig, (ax1, ax2, ax3, ax4) = plt.subplots(nrows=1, ncols=4, figsize=(20,8))\n",
        "plt.suptitle(\"Performance of the naive bayes & VARIANT\", fontsize=18) \n",
        "plot_results(results, ax1, ax2, ax3, ax4)\n",
        "plt.show()"
      ]
    },
    {
      "cell_type": "code",
      "execution_count": null,
      "metadata": {
        "id": "qvpzShiWDBj6"
      },
      "outputs": [],
      "source": [
        ""
      ]
    },
    {
      "cell_type": "markdown",
      "metadata": {
        "id": "26yZUeT2tDWK"
      },
      "source": [
        "# 7. Висновок"
      ]
    },
    {
      "cell_type": "code",
      "execution_count": null,
      "metadata": {
        "id": "oRO0qVyVtHDQ"
      },
      "outputs": [],
      "source": [
        ""
      ]
    }
  ],
  "metadata": {
    "accelerator": "GPU",
    "colab": {
      "collapsed_sections": [],
      "name": "Moskalenko.ipynb",
      "provenance": [],
      "include_colab_link": true
    },
    "kernelspec": {
      "display_name": "Python 3",
      "name": "python3"
    },
    "language_info": {
      "name": "python"
    }
  },
  "nbformat": 4,
  "nbformat_minor": 0
}