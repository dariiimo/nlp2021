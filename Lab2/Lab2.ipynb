{
  "nbformat": 4,
  "nbformat_minor": 0,
  "metadata": {
    "colab": {
      "name": "Lab2.ipynb",
      "provenance": [],
      "collapsed_sections": [],
      "include_colab_link": true
    },
    "kernelspec": {
      "name": "python3",
      "display_name": "Python 3"
    },
    "language_info": {
      "name": "python"
    }
  },
  "cells": [
    {
      "cell_type": "markdown",
      "metadata": {
        "id": "view-in-github",
        "colab_type": "text"
      },
      "source": [
        "<a href=\"https://colab.research.google.com/github/dariiimo/nlp2021/blob/main/Lab2/Lab2.ipynb\" target=\"_parent\"><img src=\"https://colab.research.google.com/assets/colab-badge.svg\" alt=\"Open In Colab\"/></a>"
      ]
    },
    {
      "cell_type": "code",
      "metadata": {
        "id": "ifAPvdFTA_Km"
      },
      "source": [
        "import numpy as np, pandas as pd, tensorflow as tf, requests as rqst, io\n",
        "from tensorflow.keras.layers.experimental.preprocessing import TextVectorization\n",
        "from tensorflow.keras import layers\n",
        "\n",
        "rnd = np.random.randint\n",
        "\n",
        "folder = '/content/drive/MyDrive/нлп/'"
      ],
      "execution_count": 2,
      "outputs": []
    },
    {
      "cell_type": "code",
      "metadata": {
        "id": "qwIabRAeYeVC",
        "colab": {
          "base_uri": "https://localhost:8080/"
        },
        "outputId": "30016e37-0546-4a75-dc46-f21f412d9fda"
      },
      "source": [
        "file = open(folder+'100.txt',encoding='windows-1251')\n",
        "sentences = file.read().split('. ')[:-1]\n",
        "sentences"
      ],
      "execution_count": 4,
      "outputs": [
        {
          "output_type": "execute_result",
          "data": {
            "text/plain": [
              "['The process of rare disease identification by clinical geneticists is closely associated with the ability to correlate the phenotype of a patient with the relevant genetic syndromes',\n",
              " 'In order to perform this correlation, the phenotype has to be described in a canonical form or language',\n",
              " 'Phenotypes such as this are hard to define in a robust manner',\n",
              " 'In order to build such a system, we decided to focus on facial analysis in our journey to create a leading AI solution using next generation phenotyping (NGP)',\n",
              " 'With facial recognition one can take as many facial images as needed per person',\n",
              " 'When aggregating knowledge from clinicians, we noticed that there is an internal bias of ethnicity that is closely associated with certain syndromes, some more than others',\n",
              " ' As we maintain the highest privacy and security standards, developers are unable to access user data',\n",
              " 'Tailoring a solution that combines the components of genomics and AI-based phenotyping is not an easy task and it depends on the ability of stakeholders from many disciplines to work together, share data, and collaborate on research and development',\n",
              " 'One valuable approach for improving medical care for rare disease patients are initiatives and networks that aim to bundle data and expertise about rare diseases so that healthcare providers can easily access and exchange relevant information',\n",
              " ' We opted to perform a scoping review because this type of review is best suited to map research activity in a broad and heterogeneous field such as machine learning and rare diseases',\n",
              " 'To identify scientific articles that apply machine learning in the field of rare diseases, we systematically searched the literature on PubMed',\n",
              " 'Study selection and data extraction were performed by the first author (JuS)',\n",
              " 'Human error hinders accurate diagnostics, as interpreting medical information is a complex and cognitively challenging task',\n",
              " 'The entire diagnostic process, in general, is a sophisticated and patient-centered, collaborative activity that involves information gathering and clinical reasoning with the goal of determining a patient’s health problem',\n",
              " 'The working diagnosis and an explanation of it are shared with the patient, and appropriate treatment is planned',\n",
              " 'This highly complex process has, on the one hand, great potential for errors and, on the other hand, may vary according to the medical discipline',\n",
              " 'Furthermore, the amount of medical data is continuously growing, and systems are now capable of identifying, extracting, and processing information from different sources more quickly than previously',\n",
              " 'The solution is adjusted to accurately detect pathology in images, also to identify normal healthy screens',\n",
              " ' The solution is adjusted to accurately detect pathology in images, also to identify normal healthy screens',\n",
              " 'By sifting out healthy patients, the system allows healthcare providers to eliminate up to 90% of related triage costs',\n",
              " 'The objective of this research lies in identifying in which areas of the diagnostic process AI has already been applied and how these approaches are to be evaluated',\n",
              " 'We focused on papers that specifically considered and applied AI in the context of diagnostics',\n",
              " 'Nevertheless, these studies are rather the exception; most approaches have developed a specific algorithm to diagnose a particular disease',\n",
              " 'The increasing number of studies is a product of the enhanced and ever-growing technical capabilities and the quantity of medical data',\n",
              " 'A key difference is that algorithms need a lot of concrete examples – many thousands – in order to learn',\n",
              " 'Since there is plenty of good data available in these cases, algorithms are becoming just as good at diagnostics as the experts',\n",
              " 'Instead, AI systems will be used to highlight potentially malignant lesions or dangerous cardiac patterns for the expert – allowing the doctor to focus on the interpretation of those signals',\n",
              " 'Images are one of the types of data that AI, namely deep learning, is more fruitful at analyzing; hence, imaging is crucial in phenotyping, diagnosis, and even the identification of new RDs',\n",
              " 'The authors use transfer learning to translate the general face recognition learning trained on a large scale dataset to the rare genetic syndromes domain',\n",
              " 'The unraveling of underlying affected genetic and molecular players and pathways is crucial for disease comprehension and therapeutic target selection',\n",
              " 'Biomedical robots are sets of algorithms or classifiers that can analyze data, create new knowledge, and even act as medical DSS',\n",
              " 'The lack of data, complexity and heterogeneity within and among RDs, and overlapping and infrequent clinical manifestations challenge correct disease classification',\n",
              " ' AI presents as a potential game-changer in this field, backed up by the encouraging results obtained in treatment discovery in common disorders',\n",
              " 'The use of AI algorithms in diagnosis (e.g., analysis and classification of sequence pathogenic variants) and drug discovery and preclinical research (e.g., new molecules designing, animal testing reduction, drug interaction) are just some of the examples of the benefits AI has brought to biomedicine',\n",
              " 'In supervised learning, the data are labeled, that is, the algorithm is given the input data along with the corresponding target data',\n",
              " 'The ability of AI technologies to integrate and analyze data from different sources (e.g., multi-omics, patient registries, and so on) can be used to overcome Rare diseases challenges',\n",
              " 'The AI technology has been applied to various aspects of cataract, both on clinical and surgical management, from diagnosing cataracts to optimizing the biometry for intraocular lens (IOL) power calculation.Automation derived from AI application could not only improve screening and objective assessment but also cause less stress and pain for infants undergoing examination compared with indirect ophthalmoscopy',\n",
              " \"Furthermore, some studies on AI have focused on pediatric ophthalmology, with the aim of helping clinicians in overcoming common practical limitations due to pediatric patients' compliance\",\n",
              " 'External validation of algorithms represents the second challenge',\n",
              " 'Some solutions to recognize potential biases and limit unwanted outcomes could be to rebalance the training dataset if a certain subgroup is underrepresented or to select a training dataset with diverse patient populations',\n",
              " 'AI could speed up some processes, reduce the workload for clinicians, and minimize diagnostic errors due to inappropriate data integration',\n",
              " 'Support vector machine was also applied in cancer diagnosis',\n",
              " 'With the help of machine learning process, structured data like genetic data, electro physical data, and imaging data are properly investigated',\n",
              " 'Correspondingly, a device that is wearable was proposed for gathering data for regular and pathological steps for calculation of stroke',\n",
              " 'Several studies have attempted to concern machine learning techniques to neuro-imaging data to support with stroke analysis',\n",
              " 'To enhance and maintain the medical assessment making procedure, a model was proposed for expecting a three-month healing outcome by examining the physiological considerations for the duration of 48 hours following stroke with logistic degeneration',\n",
              " 'A database was observed with 107 patient’s medical information through acute anterior stroke and also posterior stroke via intra-arterial therapy',\n",
              " 'A database was observed with 107 patient’s medical information through acute anterior stroke and also posterior stroke via intra-arterial therapy',\n",
              " 'Collecting information data from patient discussions and checks',\n",
              " 'For instance, technology application has improved in all regions of daily life',\n",
              " 'Although there is wisdom of excessive prospective in the use of artificial intelligence in modern medicine, there are also worries about the defeat of the ‘human touch’ in such an important and person-motivated work',\n",
              " 'Smart biomedical and medical packaging with the application of polymers is a generally and rapidly growing area of interest for academia and industries',\n",
              " 'The complicated algorithm requires to be taught during the healthcare results previous to the system which can support the physicians for the disease analysis and plans which should be required for treatment',\n",
              " 'This has produced remarkable enthusiasm in several fields of healthcare science, as well as drug analysis and public health',\n",
              " 'The transfer of analog input into digital output is an oppressive task and may result in a defeat of important information, which would have been cooperative to the consumer',\n",
              " 'In an objective evaluation in which researchers were given slides of lymph node cells and asked to determine whether or not they contained cancer, the team’s automated diagnostic method proved accurate approximately 92 percent of the time',\n",
              " ' As technology evolves, Artificial Intelligence also able to change the decision of Surgeons and Physicians',\n",
              " 'Huge clinical evaluation is essential for ensuring the efficiency, accuracy and safety of Artificial Intelligence',\n",
              " 'Using artificial intelligence in healthcare, the most widespread utilization of traditional machine learning is precision medicine',\n",
              " 'Diagnosis and treatment of disease has been at the core of artificial intelligence AI in healthcare for the last 50 years',\n",
              " ' Integration issues have been a greater barrier to widespread adoption of AI in healthcare when compared to the accuracy of suggestions',\n",
              " 'Being able to predict what treatment procedures are likely to be successful with patients based on their make-up and the treatment framework is a huge leap forward for many healthcare organizations',\n",
              " 'The use of artificial intelligence in healthcare has the potential to assist healthcare providers in many aspects of patient care and administrative processes',\n",
              " ' In regards to diseases, cancer, cardiovascular, and nervous system disorders are the most frequently researched involving ML tools',\n",
              " 'To perform well, self-trained systems should interact constantly with the clinical studies data, so it’s obvious that human activity is interconnected with machine learning',\n",
              " 'Medical imaging gives visual representations of organs and tissues on the cell level, which contributes greatly to prognostication and disease identifying',\n",
              " 'Drug discovering and manufacturing process strives to be low-cost, effective, not harmful, and with a low risk of side effects',\n",
              " 'Disease prediction is all about the social impact of medicine and quality of life improvements',\n",
              " 'Recent advances — such as secure data storage or drug trials, disease recognition, or smart patients’ records in machine learning applications — help to expand the network of undiagnosed diseases network',\n",
              " 'Our specialists do pay enough attention to maintain and preserve public trust in technology',\n",
              " 'Both input data (time series of the symptoms) and output (figures representing the probability of future events or their time interval) should be aligned with the ethical basics with respect to human anatomy',\n",
              " 'Both input data (time series of the symptoms) and output (figures representing the probability of future events or their time interval) should be aligned with the ethical basics with respect to human anatomy',\n",
              " 'Disease identification and diagnosis becomes more precise due to automated scanning processes performed by trained machine learning models',\n",
              " 'Among the other top trends, machine learning in healthcare as an effective solution was singled out',\n",
              " 'The future of standard medical practice might be here sooner than anticipated, where a patient could see a computer before seeing a doctor',\n",
              " 'Because even though these algorithms can meaningfully impact medicine and bolster the power of medical interventions, there are numerous regulatory concerns that need addressing first',\n",
              " 'Advances in computational power paired with massive amounts of data generated in healthcare systems make many clinical problems ripe for AI applications',\n",
              " 'Recently, other imaging-based algorithms showed a similar ability to increase physician accuracy',\n",
              " ' Clarified guidelines from the FDA, however, could help specify requirements for algorithms and could result in an uptick of clinically deployed algorithms',\n",
              " 'Understandably, researchers, companies, and entrepreneurs might be hesitant to expose their proprietary methods to the public, at the risk of losing money by getting their ideas taken and strengthened by others',\n",
              " 'Either way, increasing transparency in the short term is necessary so that patient data is not mishandled or improperly classified, and so it could be easier to determine whether an algorithm will be sufficiently accurate in the clinic',\n",
              " 'We need to rapidly and transparently collect and curate such data globally to make it available to the research community',\n",
              " 'The community can help find the best and most precise treatment schemes to serve individual patients and develop techniques to accelerate the development of novel and innovative treatments',\n",
              " 'ML models can now recognize people and objects in images; understand, translate and generate spoken language; and identify subtle relationships in biological data',\n",
              " 'The research and results of these tests are still being gathered, and the overall standards for the use AI in medicine are still being defined',\n",
              " ' Machine learning models could be used to observe the vital signs of patients receiving critical care and alert clinicians if certain risk factors increase',\n",
              " 'A lot of time is spent during clinical trials assigning medical codes to patient outcomes and updating the relevant datasets',\n",
              " \"For example, if a clinical note includes a list of a patient's current medications along with a new medication their provider recommends, a well-trained AI algorithm can use natural language processing to identify which medications belong in the patient's medical history\",\n",
              " 'Over the past few years, life sciences companies have made commendable advancements in the realm of rare diseases, but the dominance of the associated challenges still exists',\n",
              " 'Patient-level data is available in abundance today, arriving in both structured and unstructured formats',\n",
              " 'Also, by ensuring a continuous feedback loop mechanism,  ML algorithms will help make these indicators more accurate over time',\n",
              " 'When alerted, patients and physicians will be able to work together to remove all possibilities of disease morbidity and take the necessary steps to improve patient outcomes',\n",
              " 'With this, the trifecta of data, technology, and people, promises to break bigger healthcare barriers, as it has in the past.---With this, the trifecta of data, technology, and people, promises to break bigger healthcare barriers, as it has in the past',\n",
              " 'AI applications can provide personalized medicine and X-ray readings',\n",
              " 'The potential in health is profound, given the growing volume of electronic data as well as the inherent complexity of the sector, its reliance on information to solve problems, and the variability and complexity of how disease interacts with individuals and populations.There is no indication that machines will replace humans who work in health, but AI will almost definitely result in human tasks changing greatly',\n",
              " 'This includes balancing the prospective benefits and risks of private sector AI initiatives in health, where profit motives may clash with the public interest',\n",
              " 'Users report their symptoms into the app, which uses speech recognition to compare against a database of illnesses',\n",
              " 'Most common users could be people with serious medical conditions, patients who tend to go against doctor advice, and participants in clinical trials',\n",
              " 'Body scans can spot cancer and vascular diseases early and predict the health issues people might face based on their genetics',\n",
              " 'Since the first step in health care is compiling and analyzing information (like medical records and other past history), data management is the most widely used application of digital automation']"
            ]
          },
          "metadata": {},
          "execution_count": 4
        }
      ]
    },
    {
      "cell_type": "code",
      "metadata": {
        "colab": {
          "base_uri": "https://localhost:8080/"
        },
        "id": "QxhdSi-1W3qW",
        "outputId": "590e75f6-e8cd-4a06-fac9-193c561bb328"
      },
      "source": [
        "from google.colab import drive\n",
        "drive.mount('/content/drive')"
      ],
      "execution_count": 1,
      "outputs": [
        {
          "output_type": "stream",
          "name": "stdout",
          "text": [
            "Mounted at /content/drive\n"
          ]
        }
      ]
    },
    {
      "cell_type": "markdown",
      "metadata": {
        "id": "AiLn5tuChnh2"
      },
      "source": [
        "### Підібрати наукові статті за обраним напрямком англійською мовою, з яких вилучити 100 речень, які найбільш відповідають зазначеному напрямку"
      ]
    },
    {
      "cell_type": "code",
      "metadata": {
        "colab": {
          "base_uri": "https://localhost:8080/"
        },
        "id": "hwYKBe1Ah1Ol",
        "outputId": "7472a0ac-9816-4c66-cfb9-dc443993169d"
      },
      "source": [
        "sent_df = []\n",
        "for sent in sentences:\n",
        "  sent_df.append({'Sentence':sent, 'Label':'Neural network module for recognizing brain diseases'})\n",
        "\n",
        "sent_df"
      ],
      "execution_count": 6,
      "outputs": [
        {
          "output_type": "execute_result",
          "data": {
            "text/plain": [
              "[{'Label': 'Neural network module for recognizing brain diseases',\n",
              "  'Sentence': 'The process of rare disease identification by clinical geneticists is closely associated with the ability to correlate the phenotype of a patient with the relevant genetic syndromes'},\n",
              " {'Label': 'Neural network module for recognizing brain diseases',\n",
              "  'Sentence': 'In order to perform this correlation, the phenotype has to be described in a canonical form or language'},\n",
              " {'Label': 'Neural network module for recognizing brain diseases',\n",
              "  'Sentence': 'Phenotypes such as this are hard to define in a robust manner'},\n",
              " {'Label': 'Neural network module for recognizing brain diseases',\n",
              "  'Sentence': 'In order to build such a system, we decided to focus on facial analysis in our journey to create a leading AI solution using next generation phenotyping (NGP)'},\n",
              " {'Label': 'Neural network module for recognizing brain diseases',\n",
              "  'Sentence': 'With facial recognition one can take as many facial images as needed per person'},\n",
              " {'Label': 'Neural network module for recognizing brain diseases',\n",
              "  'Sentence': 'When aggregating knowledge from clinicians, we noticed that there is an internal bias of ethnicity that is closely associated with certain syndromes, some more than others'},\n",
              " {'Label': 'Neural network module for recognizing brain diseases',\n",
              "  'Sentence': ' As we maintain the highest privacy and security standards, developers are unable to access user data'},\n",
              " {'Label': 'Neural network module for recognizing brain diseases',\n",
              "  'Sentence': 'Tailoring a solution that combines the components of genomics and AI-based phenotyping is not an easy task and it depends on the ability of stakeholders from many disciplines to work together, share data, and collaborate on research and development'},\n",
              " {'Label': 'Neural network module for recognizing brain diseases',\n",
              "  'Sentence': 'One valuable approach for improving medical care for rare disease patients are initiatives and networks that aim to bundle data and expertise about rare diseases so that healthcare providers can easily access and exchange relevant information'},\n",
              " {'Label': 'Neural network module for recognizing brain diseases',\n",
              "  'Sentence': ' We opted to perform a scoping review because this type of review is best suited to map research activity in a broad and heterogeneous field such as machine learning and rare diseases'},\n",
              " {'Label': 'Neural network module for recognizing brain diseases',\n",
              "  'Sentence': 'To identify scientific articles that apply machine learning in the field of rare diseases, we systematically searched the literature on PubMed'},\n",
              " {'Label': 'Neural network module for recognizing brain diseases',\n",
              "  'Sentence': 'Study selection and data extraction were performed by the first author (JuS)'},\n",
              " {'Label': 'Neural network module for recognizing brain diseases',\n",
              "  'Sentence': 'Human error hinders accurate diagnostics, as interpreting medical information is a complex and cognitively challenging task'},\n",
              " {'Label': 'Neural network module for recognizing brain diseases',\n",
              "  'Sentence': 'The entire diagnostic process, in general, is a sophisticated and patient-centered, collaborative activity that involves information gathering and clinical reasoning with the goal of determining a patient’s health problem'},\n",
              " {'Label': 'Neural network module for recognizing brain diseases',\n",
              "  'Sentence': 'The working diagnosis and an explanation of it are shared with the patient, and appropriate treatment is planned'},\n",
              " {'Label': 'Neural network module for recognizing brain diseases',\n",
              "  'Sentence': 'This highly complex process has, on the one hand, great potential for errors and, on the other hand, may vary according to the medical discipline'},\n",
              " {'Label': 'Neural network module for recognizing brain diseases',\n",
              "  'Sentence': 'Furthermore, the amount of medical data is continuously growing, and systems are now capable of identifying, extracting, and processing information from different sources more quickly than previously'},\n",
              " {'Label': 'Neural network module for recognizing brain diseases',\n",
              "  'Sentence': 'The solution is adjusted to accurately detect pathology in images, also to identify normal healthy screens'},\n",
              " {'Label': 'Neural network module for recognizing brain diseases',\n",
              "  'Sentence': ' The solution is adjusted to accurately detect pathology in images, also to identify normal healthy screens'},\n",
              " {'Label': 'Neural network module for recognizing brain diseases',\n",
              "  'Sentence': 'By sifting out healthy patients, the system allows healthcare providers to eliminate up to 90% of related triage costs'},\n",
              " {'Label': 'Neural network module for recognizing brain diseases',\n",
              "  'Sentence': 'The objective of this research lies in identifying in which areas of the diagnostic process AI has already been applied and how these approaches are to be evaluated'},\n",
              " {'Label': 'Neural network module for recognizing brain diseases',\n",
              "  'Sentence': 'We focused on papers that specifically considered and applied AI in the context of diagnostics'},\n",
              " {'Label': 'Neural network module for recognizing brain diseases',\n",
              "  'Sentence': 'Nevertheless, these studies are rather the exception; most approaches have developed a specific algorithm to diagnose a particular disease'},\n",
              " {'Label': 'Neural network module for recognizing brain diseases',\n",
              "  'Sentence': 'The increasing number of studies is a product of the enhanced and ever-growing technical capabilities and the quantity of medical data'},\n",
              " {'Label': 'Neural network module for recognizing brain diseases',\n",
              "  'Sentence': 'A key difference is that algorithms need a lot of concrete examples – many thousands – in order to learn'},\n",
              " {'Label': 'Neural network module for recognizing brain diseases',\n",
              "  'Sentence': 'Since there is plenty of good data available in these cases, algorithms are becoming just as good at diagnostics as the experts'},\n",
              " {'Label': 'Neural network module for recognizing brain diseases',\n",
              "  'Sentence': 'Instead, AI systems will be used to highlight potentially malignant lesions or dangerous cardiac patterns for the expert – allowing the doctor to focus on the interpretation of those signals'},\n",
              " {'Label': 'Neural network module for recognizing brain diseases',\n",
              "  'Sentence': 'Images are one of the types of data that AI, namely deep learning, is more fruitful at analyzing; hence, imaging is crucial in phenotyping, diagnosis, and even the identification of new RDs'},\n",
              " {'Label': 'Neural network module for recognizing brain diseases',\n",
              "  'Sentence': 'The authors use transfer learning to translate the general face recognition learning trained on a large scale dataset to the rare genetic syndromes domain'},\n",
              " {'Label': 'Neural network module for recognizing brain diseases',\n",
              "  'Sentence': 'The unraveling of underlying affected genetic and molecular players and pathways is crucial for disease comprehension and therapeutic target selection'},\n",
              " {'Label': 'Neural network module for recognizing brain diseases',\n",
              "  'Sentence': 'Biomedical robots are sets of algorithms or classifiers that can analyze data, create new knowledge, and even act as medical DSS'},\n",
              " {'Label': 'Neural network module for recognizing brain diseases',\n",
              "  'Sentence': 'The lack of data, complexity and heterogeneity within and among RDs, and overlapping and infrequent clinical manifestations challenge correct disease classification'},\n",
              " {'Label': 'Neural network module for recognizing brain diseases',\n",
              "  'Sentence': ' AI presents as a potential game-changer in this field, backed up by the encouraging results obtained in treatment discovery in common disorders'},\n",
              " {'Label': 'Neural network module for recognizing brain diseases',\n",
              "  'Sentence': 'The use of AI algorithms in diagnosis (e.g., analysis and classification of sequence pathogenic variants) and drug discovery and preclinical research (e.g., new molecules designing, animal testing reduction, drug interaction) are just some of the examples of the benefits AI has brought to biomedicine'},\n",
              " {'Label': 'Neural network module for recognizing brain diseases',\n",
              "  'Sentence': 'In supervised learning, the data are labeled, that is, the algorithm is given the input data along with the corresponding target data'},\n",
              " {'Label': 'Neural network module for recognizing brain diseases',\n",
              "  'Sentence': 'The ability of AI technologies to integrate and analyze data from different sources (e.g., multi-omics, patient registries, and so on) can be used to overcome Rare diseases challenges'},\n",
              " {'Label': 'Neural network module for recognizing brain diseases',\n",
              "  'Sentence': 'The AI technology has been applied to various aspects of cataract, both on clinical and surgical management, from diagnosing cataracts to optimizing the biometry for intraocular lens (IOL) power calculation.Automation derived from AI application could not only improve screening and objective assessment but also cause less stress and pain for infants undergoing examination compared with indirect ophthalmoscopy'},\n",
              " {'Label': 'Neural network module for recognizing brain diseases',\n",
              "  'Sentence': \"Furthermore, some studies on AI have focused on pediatric ophthalmology, with the aim of helping clinicians in overcoming common practical limitations due to pediatric patients' compliance\"},\n",
              " {'Label': 'Neural network module for recognizing brain diseases',\n",
              "  'Sentence': 'External validation of algorithms represents the second challenge'},\n",
              " {'Label': 'Neural network module for recognizing brain diseases',\n",
              "  'Sentence': 'Some solutions to recognize potential biases and limit unwanted outcomes could be to rebalance the training dataset if a certain subgroup is underrepresented or to select a training dataset with diverse patient populations'},\n",
              " {'Label': 'Neural network module for recognizing brain diseases',\n",
              "  'Sentence': 'AI could speed up some processes, reduce the workload for clinicians, and minimize diagnostic errors due to inappropriate data integration'},\n",
              " {'Label': 'Neural network module for recognizing brain diseases',\n",
              "  'Sentence': 'Support vector machine was also applied in cancer diagnosis'},\n",
              " {'Label': 'Neural network module for recognizing brain diseases',\n",
              "  'Sentence': 'With the help of machine learning process, structured data like genetic data, electro physical data, and imaging data are properly investigated'},\n",
              " {'Label': 'Neural network module for recognizing brain diseases',\n",
              "  'Sentence': 'Correspondingly, a device that is wearable was proposed for gathering data for regular and pathological steps for calculation of stroke'},\n",
              " {'Label': 'Neural network module for recognizing brain diseases',\n",
              "  'Sentence': 'Several studies have attempted to concern machine learning techniques to neuro-imaging data to support with stroke analysis'},\n",
              " {'Label': 'Neural network module for recognizing brain diseases',\n",
              "  'Sentence': 'To enhance and maintain the medical assessment making procedure, a model was proposed for expecting a three-month healing outcome by examining the physiological considerations for the duration of 48 hours following stroke with logistic degeneration'},\n",
              " {'Label': 'Neural network module for recognizing brain diseases',\n",
              "  'Sentence': 'A database was observed with 107 patient’s medical information through acute anterior stroke and also posterior stroke via intra-arterial therapy'},\n",
              " {'Label': 'Neural network module for recognizing brain diseases',\n",
              "  'Sentence': 'A database was observed with 107 patient’s medical information through acute anterior stroke and also posterior stroke via intra-arterial therapy'},\n",
              " {'Label': 'Neural network module for recognizing brain diseases',\n",
              "  'Sentence': 'Collecting information data from patient discussions and checks'},\n",
              " {'Label': 'Neural network module for recognizing brain diseases',\n",
              "  'Sentence': 'For instance, technology application has improved in all regions of daily life'},\n",
              " {'Label': 'Neural network module for recognizing brain diseases',\n",
              "  'Sentence': 'Although there is wisdom of excessive prospective in the use of artificial intelligence in modern medicine, there are also worries about the defeat of the ‘human touch’ in such an important and person-motivated work'},\n",
              " {'Label': 'Neural network module for recognizing brain diseases',\n",
              "  'Sentence': 'Smart biomedical and medical packaging with the application of polymers is a generally and rapidly growing area of interest for academia and industries'},\n",
              " {'Label': 'Neural network module for recognizing brain diseases',\n",
              "  'Sentence': 'The complicated algorithm requires to be taught during the healthcare results previous to the system which can support the physicians for the disease analysis and plans which should be required for treatment'},\n",
              " {'Label': 'Neural network module for recognizing brain diseases',\n",
              "  'Sentence': 'This has produced remarkable enthusiasm in several fields of healthcare science, as well as drug analysis and public health'},\n",
              " {'Label': 'Neural network module for recognizing brain diseases',\n",
              "  'Sentence': 'The transfer of analog input into digital output is an oppressive task and may result in a defeat of important information, which would have been cooperative to the consumer'},\n",
              " {'Label': 'Neural network module for recognizing brain diseases',\n",
              "  'Sentence': 'In an objective evaluation in which researchers were given slides of lymph node cells and asked to determine whether or not they contained cancer, the team’s automated diagnostic method proved accurate approximately 92 percent of the time'},\n",
              " {'Label': 'Neural network module for recognizing brain diseases',\n",
              "  'Sentence': ' As technology evolves, Artificial Intelligence also able to change the decision of Surgeons and Physicians'},\n",
              " {'Label': 'Neural network module for recognizing brain diseases',\n",
              "  'Sentence': 'Huge clinical evaluation is essential for ensuring the efficiency, accuracy and safety of Artificial Intelligence'},\n",
              " {'Label': 'Neural network module for recognizing brain diseases',\n",
              "  'Sentence': 'Using artificial intelligence in healthcare, the most widespread utilization of traditional machine learning is precision medicine'},\n",
              " {'Label': 'Neural network module for recognizing brain diseases',\n",
              "  'Sentence': 'Diagnosis and treatment of disease has been at the core of artificial intelligence AI in healthcare for the last 50 years'},\n",
              " {'Label': 'Neural network module for recognizing brain diseases',\n",
              "  'Sentence': ' Integration issues have been a greater barrier to widespread adoption of AI in healthcare when compared to the accuracy of suggestions'},\n",
              " {'Label': 'Neural network module for recognizing brain diseases',\n",
              "  'Sentence': 'Being able to predict what treatment procedures are likely to be successful with patients based on their make-up and the treatment framework is a huge leap forward for many healthcare organizations'},\n",
              " {'Label': 'Neural network module for recognizing brain diseases',\n",
              "  'Sentence': 'The use of artificial intelligence in healthcare has the potential to assist healthcare providers in many aspects of patient care and administrative processes'},\n",
              " {'Label': 'Neural network module for recognizing brain diseases',\n",
              "  'Sentence': ' In regards to diseases, cancer, cardiovascular, and nervous system disorders are the most frequently researched involving ML tools'},\n",
              " {'Label': 'Neural network module for recognizing brain diseases',\n",
              "  'Sentence': 'To perform well, self-trained systems should interact constantly with the clinical studies data, so it’s obvious that human activity is interconnected with machine learning'},\n",
              " {'Label': 'Neural network module for recognizing brain diseases',\n",
              "  'Sentence': 'Medical imaging gives visual representations of organs and tissues on the cell level, which contributes greatly to prognostication and disease identifying'},\n",
              " {'Label': 'Neural network module for recognizing brain diseases',\n",
              "  'Sentence': 'Drug discovering and manufacturing process strives to be low-cost, effective, not harmful, and with a low risk of side effects'},\n",
              " {'Label': 'Neural network module for recognizing brain diseases',\n",
              "  'Sentence': 'Disease prediction is all about the social impact of medicine and quality of life improvements'},\n",
              " {'Label': 'Neural network module for recognizing brain diseases',\n",
              "  'Sentence': 'Recent advances — such as secure data storage or drug trials, disease recognition, or smart patients’ records in machine learning applications — help to expand the network of undiagnosed diseases network'},\n",
              " {'Label': 'Neural network module for recognizing brain diseases',\n",
              "  'Sentence': 'Our specialists do pay enough attention to maintain and preserve public trust in technology'},\n",
              " {'Label': 'Neural network module for recognizing brain diseases',\n",
              "  'Sentence': 'Both input data (time series of the symptoms) and output (figures representing the probability of future events or their time interval) should be aligned with the ethical basics with respect to human anatomy'},\n",
              " {'Label': 'Neural network module for recognizing brain diseases',\n",
              "  'Sentence': 'Both input data (time series of the symptoms) and output (figures representing the probability of future events or their time interval) should be aligned with the ethical basics with respect to human anatomy'},\n",
              " {'Label': 'Neural network module for recognizing brain diseases',\n",
              "  'Sentence': 'Disease identification and diagnosis becomes more precise due to automated scanning processes performed by trained machine learning models'},\n",
              " {'Label': 'Neural network module for recognizing brain diseases',\n",
              "  'Sentence': 'Among the other top trends, machine learning in healthcare as an effective solution was singled out'},\n",
              " {'Label': 'Neural network module for recognizing brain diseases',\n",
              "  'Sentence': 'The future of standard medical practice might be here sooner than anticipated, where a patient could see a computer before seeing a doctor'},\n",
              " {'Label': 'Neural network module for recognizing brain diseases',\n",
              "  'Sentence': 'Because even though these algorithms can meaningfully impact medicine and bolster the power of medical interventions, there are numerous regulatory concerns that need addressing first'},\n",
              " {'Label': 'Neural network module for recognizing brain diseases',\n",
              "  'Sentence': 'Advances in computational power paired with massive amounts of data generated in healthcare systems make many clinical problems ripe for AI applications'},\n",
              " {'Label': 'Neural network module for recognizing brain diseases',\n",
              "  'Sentence': 'Recently, other imaging-based algorithms showed a similar ability to increase physician accuracy'},\n",
              " {'Label': 'Neural network module for recognizing brain diseases',\n",
              "  'Sentence': ' Clarified guidelines from the FDA, however, could help specify requirements for algorithms and could result in an uptick of clinically deployed algorithms'},\n",
              " {'Label': 'Neural network module for recognizing brain diseases',\n",
              "  'Sentence': 'Understandably, researchers, companies, and entrepreneurs might be hesitant to expose their proprietary methods to the public, at the risk of losing money by getting their ideas taken and strengthened by others'},\n",
              " {'Label': 'Neural network module for recognizing brain diseases',\n",
              "  'Sentence': 'Either way, increasing transparency in the short term is necessary so that patient data is not mishandled or improperly classified, and so it could be easier to determine whether an algorithm will be sufficiently accurate in the clinic'},\n",
              " {'Label': 'Neural network module for recognizing brain diseases',\n",
              "  'Sentence': 'We need to rapidly and transparently collect and curate such data globally to make it available to the research community'},\n",
              " {'Label': 'Neural network module for recognizing brain diseases',\n",
              "  'Sentence': 'The community can help find the best and most precise treatment schemes to serve individual patients and develop techniques to accelerate the development of novel and innovative treatments'},\n",
              " {'Label': 'Neural network module for recognizing brain diseases',\n",
              "  'Sentence': 'ML models can now recognize people and objects in images; understand, translate and generate spoken language; and identify subtle relationships in biological data'},\n",
              " {'Label': 'Neural network module for recognizing brain diseases',\n",
              "  'Sentence': 'The research and results of these tests are still being gathered, and the overall standards for the use AI in medicine are still being defined'},\n",
              " {'Label': 'Neural network module for recognizing brain diseases',\n",
              "  'Sentence': ' Machine learning models could be used to observe the vital signs of patients receiving critical care and alert clinicians if certain risk factors increase'},\n",
              " {'Label': 'Neural network module for recognizing brain diseases',\n",
              "  'Sentence': 'A lot of time is spent during clinical trials assigning medical codes to patient outcomes and updating the relevant datasets'},\n",
              " {'Label': 'Neural network module for recognizing brain diseases',\n",
              "  'Sentence': \"For example, if a clinical note includes a list of a patient's current medications along with a new medication their provider recommends, a well-trained AI algorithm can use natural language processing to identify which medications belong in the patient's medical history\"},\n",
              " {'Label': 'Neural network module for recognizing brain diseases',\n",
              "  'Sentence': 'Over the past few years, life sciences companies have made commendable advancements in the realm of rare diseases, but the dominance of the associated challenges still exists'},\n",
              " {'Label': 'Neural network module for recognizing brain diseases',\n",
              "  'Sentence': 'Patient-level data is available in abundance today, arriving in both structured and unstructured formats'},\n",
              " {'Label': 'Neural network module for recognizing brain diseases',\n",
              "  'Sentence': 'Also, by ensuring a continuous feedback loop mechanism,  ML algorithms will help make these indicators more accurate over time'},\n",
              " {'Label': 'Neural network module for recognizing brain diseases',\n",
              "  'Sentence': 'When alerted, patients and physicians will be able to work together to remove all possibilities of disease morbidity and take the necessary steps to improve patient outcomes'},\n",
              " {'Label': 'Neural network module for recognizing brain diseases',\n",
              "  'Sentence': 'With this, the trifecta of data, technology, and people, promises to break bigger healthcare barriers, as it has in the past.---With this, the trifecta of data, technology, and people, promises to break bigger healthcare barriers, as it has in the past'},\n",
              " {'Label': 'Neural network module for recognizing brain diseases',\n",
              "  'Sentence': 'AI applications can provide personalized medicine and X-ray readings'},\n",
              " {'Label': 'Neural network module for recognizing brain diseases',\n",
              "  'Sentence': 'The potential in health is profound, given the growing volume of electronic data as well as the inherent complexity of the sector, its reliance on information to solve problems, and the variability and complexity of how disease interacts with individuals and populations.There is no indication that machines will replace humans who work in health, but AI will almost definitely result in human tasks changing greatly'},\n",
              " {'Label': 'Neural network module for recognizing brain diseases',\n",
              "  'Sentence': 'This includes balancing the prospective benefits and risks of private sector AI initiatives in health, where profit motives may clash with the public interest'},\n",
              " {'Label': 'Neural network module for recognizing brain diseases',\n",
              "  'Sentence': 'Users report their symptoms into the app, which uses speech recognition to compare against a database of illnesses'},\n",
              " {'Label': 'Neural network module for recognizing brain diseases',\n",
              "  'Sentence': 'Most common users could be people with serious medical conditions, patients who tend to go against doctor advice, and participants in clinical trials'},\n",
              " {'Label': 'Neural network module for recognizing brain diseases',\n",
              "  'Sentence': 'Body scans can spot cancer and vascular diseases early and predict the health issues people might face based on their genetics'},\n",
              " {'Label': 'Neural network module for recognizing brain diseases',\n",
              "  'Sentence': 'Since the first step in health care is compiling and analyzing information (like medical records and other past history), data management is the most widely used application of digital automation'}]"
            ]
          },
          "metadata": {},
          "execution_count": 6
        }
      ]
    },
    {
      "cell_type": "markdown",
      "metadata": {
        "id": "rvM3xNrXhnld"
      },
      "source": [
        "### Створити та зберегти у .csv файл pandas DataFrame з обраних речень із указанням в окремому ствопчику назви напрямку (ця назва має бути однаковою для усіх речень)\n"
      ]
    },
    {
      "cell_type": "code",
      "metadata": {
        "colab": {
          "base_uri": "https://localhost:8080/",
          "height": 419
        },
        "id": "LrbHarLTh1nu",
        "outputId": "21ef2e31-cb65-4f56-d717-2aa2dbf6a93f"
      },
      "source": [
        "sent_df = pd.DataFrame(data=sent_df, columns=['Sentence', 'Label'])\n",
        "\n",
        "sent_df.to_csv(folder+'100.csv')\n",
        "\n",
        "sent_df"
      ],
      "execution_count": 7,
      "outputs": [
        {
          "output_type": "execute_result",
          "data": {
            "text/html": [
              "<div>\n",
              "<style scoped>\n",
              "    .dataframe tbody tr th:only-of-type {\n",
              "        vertical-align: middle;\n",
              "    }\n",
              "\n",
              "    .dataframe tbody tr th {\n",
              "        vertical-align: top;\n",
              "    }\n",
              "\n",
              "    .dataframe thead th {\n",
              "        text-align: right;\n",
              "    }\n",
              "</style>\n",
              "<table border=\"1\" class=\"dataframe\">\n",
              "  <thead>\n",
              "    <tr style=\"text-align: right;\">\n",
              "      <th></th>\n",
              "      <th>Sentence</th>\n",
              "      <th>Label</th>\n",
              "    </tr>\n",
              "  </thead>\n",
              "  <tbody>\n",
              "    <tr>\n",
              "      <th>0</th>\n",
              "      <td>The process of rare disease identification by ...</td>\n",
              "      <td>Neural network module for recognizing brain di...</td>\n",
              "    </tr>\n",
              "    <tr>\n",
              "      <th>1</th>\n",
              "      <td>In order to perform this correlation, the phen...</td>\n",
              "      <td>Neural network module for recognizing brain di...</td>\n",
              "    </tr>\n",
              "    <tr>\n",
              "      <th>2</th>\n",
              "      <td>Phenotypes such as this are hard to define in ...</td>\n",
              "      <td>Neural network module for recognizing brain di...</td>\n",
              "    </tr>\n",
              "    <tr>\n",
              "      <th>3</th>\n",
              "      <td>In order to build such a system, we decided to...</td>\n",
              "      <td>Neural network module for recognizing brain di...</td>\n",
              "    </tr>\n",
              "    <tr>\n",
              "      <th>4</th>\n",
              "      <td>With facial recognition one can take as many f...</td>\n",
              "      <td>Neural network module for recognizing brain di...</td>\n",
              "    </tr>\n",
              "    <tr>\n",
              "      <th>...</th>\n",
              "      <td>...</td>\n",
              "      <td>...</td>\n",
              "    </tr>\n",
              "    <tr>\n",
              "      <th>95</th>\n",
              "      <td>This includes balancing the prospective benefi...</td>\n",
              "      <td>Neural network module for recognizing brain di...</td>\n",
              "    </tr>\n",
              "    <tr>\n",
              "      <th>96</th>\n",
              "      <td>Users report their symptoms into the app, whic...</td>\n",
              "      <td>Neural network module for recognizing brain di...</td>\n",
              "    </tr>\n",
              "    <tr>\n",
              "      <th>97</th>\n",
              "      <td>Most common users could be people with serious...</td>\n",
              "      <td>Neural network module for recognizing brain di...</td>\n",
              "    </tr>\n",
              "    <tr>\n",
              "      <th>98</th>\n",
              "      <td>Body scans can spot cancer and vascular diseas...</td>\n",
              "      <td>Neural network module for recognizing brain di...</td>\n",
              "    </tr>\n",
              "    <tr>\n",
              "      <th>99</th>\n",
              "      <td>Since the first step in health care is compili...</td>\n",
              "      <td>Neural network module for recognizing brain di...</td>\n",
              "    </tr>\n",
              "  </tbody>\n",
              "</table>\n",
              "<p>100 rows × 2 columns</p>\n",
              "</div>"
            ],
            "text/plain": [
              "                                             Sentence                                              Label\n",
              "0   The process of rare disease identification by ...  Neural network module for recognizing brain di...\n",
              "1   In order to perform this correlation, the phen...  Neural network module for recognizing brain di...\n",
              "2   Phenotypes such as this are hard to define in ...  Neural network module for recognizing brain di...\n",
              "3   In order to build such a system, we decided to...  Neural network module for recognizing brain di...\n",
              "4   With facial recognition one can take as many f...  Neural network module for recognizing brain di...\n",
              "..                                                ...                                                ...\n",
              "95  This includes balancing the prospective benefi...  Neural network module for recognizing brain di...\n",
              "96  Users report their symptoms into the app, whic...  Neural network module for recognizing brain di...\n",
              "97  Most common users could be people with serious...  Neural network module for recognizing brain di...\n",
              "98  Body scans can spot cancer and vascular diseas...  Neural network module for recognizing brain di...\n",
              "99  Since the first step in health care is compili...  Neural network module for recognizing brain di...\n",
              "\n",
              "[100 rows x 2 columns]"
            ]
          },
          "metadata": {},
          "execution_count": 7
        }
      ]
    },
    {
      "cell_type": "markdown",
      "metadata": {
        "id": "evQ6IhNRhnoL"
      },
      "source": [
        "### Здійснити підготовку набору даних до подальшого моделювання (tokenization&embedding, train_test_split)\n"
      ]
    },
    {
      "cell_type": "markdown",
      "metadata": {
        "id": "6qY8jqhDMJPo"
      },
      "source": [
        "### Train/Test Split"
      ]
    },
    {
      "cell_type": "code",
      "metadata": {
        "colab": {
          "base_uri": "https://localhost:8080/",
          "height": 419
        },
        "id": "-CkYsz0rMIsQ",
        "outputId": "361f84ec-e301-43fd-e299-7a019b55c3ff"
      },
      "source": [
        "from sklearn.model_selection import train_test_split\n",
        "train_split, test_split = train_test_split(sent_df, train_size=0.9, test_size=0.1)\n",
        "train_split"
      ],
      "execution_count": 10,
      "outputs": [
        {
          "output_type": "execute_result",
          "data": {
            "text/html": [
              "<div>\n",
              "<style scoped>\n",
              "    .dataframe tbody tr th:only-of-type {\n",
              "        vertical-align: middle;\n",
              "    }\n",
              "\n",
              "    .dataframe tbody tr th {\n",
              "        vertical-align: top;\n",
              "    }\n",
              "\n",
              "    .dataframe thead th {\n",
              "        text-align: right;\n",
              "    }\n",
              "</style>\n",
              "<table border=\"1\" class=\"dataframe\">\n",
              "  <thead>\n",
              "    <tr style=\"text-align: right;\">\n",
              "      <th></th>\n",
              "      <th>Sentence</th>\n",
              "      <th>Label</th>\n",
              "    </tr>\n",
              "  </thead>\n",
              "  <tbody>\n",
              "    <tr>\n",
              "      <th>4</th>\n",
              "      <td>With facial recognition one can take as many f...</td>\n",
              "      <td>Neural network module for recognizing brain di...</td>\n",
              "    </tr>\n",
              "    <tr>\n",
              "      <th>67</th>\n",
              "      <td>Disease prediction is all about the social imp...</td>\n",
              "      <td>Neural network module for recognizing brain di...</td>\n",
              "    </tr>\n",
              "    <tr>\n",
              "      <th>98</th>\n",
              "      <td>Body scans can spot cancer and vascular diseas...</td>\n",
              "      <td>Neural network module for recognizing brain di...</td>\n",
              "    </tr>\n",
              "    <tr>\n",
              "      <th>59</th>\n",
              "      <td>Diagnosis and treatment of disease has been at...</td>\n",
              "      <td>Neural network module for recognizing brain di...</td>\n",
              "    </tr>\n",
              "    <tr>\n",
              "      <th>42</th>\n",
              "      <td>With the help of machine learning process, str...</td>\n",
              "      <td>Neural network module for recognizing brain di...</td>\n",
              "    </tr>\n",
              "    <tr>\n",
              "      <th>...</th>\n",
              "      <td>...</td>\n",
              "      <td>...</td>\n",
              "    </tr>\n",
              "    <tr>\n",
              "      <th>39</th>\n",
              "      <td>Some solutions to recognize potential biases a...</td>\n",
              "      <td>Neural network module for recognizing brain di...</td>\n",
              "    </tr>\n",
              "    <tr>\n",
              "      <th>17</th>\n",
              "      <td>The solution is adjusted to accurately detect ...</td>\n",
              "      <td>Neural network module for recognizing brain di...</td>\n",
              "    </tr>\n",
              "    <tr>\n",
              "      <th>93</th>\n",
              "      <td>AI applications can provide personalized medic...</td>\n",
              "      <td>Neural network module for recognizing brain di...</td>\n",
              "    </tr>\n",
              "    <tr>\n",
              "      <th>6</th>\n",
              "      <td>As we maintain the highest privacy and securi...</td>\n",
              "      <td>Neural network module for recognizing brain di...</td>\n",
              "    </tr>\n",
              "    <tr>\n",
              "      <th>89</th>\n",
              "      <td>Patient-level data is available in abundance t...</td>\n",
              "      <td>Neural network module for recognizing brain di...</td>\n",
              "    </tr>\n",
              "  </tbody>\n",
              "</table>\n",
              "<p>90 rows × 2 columns</p>\n",
              "</div>"
            ],
            "text/plain": [
              "                                             Sentence                                              Label\n",
              "4   With facial recognition one can take as many f...  Neural network module for recognizing brain di...\n",
              "67  Disease prediction is all about the social imp...  Neural network module for recognizing brain di...\n",
              "98  Body scans can spot cancer and vascular diseas...  Neural network module for recognizing brain di...\n",
              "59  Diagnosis and treatment of disease has been at...  Neural network module for recognizing brain di...\n",
              "42  With the help of machine learning process, str...  Neural network module for recognizing brain di...\n",
              "..                                                ...                                                ...\n",
              "39  Some solutions to recognize potential biases a...  Neural network module for recognizing brain di...\n",
              "17  The solution is adjusted to accurately detect ...  Neural network module for recognizing brain di...\n",
              "93  AI applications can provide personalized medic...  Neural network module for recognizing brain di...\n",
              "6    As we maintain the highest privacy and securi...  Neural network module for recognizing brain di...\n",
              "89  Patient-level data is available in abundance t...  Neural network module for recognizing brain di...\n",
              "\n",
              "[90 rows x 2 columns]"
            ]
          },
          "metadata": {},
          "execution_count": 10
        }
      ]
    },
    {
      "cell_type": "markdown",
      "metadata": {
        "id": "du9yjEGFK0ob"
      },
      "source": [
        "#### Vectorization"
      ]
    },
    {
      "cell_type": "code",
      "metadata": {
        "colab": {
          "base_uri": "https://localhost:8080/"
        },
        "id": "yH2lL0PIh5ZS",
        "outputId": "7bac246b-19bc-400e-f6a3-a2fca7f78135"
      },
      "source": [
        "max_tokens = 10000\n",
        "\n",
        "tokens_count = 0\n",
        "for sent in sentences:\n",
        "  tokens_count+=len(sent.split())\n",
        "avg_tokens = round(tokens_count/len(sentences))\n",
        "avg_tokens"
      ],
      "execution_count": 11,
      "outputs": [
        {
          "output_type": "execute_result",
          "data": {
            "text/plain": [
              "24"
            ]
          },
          "metadata": {},
          "execution_count": 11
        }
      ]
    },
    {
      "cell_type": "code",
      "metadata": {
        "colab": {
          "base_uri": "https://localhost:8080/"
        },
        "id": "QaXJGCCyGz-Q",
        "outputId": "c0979404-a52e-4cb9-b820-ffd4d51ad3f1"
      },
      "source": [
        "text_vectorizer = TextVectorization(max_tokens=max_tokens, # how many words in the vocabulary (all of the different words in your text)\n",
        "                                    standardize=\"lower_and_strip_punctuation\", # how to process text\n",
        "                                    split=\"whitespace\", # how to split tokens\n",
        "                                    ngrams=None, # create groups of n-words?\n",
        "                                    output_mode=\"int\", # how to map tokens to numbers\n",
        "                                    output_sequence_length=avg_tokens, # how long should the output sequence of tokens be?\n",
        "                                    pad_to_max_tokens=True)\n",
        "text_vectorizer"
      ],
      "execution_count": 12,
      "outputs": [
        {
          "output_type": "execute_result",
          "data": {
            "text/plain": [
              "<keras.layers.preprocessing.text_vectorization.TextVectorization at 0x7f940b199fd0>"
            ]
          },
          "metadata": {},
          "execution_count": 12
        }
      ]
    },
    {
      "cell_type": "code",
      "metadata": {
        "colab": {
          "base_uri": "https://localhost:8080/"
        },
        "id": "paj3V5giImTT",
        "outputId": "40ac3d37-3f5f-4bba-ed3b-039dce4e08aa"
      },
      "source": [
        "text_vectorizer.adapt(sent_df['Sentence'])\n",
        "text_vectorizer(sent_df['Sentence'])"
      ],
      "execution_count": 18,
      "outputs": [
        {
          "output_type": "execute_result",
          "data": {
            "text/plain": [
              "<tf.Tensor: shape=(100, 24), dtype=int64, numpy=\n",
              "array([[  2,  53,   4, ...,  27,  10,   2],\n",
              "       [  6, 126,   5, ...,   0,   0,   0],\n",
              "       [524,  51,  13, ...,   0,   0,   0],\n",
              "       ...,\n",
              "       [ 54, 156, 177, ...,  30, 105,   0],\n",
              "       [852, 447,  24, ...,   0,   0,   0],\n",
              "       [194,   2, 145, ...,   8,   2,  54]])>"
            ]
          },
          "metadata": {},
          "execution_count": 18
        }
      ]
    },
    {
      "cell_type": "code",
      "metadata": {
        "colab": {
          "base_uri": "https://localhost:8080/",
          "height": 419
        },
        "id": "UBfs10myaCQ3",
        "outputId": "64b6b7d2-fc06-42c4-d888-8aa9771ac2aa"
      },
      "source": [
        "sent_df"
      ],
      "execution_count": 15,
      "outputs": [
        {
          "output_type": "execute_result",
          "data": {
            "text/html": [
              "<div>\n",
              "<style scoped>\n",
              "    .dataframe tbody tr th:only-of-type {\n",
              "        vertical-align: middle;\n",
              "    }\n",
              "\n",
              "    .dataframe tbody tr th {\n",
              "        vertical-align: top;\n",
              "    }\n",
              "\n",
              "    .dataframe thead th {\n",
              "        text-align: right;\n",
              "    }\n",
              "</style>\n",
              "<table border=\"1\" class=\"dataframe\">\n",
              "  <thead>\n",
              "    <tr style=\"text-align: right;\">\n",
              "      <th></th>\n",
              "      <th>Sentence</th>\n",
              "      <th>Label</th>\n",
              "    </tr>\n",
              "  </thead>\n",
              "  <tbody>\n",
              "    <tr>\n",
              "      <th>0</th>\n",
              "      <td>The process of rare disease identification by ...</td>\n",
              "      <td>Neural network module for recognizing brain di...</td>\n",
              "    </tr>\n",
              "    <tr>\n",
              "      <th>1</th>\n",
              "      <td>In order to perform this correlation, the phen...</td>\n",
              "      <td>Neural network module for recognizing brain di...</td>\n",
              "    </tr>\n",
              "    <tr>\n",
              "      <th>2</th>\n",
              "      <td>Phenotypes such as this are hard to define in ...</td>\n",
              "      <td>Neural network module for recognizing brain di...</td>\n",
              "    </tr>\n",
              "    <tr>\n",
              "      <th>3</th>\n",
              "      <td>In order to build such a system, we decided to...</td>\n",
              "      <td>Neural network module for recognizing brain di...</td>\n",
              "    </tr>\n",
              "    <tr>\n",
              "      <th>4</th>\n",
              "      <td>With facial recognition one can take as many f...</td>\n",
              "      <td>Neural network module for recognizing brain di...</td>\n",
              "    </tr>\n",
              "    <tr>\n",
              "      <th>...</th>\n",
              "      <td>...</td>\n",
              "      <td>...</td>\n",
              "    </tr>\n",
              "    <tr>\n",
              "      <th>95</th>\n",
              "      <td>This includes balancing the prospective benefi...</td>\n",
              "      <td>Neural network module for recognizing brain di...</td>\n",
              "    </tr>\n",
              "    <tr>\n",
              "      <th>96</th>\n",
              "      <td>Users report their symptoms into the app, whic...</td>\n",
              "      <td>Neural network module for recognizing brain di...</td>\n",
              "    </tr>\n",
              "    <tr>\n",
              "      <th>97</th>\n",
              "      <td>Most common users could be people with serious...</td>\n",
              "      <td>Neural network module for recognizing brain di...</td>\n",
              "    </tr>\n",
              "    <tr>\n",
              "      <th>98</th>\n",
              "      <td>Body scans can spot cancer and vascular diseas...</td>\n",
              "      <td>Neural network module for recognizing brain di...</td>\n",
              "    </tr>\n",
              "    <tr>\n",
              "      <th>99</th>\n",
              "      <td>Since the first step in health care is compili...</td>\n",
              "      <td>Neural network module for recognizing brain di...</td>\n",
              "    </tr>\n",
              "  </tbody>\n",
              "</table>\n",
              "<p>100 rows × 2 columns</p>\n",
              "</div>"
            ],
            "text/plain": [
              "                                             Sentence                                              Label\n",
              "0   The process of rare disease identification by ...  Neural network module for recognizing brain di...\n",
              "1   In order to perform this correlation, the phen...  Neural network module for recognizing brain di...\n",
              "2   Phenotypes such as this are hard to define in ...  Neural network module for recognizing brain di...\n",
              "3   In order to build such a system, we decided to...  Neural network module for recognizing brain di...\n",
              "4   With facial recognition one can take as many f...  Neural network module for recognizing brain di...\n",
              "..                                                ...                                                ...\n",
              "95  This includes balancing the prospective benefi...  Neural network module for recognizing brain di...\n",
              "96  Users report their symptoms into the app, whic...  Neural network module for recognizing brain di...\n",
              "97  Most common users could be people with serious...  Neural network module for recognizing brain di...\n",
              "98  Body scans can spot cancer and vascular diseas...  Neural network module for recognizing brain di...\n",
              "99  Since the first step in health care is compili...  Neural network module for recognizing brain di...\n",
              "\n",
              "[100 rows x 2 columns]"
            ]
          },
          "metadata": {},
          "execution_count": 15
        }
      ]
    },
    {
      "cell_type": "code",
      "metadata": {
        "colab": {
          "base_uri": "https://localhost:8080/"
        },
        "id": "6LuArsSqKAsp",
        "outputId": "02eb8c69-ba60-4afd-c82e-02d02e5d812c"
      },
      "source": [
        "print(f\"Most Used: {text_vectorizer.get_vocabulary()[:5]}\")\n",
        "print(f\"Most Unused: {text_vectorizer.get_vocabulary()[-5:]}\")"
      ],
      "execution_count": 19,
      "outputs": [
        {
          "output_type": "stream",
          "name": "stdout",
          "text": [
            "Most Used: ['', '[UNK]', 'the', 'and', 'of']\n",
            "Most Unused: ['abundance', '92', '90', '50', '48']\n"
          ]
        }
      ]
    },
    {
      "cell_type": "markdown",
      "metadata": {
        "id": "_9Ie2kbVK28D"
      },
      "source": [
        "#### Embedding"
      ]
    },
    {
      "cell_type": "code",
      "metadata": {
        "colab": {
          "base_uri": "https://localhost:8080/"
        },
        "id": "iqX5x1xaKj8g",
        "outputId": "59d4edd0-705f-41ba-a8da-24d191346c1f"
      },
      "source": [
        "embedding = layers.Embedding(input_dim=max_tokens, # set input shape\n",
        "                             output_dim=128, # set size of embedding vector\n",
        "                             embeddings_initializer=\"uniform\", # default, intialize randomly\n",
        "                             input_length=avg_tokens) # how long is each input\n",
        "\n",
        "embedding(text_vectorizer(sent_df['Sentence']))\n"
      ],
      "execution_count": 20,
      "outputs": [
        {
          "output_type": "execute_result",
          "data": {
            "text/plain": [
              "<tf.Tensor: shape=(100, 24, 128), dtype=float32, numpy=\n",
              "array([[[ 0.0411799 , -0.00914962,  0.01756227, ...,  0.04849187,\n",
              "          0.00837236, -0.00375184],\n",
              "        [ 0.00563519,  0.0243284 , -0.04215525, ..., -0.04789383,\n",
              "         -0.0128803 ,  0.03429723],\n",
              "        [-0.01937166,  0.02174797,  0.00463254, ...,  0.0478951 ,\n",
              "         -0.04803919, -0.03161398],\n",
              "        ...,\n",
              "        [-0.04337077,  0.02537385, -0.0201865 , ...,  0.00080054,\n",
              "          0.01236407,  0.03228026],\n",
              "        [ 0.01019882, -0.03203215, -0.01548511, ..., -0.01457093,\n",
              "          0.04325235, -0.00999046],\n",
              "        [ 0.0411799 , -0.00914962,  0.01756227, ...,  0.04849187,\n",
              "          0.00837236, -0.00375184]],\n",
              "\n",
              "       [[-0.02300379, -0.04081642, -0.03887961, ...,  0.0334788 ,\n",
              "         -0.02672443, -0.01896499],\n",
              "        [-0.0096436 , -0.00408442, -0.04703431, ..., -0.00723934,\n",
              "         -0.02072076,  0.01727821],\n",
              "        [ 0.02622764, -0.02038053, -0.0378193 , ...,  0.01104288,\n",
              "         -0.03072879, -0.00937619],\n",
              "        ...,\n",
              "        [ 0.02474991, -0.0434061 , -0.04014768, ..., -0.03393934,\n",
              "         -0.00312907,  0.03408388],\n",
              "        [ 0.02474991, -0.0434061 , -0.04014768, ..., -0.03393934,\n",
              "         -0.00312907,  0.03408388],\n",
              "        [ 0.02474991, -0.0434061 , -0.04014768, ..., -0.03393934,\n",
              "         -0.00312907,  0.03408388]],\n",
              "\n",
              "       [[-0.00268509,  0.04073049,  0.01838974, ...,  0.01673231,\n",
              "         -0.018662  ,  0.01905236],\n",
              "        [ 0.0258    ,  0.03914561, -0.02013677, ..., -0.04984207,\n",
              "          0.03429604,  0.0234244 ],\n",
              "        [-0.02377708, -0.01758572, -0.0126177 , ...,  0.01657028,\n",
              "          0.00896418, -0.02259988],\n",
              "        ...,\n",
              "        [ 0.02474991, -0.0434061 , -0.04014768, ..., -0.03393934,\n",
              "         -0.00312907,  0.03408388],\n",
              "        [ 0.02474991, -0.0434061 , -0.04014768, ..., -0.03393934,\n",
              "         -0.00312907,  0.03408388],\n",
              "        [ 0.02474991, -0.0434061 , -0.04014768, ..., -0.03393934,\n",
              "         -0.00312907,  0.03408388]],\n",
              "\n",
              "       ...,\n",
              "\n",
              "       [[-0.00547683,  0.04673958,  0.03488955, ..., -0.04331985,\n",
              "          0.00250854,  0.00423297],\n",
              "        [ 0.00312992,  0.0208944 , -0.0368384 , ...,  0.03291336,\n",
              "         -0.0461438 ,  0.0257991 ],\n",
              "        [-0.04847567,  0.0106144 , -0.00068748, ..., -0.03490229,\n",
              "          0.03809135, -0.03146176],\n",
              "        ...,\n",
              "        [ 0.04473231, -0.027742  ,  0.04857883, ..., -0.02799116,\n",
              "          0.0167535 ,  0.04743013],\n",
              "        [ 0.03414476,  0.01781536, -0.04850534, ..., -0.03384111,\n",
              "          0.03284741,  0.03885492],\n",
              "        [ 0.02474991, -0.0434061 , -0.04014768, ..., -0.03393934,\n",
              "         -0.00312907,  0.03408388]],\n",
              "\n",
              "       [[-0.03263034,  0.04178342,  0.04242036, ..., -0.01546872,\n",
              "          0.01302499,  0.04275112],\n",
              "        [-0.04413145,  0.0445431 ,  0.0366368 , ..., -0.04062141,\n",
              "         -0.03540617,  0.01564225],\n",
              "        [-0.02849021,  0.01131399,  0.0107946 , ..., -0.04645641,\n",
              "          0.00856041, -0.01816392],\n",
              "        ...,\n",
              "        [ 0.02474991, -0.0434061 , -0.04014768, ..., -0.03393934,\n",
              "         -0.00312907,  0.03408388],\n",
              "        [ 0.02474991, -0.0434061 , -0.04014768, ..., -0.03393934,\n",
              "         -0.00312907,  0.03408388],\n",
              "        [ 0.02474991, -0.0434061 , -0.04014768, ..., -0.03393934,\n",
              "         -0.00312907,  0.03408388]],\n",
              "\n",
              "       [[ 0.03954979,  0.0170017 , -0.04593692, ...,  0.03588494,\n",
              "          0.02739752,  0.02364547],\n",
              "        [ 0.0411799 , -0.00914962,  0.01756227, ...,  0.04849187,\n",
              "          0.00837236, -0.00375184],\n",
              "        [-0.01103282, -0.04979732,  0.02437175, ..., -0.01276282,\n",
              "         -0.03426261, -0.04501107],\n",
              "        ...,\n",
              "        [ 0.01871336, -0.00912454,  0.01522597, ...,  0.01415161,\n",
              "          0.02105161,  0.00866012],\n",
              "        [ 0.0411799 , -0.00914962,  0.01756227, ...,  0.04849187,\n",
              "          0.00837236, -0.00375184],\n",
              "        [-0.00547683,  0.04673958,  0.03488955, ..., -0.04331985,\n",
              "          0.00250854,  0.00423297]]], dtype=float32)>"
            ]
          },
          "metadata": {},
          "execution_count": 20
        }
      ]
    },
    {
      "cell_type": "markdown",
      "metadata": {
        "id": "tLnYa_i6hn3R"
      },
      "source": [
        "### Відповіді оформити .ipynb, .csv, .pdf документами"
      ]
    },
    {
      "cell_type": "code",
      "metadata": {
        "id": "eEiSpcGZh8Yl"
      },
      "source": [
        ""
      ],
      "execution_count": null,
      "outputs": []
    }
  ]
}