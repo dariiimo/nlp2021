{
  "nbformat": 4,
  "nbformat_minor": 0,
  "metadata": {
    "colab": {
      "name": "Lab3.ipynb",
      "provenance": [],
      "collapsed_sections": [],
      "include_colab_link": true
    },
    "kernelspec": {
      "name": "python3",
      "display_name": "Python 3"
    },
    "language_info": {
      "name": "python"
    },
    "accelerator": "GPU"
  },
  "cells": [
    {
      "cell_type": "markdown",
      "metadata": {
        "id": "view-in-github",
        "colab_type": "text"
      },
      "source": [
        "<a href=\"https://colab.research.google.com/github/dariiimo/nlp2021/blob/main/Lab3/lab3.ipynb\" target=\"_parent\"><img src=\"https://colab.research.google.com/assets/colab-badge.svg\" alt=\"Open In Colab\"/></a>"
      ]
    },
    {
      "cell_type": "code",
      "metadata": {
        "id": "3suJfqw4OdIB"
      },
      "source": [
        "import numpy as np, pandas as pd, tensorflow as tf, requests as rqst, io\n",
        "from tensorflow.keras.layers.experimental.preprocessing import TextVectorization\n",
        "from tensorflow.keras import layers\n",
        "\n",
        "rnd = np.random.randint\n",
        "\n",
        "folder = '/content/drive/MyDrive/нлп/'"
      ],
      "execution_count": 5,
      "outputs": []
    },
    {
      "cell_type": "code",
      "metadata": {
        "colab": {
          "base_uri": "https://localhost:8080/"
        },
        "id": "UxASwXYxD2ZG",
        "outputId": "0a7320bb-a7a4-4853-c448-5d6770446491"
      },
      "source": [
        "from google.colab import drive\n",
        "drive.mount('/content/drive')"
      ],
      "execution_count": 4,
      "outputs": [
        {
          "output_type": "stream",
          "name": "stdout",
          "text": [
            "Mounted at /content/drive\n"
          ]
        }
      ]
    },
    {
      "cell_type": "markdown",
      "metadata": {
        "id": "zjXyPRttUE2S"
      },
      "source": [
        "## На основі підготовлених у попередній лабораторній роботі речень кожного з учасників створити загальний набір даних розмірністю (100, n), де n -кількість учасників команди, та відповідні мітки класів до них\n"
      ]
    },
    {
      "cell_type": "code",
      "metadata": {
        "colab": {
          "base_uri": "https://localhost:8080/"
        },
        "id": "_1bwxXcKUAgf",
        "outputId": "fff70c3a-1076-4254-c534-7ba491f1e760"
      },
      "source": [
        "RL_file = open(folder+'sentences.txt')\n",
        "RL_sentences = RL_file.read().split('. ')[:-1]\n",
        "\n",
        "DARINA_file = open(folder+'100.txt', encoding='windows-1251')\n",
        "DARINA_sentences = DARINA_file.read().split('. ')[:-1]\n",
        "\n",
        "RL_sentences"
      ],
      "execution_count": 8,
      "outputs": [
        {
          "output_type": "execute_result",
          "data": {
            "text/plain": [
              "['Training a virtual agent to outperform human players can teach us how to optimize different processes in a variety of different and exciting subfields',\n",
              " 'This is what Google DeepMind did with its popular AlphaGo, which beat the strongest Go player in history and scored a goal that was considered impossible at the time.In this article, we will develop an AI agent that is able to learn how to play the popular game Snake from scratch',\n",
              " 'To do it, we implement a Deep Reinforcement Learning algorithm using both Keras on top of Tensorflow and PyTorch (both versions are available, you can choose the one you prefer)',\n",
              " 'This approach consists in the interaction between two components: an environment (the game itself) and an agent (Snake)',\n",
              " 'The agent collects information about its current state (we will see later what this means) and performs an action accordingly',\n",
              " 'The environment rewards or punishes the agent based on the performed action',\n",
              " 'Over time, the agent learns what actions maximize the reward (in our case, what actions lead to eating the apple and avoiding the walls)',\n",
              " 'No rules about the game are given',\n",
              " 'Initially, Snake does not know what to do and performs random actions',\n",
              " 'The goal is to elaborate a strategy (technically called “policy”) to maximize the score — or the reward.We are going to see how a Deep Q-Learning algorithm learns to play Snake, scoring up to 50 points and showing a solid strategy in just 5 minutes of training',\n",
              " 'Optionally, the code shows how to optimize the Artificial Neural Network using Bayesian Optimization',\n",
              " 'Reinforcement Learning is a family of algorithms and techniques used for Control (e.g',\n",
              " 'Robotics, Autonomous driving, etc..) and Decision making',\n",
              " 'These approaches solve problems that need to be expressed as a Markov Decision Process (MDP)',\n",
              " 'What does this mean? It means that we need to describe our game by a set of states S (for example, an index based on Snake’s position), a set of actions A (for example, Up, Down, Right, Left), a reward function R (for example, +10 when Snake eats an apple, -10 when Snakes hits a wall) and optionally a transition function T that describes the transitions among states',\n",
              " 'Traditional ML algorithms need to be trained with an input and a “correct answer” called target',\n",
              " 'The system will then try to learn how to predict targets based on unseen inputs',\n",
              " 'In this example, we don’t know the best action to take at each state of the game (this is actually what we are trying to learn!), so a traditional approach would not be effective',\n",
              " 'In Reinforcement Learning, we have two main components: the environment (our game) and the agent (our Snake.',\n",
              " 'or to be correct, the Deep Neural Network that drives our Snake’s actions)',\n",
              " 'Every time the agent performs an action, the environment gives a reward to the agent, which can be positive or negative depending on how good the action was from that specific state',\n",
              " 'The goal of the agent is to learn what actions maximize the reward, given every possible state',\n",
              " 'States are the observations that the agent receives at each iteration from the environment',\n",
              " 'A state can be its position, its speed, or whatever array of variables describes the environment',\n",
              " 'To be more rigorous and to use a Reinforcement Learning notation, the strategy used by the agent to make decisions is called policy',\n",
              " 'On a theoretical level, a policy is a mapping from the state space (the space of all the possible observations that the agent can receive) into the action space (the space of all the actions the agent can take, say UP, DOWN, LEFT and RIGHT)',\n",
              " 'A Q-table is a matrix that correlates the state of the agent with the possible actions that the agent can adopt',\n",
              " 'The values in the table are the action’s probability of success (technically, a measure of the expected cumulative reward), which were updated based on the rewards the agent received during training',\n",
              " 'In the example, we might want to choose RIGHT if we are in State 2, and we might want to go UP if we are in State 4',\n",
              " 'The values in the Q-Table represent the cumulative expected reward of taking action a from a state s',\n",
              " 'In other words, these values give us an indication of the average reward that the agent obtains if it takes action a from that state s',\n",
              " 'This table is the policy of the agent that we mentioned before: it determines what actions should be taken from every state to maximize the expected reward',\n",
              " 'Deep Q-Learning increases the potentiality of Q-Learning by converting the table into Deep Neural Network — that is a powerful representation of a parametrized function',\n",
              " 'When the AI chooses and performs the action, the environment gives a reward to the agent',\n",
              " 'Then, the agent reaches the new state state’ and it updates its Q-value according to the Bellman equation as mentioned above',\n",
              " 'Also, for each move, it stores the original state, the action, the state reached after performed that action, the reward obtained and whether the game ended or not',\n",
              " 'This data is later sampled to train the neural network',\n",
              " 'This operation is called Replay Memory',\n",
              " 'A state is the representation of a situation in which the agent finds itself',\n",
              " 'The state also represents the input of the Neural network',\n",
              " 'the AI tries to maximize the expected reward',\n",
              " 'In our case, a positive reward is only given to the agent when it eats the food target (+10)',\n",
              " 'If the snake hits a wall or hits itself, the reward is negative (-10)',\n",
              " 'Additionally, we could give a positive reward for each step Snake takes without dying',\n",
              " 'In that case, Snake might exploit the situation by running in a circle instead of reaching the food, since it would get positive rewards for each step while avoiding the risk of collision against a wall',\n",
              " 'Sometimes, Reinforcement Learning agents outsmart us, presenting flaws in our strategy that we did not anticipate',\n",
              " 'The brain of the Artificial Intelligence agent uses Deep learning',\n",
              " 'In our case, it consists of 3 hidden layers of 120 neurons',\n",
              " 'The learning rate is not fixed, it starts at 0.0005 and decreases to 0.000005',\n",
              " 'Different architectures and different hyper-parameters contribute to a quicker convergence to an optimum, as well as possible highest scores',\n",
              " 'The network receives as input the state, and returns as output three values related to the three actions: move left, move right, move straight',\n",
              " 'The last layer uses the Softmax function',\n",
              " 'This example shows how a simple agent can learn the mechanism of a process, in this case the game Snake, in a few minutes and with a few lines of code',\n",
              " 'I strongly suggest to dive into the code and to try to improve the result',\n",
              " 'An interesting upgrade might be obtained passing screenshots of the current game for each iteration',\n",
              " 'In that case, the state could be the RGB information for each pixel',\n",
              " 'The Deep Q-Learning model can be replaced with a Double Deep Q-learning algorithm, for a more precise convergence',\n",
              " 'Reinforcement learning is the training of machine learning models to make a sequence of decisions',\n",
              " 'The agent learns to achieve a goal in an uncertain, potentially complex environment',\n",
              " 'In reinforcement learning, an artificial intelligence faces a game-like situation',\n",
              " 'The computer employs trial and error to come up with a solution to the problem',\n",
              " 'To get the machine to do what the programmer wants, the artificial intelligence gets either rewards or penalties for the actions it performs',\n",
              " 'Its goal is to maximize the total reward',\n",
              " 'Although the designer sets the reward policy–that is, the rules of the game–he gives the model no hints or suggestions for how to solve the game',\n",
              " 'It’s up to the model to figure out how to perform the task to maximize the reward, starting from totally random trials and finishing with sophisticated tactics and superhuman skills',\n",
              " 'By leveraging the power of search and many trials, reinforcement learning is currently the most effective way to hint machine’s creativity',\n",
              " 'In contrast to human beings, artificial intelligence can gather experience from thousands of parallel gameplays if a reinforcement learning algorithm is run on a sufficiently powerful computer infrastructure',\n",
              " 'in usual circumstances we would require an autonomous vehicle to put safety first, minimize ride time, reduce pollution, offer passengers comfort and obey the rules of law',\n",
              " 'With an autonomous race car, on the other hand, we would emphasize speed much more than the driver’s comfort',\n",
              " 'The programmer cannot predict everything that could happen on the road',\n",
              " 'Instead of building lengthy “if-then” instructions, the programmer prepares the reinforcement learning agent to be capable of learning from the system of rewards and penalties',\n",
              " 'The agent (another name for reinforcement learning algorithms performing the task) gets rewards for reaching specific goals',\n",
              " 'deepsense.ai took part in the “Learning to run” project, which aimed to train a virtual runner from scratch',\n",
              " 'The runner is an advanced and precise musculoskeletal model designed by the Stanford Neuromuscular Biomechanics Laboratory',\n",
              " 'Learning the agent how to run is a first step in building a new generation of prosthetic legs, ones that automatically recognize people’s walking patterns and tweak themselves to make moving easier and more effective',\n",
              " 'While it is possible and has been done in Stanford’s labs, hard-wiring all the commands and predicting all possible patterns of walking requires a lot of work from highly skilled programmers',\n",
              " 'Reinforcement learning, as stated above employs a system of rewards and penalties to compel the computer to solve a problem by itself',\n",
              " 'Human involvement is limited to changing the environment and tweaking the system of rewards and penalties',\n",
              " 'As the computer maximizes the reward, it is prone to seeking unexpected ways of doing it',\n",
              " 'Human involvement is focused on preventing it from exploiting the system and motivating the machine to perform the task in the way expected',\n",
              " 'Reinforcement learning is useful when there is no “proper way” to perform a task, yet there are rules the model has to follow to perform its duties correctly',\n",
              " 'By tweaking and seeking the optimal policy for deep reinforcement learning, we built an agent that in just 20 minutes reached a superhuman level in playing Atari games',\n",
              " 'Similar algorithms in principal can be used to build AI for an autonomous car or a prosthetic leg',\n",
              " 'In fact, one of the best ways to evaluate the reinforcement learning approach is to give the model an Atari video game to play, such as Arkanoid or Space Invaders',\n",
              " 'According to Google Brain’s Marc G',\n",
              " 'Bellemare, who introduced Atari video games as a reinforcement learning benchmark, “although challenging, these environments remain simple enough that we can hope to achieve measurable progress as we attempt to solve them”',\n",
              " 'Deep reinforcement learning, the algorithm used by state-of-the-art game-playing bots, starts by providing an agent with a set of possible actions in the game, a mechanism to receive feedback from the environment, and a goal to pursue',\n",
              " 'Then, through numerous episodes of gameplay, the RL agent gradually goes from taking random actions to learning sequences of actions that can help it maximize its goal',\n",
              " 'Early research of deep reinforcement learning relied on the agent being pretrained on gameplay data from human players',\n",
              " 'More recently, researchers have been able to develop RL agents that can learn games from scratch through pure self-play without human input',\n",
              " 'In their study, the researchers at MIT Lincoln Laboratory were interested in finding out if a reinforcement learning program that outperforms humans could become a reliable coworker to humans',\n",
              " '“At a very high level, this work was inspired by the question: What technology gaps exist that prevent reinforcement learning (RL) from being applied to real-world problems, not just video games?” Dr',\n",
              " 'Ross Allen, AI researcher at Lincoln Laboratory and co-author of the paper, told TechTalks',\n",
              " '“While many such technology gaps exist (e.g., the real world is characterized by uncertainty/partial-observability, data scarcity, ambiguous/nuanced objectives, disparate timescales of decision making, etc.), we identified the need to collaborate with humans as a key technology gap for applying RL in the real-world',\n",
              " 'In fact, in some cases, the reinforcement systems have managed to hack the games and find tricks that baffled even the most talented and experienced human players',\n",
              " 'One famous example was a move made by DeepMind’s AlphaGo in its matchup against Go world champion Lee Sedol',\n",
              " 'Analysts first thought the move was a mistake because it went against the intuitions of human experts',\n",
              " 'But the same move ended up turning the tide in favor of the AI player and defeating Sedol',\n",
              " 'Allen thinks the same kind of ingenuity can come into play when RL is teamed up with humans',\n",
              " '“We think RL can be leveraged to advance the state of the art of human-AI collaboration by avoiding the preconceived assumptions and biases that characterize ‘rule-based expert systems,” Allen said',\n",
              " 'Reinforcement learning is a special branch of AI algorithms that is composed of three key elements: an environment, agents, and rewards',\n",
              " 'By performing actions, the agent changes its own state and that of the environment',\n",
              " 'Based on how much those actions affect the goal the agent must achieve, it is rewarded or penalized',\n",
              " 'In many reinforcement learning problems, the agent has no initial knowledge of the environment and starts by taking random actions',\n",
              " 'Based on the feedback it receives, the agent learns to tune its actions and develop policies that maximize its reward',\n",
              " 'In their paper, the researchers at DeepMind suggest reinforcement learning as the main algorithm that can replicate reward maximization as seen in nature and can eventually lead to artificial general intelligence',\n",
              " '“If an agent can continually adjust its behaviour so as to improve its cumulative reward, then any abilities that are repeatedly demanded by its environment must ultimately be produced in the agent’s behaviour,” the researchers write, adding that, in the course of maximizing for its reward, a good reinforcement learning agent could eventually learn perception, language, social intelligence and so forth',\n",
              " '“We do not offer any theoretical guarantee on the sample efficiency of reinforcement learning agents.” Reinforcement learning is notoriously renowned for requiring huge amounts of data',\n",
              " 'For instance, a reinforcement learning agent might need centuries worth of gameplay to master a computer game',\n",
              " 'And AI researchers still haven’t figured out how to create reinforcement learning systems that can generalize their learnings across several domains',\n",
              " 'Therefore, slight changes to the environment often require the full retraining of the model',\n",
              " 'The researchers also acknowledge that learning mechanisms for reward maximization is an unsolved problem that remains a central question to be further studied in reinforcement learning',\n",
              " 'In “Chip Placement with Deep Reinforcement Learning”, we pose chip placement as a reinforcement learning (RL) problem, where we train an agent (i.e, an RL policy) to optimize the quality of chip placements',\n",
              " 'Unlike prior methods, our approach has the ability to learn from past experience and improve over time',\n",
              " 'In particular, as we train over a greater number of chip blocks, our method becomes better at rapidly generating optimized placements for previously unseen chip blocks',\n",
              " 'Whereas existing baselines require human experts in the loop and take several weeks to generate, our method can generate placements in under six hours that outperform or match their manually designed counterparts']"
            ]
          },
          "metadata": {},
          "execution_count": 8
        }
      ]
    },
    {
      "cell_type": "code",
      "metadata": {
        "id": "GSO49B9-VDGu"
      },
      "source": [
        ""
      ],
      "execution_count": null,
      "outputs": []
    },
    {
      "cell_type": "code",
      "metadata": {
        "colab": {
          "base_uri": "https://localhost:8080/",
          "height": 419
        },
        "id": "xXFtRDHpobtl",
        "outputId": "fd5eb39d-0ed7-4632-b4ed-5ca2f4e62abf"
      },
      "source": [
        "sent_df = []\n",
        "\n",
        "for sent in RL_sentences:\n",
        "  sent_df.append({'Sentence':sent, 'Target':'Reinforcement Learning'})\n",
        "\n",
        "for sent in DARINA_sentences:\n",
        "  sent_df.append({'Sentence':sent, 'Target':'Neural network module for recognizing brain diseases'})\n",
        "\n",
        "sent_df = pd.DataFrame(data=sent_df, columns=['Sentence', 'Target'])\n",
        "\n",
        "sent_df['Label'] = sent_df['Target']\n",
        "sent_df.replace({'Label':{'Reinforcement Learning':0, 'Neural network module for recognizing brain diseases':1}}, inplace=True)\n",
        "sent_df"
      ],
      "execution_count": 10,
      "outputs": [
        {
          "output_type": "execute_result",
          "data": {
            "text/html": [
              "<div>\n",
              "<style scoped>\n",
              "    .dataframe tbody tr th:only-of-type {\n",
              "        vertical-align: middle;\n",
              "    }\n",
              "\n",
              "    .dataframe tbody tr th {\n",
              "        vertical-align: top;\n",
              "    }\n",
              "\n",
              "    .dataframe thead th {\n",
              "        text-align: right;\n",
              "    }\n",
              "</style>\n",
              "<table border=\"1\" class=\"dataframe\">\n",
              "  <thead>\n",
              "    <tr style=\"text-align: right;\">\n",
              "      <th></th>\n",
              "      <th>Sentence</th>\n",
              "      <th>Target</th>\n",
              "      <th>Label</th>\n",
              "    </tr>\n",
              "  </thead>\n",
              "  <tbody>\n",
              "    <tr>\n",
              "      <th>0</th>\n",
              "      <td>Training a virtual agent to outperform human p...</td>\n",
              "      <td>Reinforcement Learning</td>\n",
              "      <td>0</td>\n",
              "    </tr>\n",
              "    <tr>\n",
              "      <th>1</th>\n",
              "      <td>This is what Google DeepMind did with its popu...</td>\n",
              "      <td>Reinforcement Learning</td>\n",
              "      <td>0</td>\n",
              "    </tr>\n",
              "    <tr>\n",
              "      <th>2</th>\n",
              "      <td>To do it, we implement a Deep Reinforcement Le...</td>\n",
              "      <td>Reinforcement Learning</td>\n",
              "      <td>0</td>\n",
              "    </tr>\n",
              "    <tr>\n",
              "      <th>3</th>\n",
              "      <td>This approach consists in the interaction betw...</td>\n",
              "      <td>Reinforcement Learning</td>\n",
              "      <td>0</td>\n",
              "    </tr>\n",
              "    <tr>\n",
              "      <th>4</th>\n",
              "      <td>The agent collects information about its curre...</td>\n",
              "      <td>Reinforcement Learning</td>\n",
              "      <td>0</td>\n",
              "    </tr>\n",
              "    <tr>\n",
              "      <th>...</th>\n",
              "      <td>...</td>\n",
              "      <td>...</td>\n",
              "      <td>...</td>\n",
              "    </tr>\n",
              "    <tr>\n",
              "      <th>211</th>\n",
              "      <td>This includes balancing the prospective benefi...</td>\n",
              "      <td>Neural network module for recognizing brain di...</td>\n",
              "      <td>1</td>\n",
              "    </tr>\n",
              "    <tr>\n",
              "      <th>212</th>\n",
              "      <td>Users report their symptoms into the app, whic...</td>\n",
              "      <td>Neural network module for recognizing brain di...</td>\n",
              "      <td>1</td>\n",
              "    </tr>\n",
              "    <tr>\n",
              "      <th>213</th>\n",
              "      <td>Most common users could be people with serious...</td>\n",
              "      <td>Neural network module for recognizing brain di...</td>\n",
              "      <td>1</td>\n",
              "    </tr>\n",
              "    <tr>\n",
              "      <th>214</th>\n",
              "      <td>Body scans can spot cancer and vascular diseas...</td>\n",
              "      <td>Neural network module for recognizing brain di...</td>\n",
              "      <td>1</td>\n",
              "    </tr>\n",
              "    <tr>\n",
              "      <th>215</th>\n",
              "      <td>Since the first step in health care is compili...</td>\n",
              "      <td>Neural network module for recognizing brain di...</td>\n",
              "      <td>1</td>\n",
              "    </tr>\n",
              "  </tbody>\n",
              "</table>\n",
              "<p>216 rows × 3 columns</p>\n",
              "</div>"
            ],
            "text/plain": [
              "                                              Sentence  ... Label\n",
              "0    Training a virtual agent to outperform human p...  ...     0\n",
              "1    This is what Google DeepMind did with its popu...  ...     0\n",
              "2    To do it, we implement a Deep Reinforcement Le...  ...     0\n",
              "3    This approach consists in the interaction betw...  ...     0\n",
              "4    The agent collects information about its curre...  ...     0\n",
              "..                                                 ...  ...   ...\n",
              "211  This includes balancing the prospective benefi...  ...     1\n",
              "212  Users report their symptoms into the app, whic...  ...     1\n",
              "213  Most common users could be people with serious...  ...     1\n",
              "214  Body scans can spot cancer and vascular diseas...  ...     1\n",
              "215  Since the first step in health care is compili...  ...     1\n",
              "\n",
              "[216 rows x 3 columns]"
            ]
          },
          "metadata": {},
          "execution_count": 10
        }
      ]
    },
    {
      "cell_type": "markdown",
      "metadata": {
        "id": "g2wyDOPHUGyY"
      },
      "source": [
        "## Здійснити підготовку набору даних до моделювання (tokenization&embedding, train_test_split)\n"
      ]
    },
    {
      "cell_type": "code",
      "metadata": {
        "colab": {
          "base_uri": "https://localhost:8080/"
        },
        "id": "twFzQqnLu8J8",
        "outputId": "1b41e96f-1b17-4e8c-90b4-9633e449a8c5"
      },
      "source": [
        "max_tokens = 10000\n",
        "\n",
        "sentences = RL_sentences+DARINA_sentences\n",
        "tokens_count = 0\n",
        "for sent in sentences:\n",
        "  tokens_count+=len(sent.split())\n",
        "avg_tokens = round(tokens_count/len(sentences))\n",
        "avg_tokens"
      ],
      "execution_count": 13,
      "outputs": [
        {
          "output_type": "execute_result",
          "data": {
            "text/plain": [
              "23"
            ]
          },
          "metadata": {},
          "execution_count": 13
        }
      ]
    },
    {
      "cell_type": "markdown",
      "metadata": {
        "id": "NeH6e0tRVV78"
      },
      "source": [
        "#### Tokenization&Embedding"
      ]
    },
    {
      "cell_type": "code",
      "metadata": {
        "id": "Fm1gjy-eUHB4",
        "colab": {
          "base_uri": "https://localhost:8080/"
        },
        "outputId": "d6e17967-0329-45aa-e6ae-f9b2d77639e7"
      },
      "source": [
        "text_vectorizer = TextVectorization(max_tokens=max_tokens, \n",
        "                                    standardize=\"lower_and_strip_punctuation\", \n",
        "                                    split=\"whitespace\", \n",
        "                                    ngrams=None, \n",
        "                                    output_mode=\"int\",\n",
        "                                    output_sequence_length=avg_tokens, \n",
        "                                    pad_to_max_tokens=True)\n",
        "\n",
        "text_vectorizer.adapt(sent_df['Sentence'])\n",
        "\n",
        "text_vectorizer(sent_df['Sentence'])"
      ],
      "execution_count": 14,
      "outputs": [
        {
          "output_type": "execute_result",
          "data": {
            "text/plain": [
              "<tf.Tensor: shape=(216, 23), dtype=int64, numpy=\n",
              "array([[ 108,    6,  340, ...,  120,    4, 1214],\n",
              "       [  27,    8,   47, ...,    6,   76,    9],\n",
              "       [   3,  152,   26, ...,  618,   22,  216],\n",
              "       ...,\n",
              "       [  86,  314,  342, ...,    7,   64,  126],\n",
              "       [1387,  794,   20, ..., 1159,    0,    0],\n",
              "       [ 244,    2,  119, ...,  446,    8,    2]])>"
            ]
          },
          "metadata": {},
          "execution_count": 14
        }
      ]
    },
    {
      "cell_type": "code",
      "metadata": {
        "colab": {
          "base_uri": "https://localhost:8080/"
        },
        "id": "HsUT7y2avSdJ",
        "outputId": "552b68da-686a-4182-b4b6-3c8036f6777e"
      },
      "source": [
        "embedding = layers.Embedding(input_dim=max_tokens, # set input shape\n",
        "                             output_dim=128, # set size of embedding vector\n",
        "                             embeddings_initializer=\"uniform\", # default, intialize randomly\n",
        "                             input_length=avg_tokens) # how long is each input\n",
        "\n",
        "embedding(text_vectorizer(sent_df['Sentence']))"
      ],
      "execution_count": 15,
      "outputs": [
        {
          "output_type": "execute_result",
          "data": {
            "text/plain": [
              "<tf.Tensor: shape=(216, 23, 128), dtype=float32, numpy=\n",
              "array([[[ 1.92381404e-02, -2.40186695e-02,  4.15458791e-02, ...,\n",
              "         -3.67470756e-02,  1.22135282e-02,  9.77214426e-03],\n",
              "        [ 3.28471512e-03, -2.82566622e-03,  1.81098096e-02, ...,\n",
              "         -2.93680076e-02, -3.60281467e-02,  1.00275129e-03],\n",
              "        [-2.98740864e-02, -2.30908990e-02,  5.57623804e-04, ...,\n",
              "          1.05183125e-02,  1.23597160e-02, -3.08249146e-03],\n",
              "        ...,\n",
              "        [ 7.85101578e-03, -2.05122828e-02, -1.97264310e-02, ...,\n",
              "          2.34546550e-02, -3.78147252e-02, -3.35229039e-02],\n",
              "        [-3.97031307e-02,  4.40392233e-02,  1.06388442e-02, ...,\n",
              "          4.68807332e-02,  2.30207928e-02, -1.11668482e-02],\n",
              "        [ 1.01379864e-02,  2.05031671e-02,  4.65751328e-02, ...,\n",
              "         -2.36142166e-02, -3.19918394e-02, -2.08856594e-02]],\n",
              "\n",
              "       [[ 2.22262181e-02,  1.42224878e-03, -3.57791409e-02, ...,\n",
              "         -1.09992512e-02,  4.66940664e-02,  2.25063078e-02],\n",
              "        [ 1.37925260e-02, -2.97180414e-02,  1.71553008e-02, ...,\n",
              "          3.72947790e-02,  2.44264491e-02,  4.02066149e-02],\n",
              "        [ 1.24729797e-03, -3.86976078e-03, -4.89267483e-02, ...,\n",
              "          2.00503729e-02, -4.34914827e-02,  7.51508400e-03],\n",
              "        ...,\n",
              "        [ 3.28471512e-03, -2.82566622e-03,  1.81098096e-02, ...,\n",
              "         -2.93680076e-02, -3.60281467e-02,  1.00275129e-03],\n",
              "        [-1.04278214e-02, -4.94850762e-02, -4.22618650e-02, ...,\n",
              "          1.52693428e-02, -3.07693481e-02,  4.16628271e-03],\n",
              "        [ 2.74577253e-02, -4.45651896e-02, -2.36641895e-02, ...,\n",
              "          3.65227126e-02, -1.49859786e-02, -1.59621723e-02]],\n",
              "\n",
              "       [[-1.12795010e-02, -3.69853489e-02, -1.23940222e-02, ...,\n",
              "         -1.26748793e-02, -4.52044010e-02,  1.13280043e-02],\n",
              "        [-2.89435983e-02, -2.62071490e-02,  2.89295949e-02, ...,\n",
              "          1.70357525e-05, -3.84816527e-02, -3.33992615e-02],\n",
              "        [ 1.80546902e-02,  1.85252763e-02,  2.06831433e-02, ...,\n",
              "          4.58575226e-02,  2.95956172e-02, -1.43594630e-02],\n",
              "        ...,\n",
              "        [ 4.21311706e-03,  2.83300877e-03,  4.70997132e-02, ...,\n",
              "         -4.60683219e-02, -4.27209847e-02, -3.76950726e-02],\n",
              "        [-2.93198116e-02,  2.18846537e-02, -2.70549413e-02, ...,\n",
              "         -8.43725353e-03,  1.55580156e-02,  3.51304896e-02],\n",
              "        [ 3.60099413e-02,  1.63201727e-02,  2.95063965e-02, ...,\n",
              "          8.89230892e-03, -4.68874238e-02,  3.78698446e-02]],\n",
              "\n",
              "       ...,\n",
              "\n",
              "       [[-4.29068692e-02,  5.44410944e-03, -4.06908281e-02, ...,\n",
              "          2.06972249e-02, -1.30017027e-02,  4.16296721e-03],\n",
              "        [ 1.32739805e-02, -2.92043816e-02, -1.91625245e-02, ...,\n",
              "          3.31624635e-02,  4.92340215e-02,  3.11958455e-02],\n",
              "        [ 3.04893404e-03, -4.13191691e-02,  2.90124081e-02, ...,\n",
              "         -1.62782893e-02,  3.30215581e-02, -4.54023853e-02],\n",
              "        ...,\n",
              "        [-1.41674876e-02,  3.48334052e-02,  1.27365477e-02, ...,\n",
              "          2.56136395e-02, -2.67629977e-02, -2.33278759e-02],\n",
              "        [-3.86987999e-03, -2.73723006e-02, -1.22795813e-02, ...,\n",
              "         -4.49685007e-03,  4.77203019e-02,  4.13208269e-02],\n",
              "        [ 1.60868429e-02, -8.14079121e-03, -4.05816063e-02, ...,\n",
              "          7.19921663e-03,  4.93639447e-02, -2.05119699e-03]],\n",
              "\n",
              "       [[-4.67479229e-02,  3.72694172e-02,  1.55746937e-04, ...,\n",
              "         -1.89898741e-02,  2.12587006e-02, -2.42449287e-02],\n",
              "        [-3.51266973e-02,  2.35105269e-02, -2.83155683e-02, ...,\n",
              "          1.57945044e-02,  1.26475357e-02,  2.31836550e-02],\n",
              "        [ 4.57479842e-02,  4.73763682e-02,  2.22799890e-02, ...,\n",
              "          3.94153111e-02,  3.51491012e-02, -3.60664614e-02],\n",
              "        ...,\n",
              "        [-4.72944155e-02,  2.07342394e-02,  1.52319707e-02, ...,\n",
              "          2.94499137e-02, -4.80604172e-02,  2.03318521e-03],\n",
              "        [ 5.11177629e-03,  2.32042558e-02, -3.83486152e-02, ...,\n",
              "         -1.63097493e-02,  3.65427174e-02, -2.20656395e-03],\n",
              "        [ 5.11177629e-03,  2.32042558e-02, -3.83486152e-02, ...,\n",
              "         -1.63097493e-02,  3.65427174e-02, -2.20656395e-03]],\n",
              "\n",
              "       [[-4.17097807e-02, -3.96338217e-02, -1.18283741e-02, ...,\n",
              "         -9.80397314e-03,  2.24049129e-02, -1.11651197e-02],\n",
              "        [-3.32158692e-02, -6.99951500e-03,  1.89834945e-02, ...,\n",
              "         -2.84298547e-02, -1.98915005e-02, -5.78447431e-03],\n",
              "        [ 7.86701590e-03, -2.39722133e-02, -4.58985455e-02, ...,\n",
              "         -3.57298478e-02,  3.96221615e-02,  3.85605358e-02],\n",
              "        ...,\n",
              "        [ 2.63055824e-02, -3.61219049e-02,  3.78290564e-03, ...,\n",
              "          4.59653400e-02,  1.42303742e-02, -2.75863409e-02],\n",
              "        [ 1.37925260e-02, -2.97180414e-02,  1.71553008e-02, ...,\n",
              "          3.72947790e-02,  2.44264491e-02,  4.02066149e-02],\n",
              "        [-3.32158692e-02, -6.99951500e-03,  1.89834945e-02, ...,\n",
              "         -2.84298547e-02, -1.98915005e-02, -5.78447431e-03]]],\n",
              "      dtype=float32)>"
            ]
          },
          "metadata": {},
          "execution_count": 15
        }
      ]
    },
    {
      "cell_type": "markdown",
      "metadata": {
        "id": "x65Oxb8aVV5c"
      },
      "source": [
        "#### Train/Test Split"
      ]
    },
    {
      "cell_type": "code",
      "metadata": {
        "id": "7L-Q1oaDVZLw",
        "colab": {
          "base_uri": "https://localhost:8080/",
          "height": 419
        },
        "outputId": "7cc854f8-e33d-4ad1-8a1a-1b4618ed1b45"
      },
      "source": [
        "from sklearn.model_selection import train_test_split\n",
        "train_split, test_split = train_test_split(sent_df, train_size=0.9, test_size=0.1)\n",
        "train_split"
      ],
      "execution_count": 16,
      "outputs": [
        {
          "output_type": "execute_result",
          "data": {
            "text/html": [
              "<div>\n",
              "<style scoped>\n",
              "    .dataframe tbody tr th:only-of-type {\n",
              "        vertical-align: middle;\n",
              "    }\n",
              "\n",
              "    .dataframe tbody tr th {\n",
              "        vertical-align: top;\n",
              "    }\n",
              "\n",
              "    .dataframe thead th {\n",
              "        text-align: right;\n",
              "    }\n",
              "</style>\n",
              "<table border=\"1\" class=\"dataframe\">\n",
              "  <thead>\n",
              "    <tr style=\"text-align: right;\">\n",
              "      <th></th>\n",
              "      <th>Sentence</th>\n",
              "      <th>Target</th>\n",
              "      <th>Label</th>\n",
              "    </tr>\n",
              "  </thead>\n",
              "  <tbody>\n",
              "    <tr>\n",
              "      <th>135</th>\n",
              "      <td>By sifting out healthy patients, the system al...</td>\n",
              "      <td>Neural network module for recognizing brain di...</td>\n",
              "      <td>1</td>\n",
              "    </tr>\n",
              "    <tr>\n",
              "      <th>88</th>\n",
              "      <td>Early research of deep reinforcement learning ...</td>\n",
              "      <td>Reinforcement Learning</td>\n",
              "      <td>0</td>\n",
              "    </tr>\n",
              "    <tr>\n",
              "      <th>103</th>\n",
              "      <td>In many reinforcement learning problems, the a...</td>\n",
              "      <td>Reinforcement Learning</td>\n",
              "      <td>0</td>\n",
              "    </tr>\n",
              "    <tr>\n",
              "      <th>124</th>\n",
              "      <td>One valuable approach for improving medical ca...</td>\n",
              "      <td>Neural network module for recognizing brain di...</td>\n",
              "      <td>1</td>\n",
              "    </tr>\n",
              "    <tr>\n",
              "      <th>67</th>\n",
              "      <td>in usual circumstances we would require an aut...</td>\n",
              "      <td>Reinforcement Learning</td>\n",
              "      <td>0</td>\n",
              "    </tr>\n",
              "    <tr>\n",
              "      <th>...</th>\n",
              "      <td>...</td>\n",
              "      <td>...</td>\n",
              "      <td>...</td>\n",
              "    </tr>\n",
              "    <tr>\n",
              "      <th>152</th>\n",
              "      <td>The AI technology has been applied to various ...</td>\n",
              "      <td>Neural network module for recognizing brain di...</td>\n",
              "      <td>1</td>\n",
              "    </tr>\n",
              "    <tr>\n",
              "      <th>118</th>\n",
              "      <td>Phenotypes such as this are hard to define in ...</td>\n",
              "      <td>Neural network module for recognizing brain di...</td>\n",
              "      <td>1</td>\n",
              "    </tr>\n",
              "    <tr>\n",
              "      <th>104</th>\n",
              "      <td>Based on the feedback it receives, the agent l...</td>\n",
              "      <td>Reinforcement Learning</td>\n",
              "      <td>0</td>\n",
              "    </tr>\n",
              "    <tr>\n",
              "      <th>142</th>\n",
              "      <td>Instead, AI systems will be used to highlight ...</td>\n",
              "      <td>Neural network module for recognizing brain di...</td>\n",
              "      <td>1</td>\n",
              "    </tr>\n",
              "    <tr>\n",
              "      <th>100</th>\n",
              "      <td>Reinforcement learning is a special branch of ...</td>\n",
              "      <td>Reinforcement Learning</td>\n",
              "      <td>0</td>\n",
              "    </tr>\n",
              "  </tbody>\n",
              "</table>\n",
              "<p>194 rows × 3 columns</p>\n",
              "</div>"
            ],
            "text/plain": [
              "                                              Sentence  ... Label\n",
              "135  By sifting out healthy patients, the system al...  ...     1\n",
              "88   Early research of deep reinforcement learning ...  ...     0\n",
              "103  In many reinforcement learning problems, the a...  ...     0\n",
              "124  One valuable approach for improving medical ca...  ...     1\n",
              "67   in usual circumstances we would require an aut...  ...     0\n",
              "..                                                 ...  ...   ...\n",
              "152  The AI technology has been applied to various ...  ...     1\n",
              "118  Phenotypes such as this are hard to define in ...  ...     1\n",
              "104  Based on the feedback it receives, the agent l...  ...     0\n",
              "142  Instead, AI systems will be used to highlight ...  ...     1\n",
              "100  Reinforcement learning is a special branch of ...  ...     0\n",
              "\n",
              "[194 rows x 3 columns]"
            ]
          },
          "metadata": {},
          "execution_count": 16
        }
      ]
    },
    {
      "cell_type": "markdown",
      "metadata": {
        "id": "fD_fyh_EUHKN"
      },
      "source": [
        "## Вирішити завдання мультикласової класифікації на створеному наборі даних із використанням методів: Naive Bayes Model, Dense Neural Network"
      ]
    },
    {
      "cell_type": "code",
      "metadata": {
        "id": "hIu3Fp7fttP0"
      },
      "source": [
        "from sklearn.metrics import accuracy_score, precision_recall_fscore_support\n",
        "\n",
        "def calculate_results(y_true, y_pred):\n",
        "  \"\"\"\n",
        "  Calculates model accuracy, precision, recall and f1 score of a binary classification model.\n",
        "\n",
        "  Args:\n",
        "  -----\n",
        "  y_true = true labels in the form of a 1D array\n",
        "  y_pred = predicted labels in the form of a 1D array\n",
        "\n",
        "  Returns a dictionary of accuracy, precision, recall, f1-score.\n",
        "  \"\"\"\n",
        "  # Calculate model accuracy\n",
        "  model_accuracy = accuracy_score(y_true, y_pred) * 100\n",
        "  # Calculate model precision, recall and f1 score using \"weighted\" average\n",
        "  model_precision, model_recall, model_f1, _ = precision_recall_fscore_support(y_true, y_pred, average=\"weighted\")\n",
        "  model_results = {\"accuracy\": model_accuracy,\n",
        "                  \"precision\": model_precision,\n",
        "                  \"recall\": model_recall,\n",
        "                  \"f1\": model_f1}\n",
        "  return model_results\n"
      ],
      "execution_count": 18,
      "outputs": []
    },
    {
      "cell_type": "markdown",
      "metadata": {
        "id": "cDuPl7hXwCj-"
      },
      "source": [
        "### Naive Bayes Model"
      ]
    },
    {
      "cell_type": "code",
      "metadata": {
        "colab": {
          "base_uri": "https://localhost:8080/"
        },
        "id": "Wj0nNYBawDAF",
        "outputId": "15c1b5e4-5a66-4899-bbb7-6f2f1db6a3d4"
      },
      "source": [
        "from sklearn.feature_extraction.text import TfidfVectorizer\n",
        "from sklearn.naive_bayes import MultinomialNB\n",
        "from sklearn.pipeline import Pipeline\n",
        "\n",
        "# Create tokenization and modelling pipeline\n",
        "model_0 = Pipeline([\n",
        "                    (\"tfidf\", TfidfVectorizer()), # convert words to numbers using tfidf\n",
        "                    (\"clf\", MultinomialNB()) # model the text\n",
        "])\n",
        "\n",
        "# Fit the pipeline to the training data\n",
        "model_0.fit(train_split['Sentence'], train_split['Label'])\n",
        "baseline_score = model_0.score(test_split['Sentence'], test_split['Label'])\n",
        "print(f\"Our baseline model achieves an accuracy of: {baseline_score*100:.2f}%\")"
      ],
      "execution_count": 19,
      "outputs": [
        {
          "output_type": "stream",
          "name": "stdout",
          "text": [
            "Our baseline model achieves an accuracy of: 90.91%\n"
          ]
        }
      ]
    },
    {
      "cell_type": "markdown",
      "metadata": {
        "id": "yHkbjdQAwDGI"
      },
      "source": [
        "### Dense Neural Network"
      ]
    },
    {
      "cell_type": "code",
      "metadata": {
        "id": "-nxhiUqxUHSM"
      },
      "source": [
        "from tensorflow.keras import layers\n",
        "inputs = layers.Input(shape=(1,), dtype=\"string\") # inputs are 1-dimensional strings\n",
        "x = text_vectorizer(inputs) # turn the input text into numbers\n",
        "x = embedding(x) # create an embedding of the numerized numbers\n",
        "x = layers.GlobalAveragePooling1D()(x) # lower the dimensionality of the embedding (try running the model without this layer and see what happens)\n",
        "outputs = layers.Dense(1, activation=\"sigmoid\")(x) # create the output layer, want binary outputs so use sigmoid activation\n",
        "model_1 = tf.keras.Model(inputs, outputs, name=\"model_1_dense\") # construct the model\n"
      ],
      "execution_count": 20,
      "outputs": []
    },
    {
      "cell_type": "code",
      "metadata": {
        "colab": {
          "base_uri": "https://localhost:8080/"
        },
        "id": "fdp49g8cv7KY",
        "outputId": "33c893f5-28ba-4f26-fe50-c30b168d2d07"
      },
      "source": [
        "model_1.compile(loss=\"binary_crossentropy\",\n",
        "                optimizer=tf.keras.optimizers.Adam(),\n",
        "                metrics=[\"accuracy\"])\n",
        "\n",
        "model_1.summary()\n"
      ],
      "execution_count": 22,
      "outputs": [
        {
          "output_type": "stream",
          "name": "stdout",
          "text": [
            "Model: \"model_1_dense\"\n",
            "_________________________________________________________________\n",
            " Layer (type)                Output Shape              Param #   \n",
            "=================================================================\n",
            " input_1 (InputLayer)        [(None, 1)]               0         \n",
            "                                                                 \n",
            " text_vectorization (TextVec  (None, 23)               0         \n",
            " torization)                                                     \n",
            "                                                                 \n",
            " embedding (Embedding)       (None, 23, 128)           1280000   \n",
            "                                                                 \n",
            " global_average_pooling1d (G  (None, 128)              0         \n",
            " lobalAveragePooling1D)                                          \n",
            "                                                                 \n",
            " dense (Dense)               (None, 1)                 129       \n",
            "                                                                 \n",
            "=================================================================\n",
            "Total params: 1,280,129\n",
            "Trainable params: 1,280,129\n",
            "Non-trainable params: 0\n",
            "_________________________________________________________________\n"
          ]
        }
      ]
    },
    {
      "cell_type": "code",
      "metadata": {
        "colab": {
          "base_uri": "https://localhost:8080/"
        },
        "id": "FIW9jifdv-ra",
        "outputId": "e8260a5d-ac72-432c-8013-8b41447eb87f"
      },
      "source": [
        "# Fit the model\n",
        "model_1_history = model_1.fit(train_split['Sentence'], # input sentences can be a list of strings due to text preprocessing layer built-in model\n",
        "                              train_split['Label'],\n",
        "                              epochs=50,\n",
        "                              validation_data=(test_split['Sentence'], test_split['Label']))"
      ],
      "execution_count": 24,
      "outputs": [
        {
          "output_type": "stream",
          "name": "stdout",
          "text": [
            "Epoch 1/50\n",
            "7/7 [==============================] - 0s 16ms/step - loss: 0.0559 - accuracy: 1.0000 - val_loss: 0.2501 - val_accuracy: 0.9545\n",
            "Epoch 2/50\n",
            "7/7 [==============================] - 0s 11ms/step - loss: 0.0536 - accuracy: 1.0000 - val_loss: 0.2469 - val_accuracy: 0.9545\n",
            "Epoch 3/50\n",
            "7/7 [==============================] - 0s 10ms/step - loss: 0.0515 - accuracy: 1.0000 - val_loss: 0.2439 - val_accuracy: 0.9545\n",
            "Epoch 4/50\n",
            "7/7 [==============================] - 0s 11ms/step - loss: 0.0495 - accuracy: 1.0000 - val_loss: 0.2419 - val_accuracy: 0.9545\n",
            "Epoch 5/50\n",
            "7/7 [==============================] - 0s 11ms/step - loss: 0.0475 - accuracy: 1.0000 - val_loss: 0.2435 - val_accuracy: 0.9545\n",
            "Epoch 6/50\n",
            "7/7 [==============================] - 0s 11ms/step - loss: 0.0459 - accuracy: 1.0000 - val_loss: 0.2438 - val_accuracy: 0.9545\n",
            "Epoch 7/50\n",
            "7/7 [==============================] - 0s 11ms/step - loss: 0.0440 - accuracy: 1.0000 - val_loss: 0.2413 - val_accuracy: 0.9545\n",
            "Epoch 8/50\n",
            "7/7 [==============================] - 0s 11ms/step - loss: 0.0424 - accuracy: 1.0000 - val_loss: 0.2394 - val_accuracy: 0.9545\n",
            "Epoch 9/50\n",
            "7/7 [==============================] - 0s 11ms/step - loss: 0.0408 - accuracy: 1.0000 - val_loss: 0.2383 - val_accuracy: 0.9545\n",
            "Epoch 10/50\n",
            "7/7 [==============================] - 0s 11ms/step - loss: 0.0394 - accuracy: 1.0000 - val_loss: 0.2361 - val_accuracy: 0.9545\n",
            "Epoch 11/50\n",
            "7/7 [==============================] - 0s 11ms/step - loss: 0.0378 - accuracy: 1.0000 - val_loss: 0.2334 - val_accuracy: 0.9545\n",
            "Epoch 12/50\n",
            "7/7 [==============================] - 0s 11ms/step - loss: 0.0364 - accuracy: 1.0000 - val_loss: 0.2309 - val_accuracy: 0.9545\n",
            "Epoch 13/50\n",
            "7/7 [==============================] - 0s 11ms/step - loss: 0.0352 - accuracy: 1.0000 - val_loss: 0.2291 - val_accuracy: 0.9545\n",
            "Epoch 14/50\n",
            "7/7 [==============================] - 0s 11ms/step - loss: 0.0340 - accuracy: 1.0000 - val_loss: 0.2278 - val_accuracy: 0.9545\n",
            "Epoch 15/50\n",
            "7/7 [==============================] - 0s 10ms/step - loss: 0.0330 - accuracy: 1.0000 - val_loss: 0.2280 - val_accuracy: 0.9545\n",
            "Epoch 16/50\n",
            "7/7 [==============================] - 0s 14ms/step - loss: 0.0318 - accuracy: 1.0000 - val_loss: 0.2264 - val_accuracy: 0.9545\n",
            "Epoch 17/50\n",
            "7/7 [==============================] - 0s 11ms/step - loss: 0.0307 - accuracy: 1.0000 - val_loss: 0.2241 - val_accuracy: 0.9545\n",
            "Epoch 18/50\n",
            "7/7 [==============================] - 0s 14ms/step - loss: 0.0297 - accuracy: 1.0000 - val_loss: 0.2225 - val_accuracy: 0.9545\n",
            "Epoch 19/50\n",
            "7/7 [==============================] - 0s 11ms/step - loss: 0.0288 - accuracy: 1.0000 - val_loss: 0.2205 - val_accuracy: 0.9545\n",
            "Epoch 20/50\n",
            "7/7 [==============================] - 0s 11ms/step - loss: 0.0279 - accuracy: 1.0000 - val_loss: 0.2184 - val_accuracy: 0.9545\n",
            "Epoch 21/50\n",
            "7/7 [==============================] - 0s 11ms/step - loss: 0.0270 - accuracy: 1.0000 - val_loss: 0.2164 - val_accuracy: 0.9545\n",
            "Epoch 22/50\n",
            "7/7 [==============================] - 0s 11ms/step - loss: 0.0262 - accuracy: 1.0000 - val_loss: 0.2147 - val_accuracy: 0.9545\n",
            "Epoch 23/50\n",
            "7/7 [==============================] - 0s 11ms/step - loss: 0.0255 - accuracy: 1.0000 - val_loss: 0.2133 - val_accuracy: 0.9545\n",
            "Epoch 24/50\n",
            "7/7 [==============================] - 0s 11ms/step - loss: 0.0247 - accuracy: 1.0000 - val_loss: 0.2118 - val_accuracy: 0.9545\n",
            "Epoch 25/50\n",
            "7/7 [==============================] - 0s 15ms/step - loss: 0.0241 - accuracy: 1.0000 - val_loss: 0.2105 - val_accuracy: 0.9545\n",
            "Epoch 26/50\n",
            "7/7 [==============================] - 0s 11ms/step - loss: 0.0234 - accuracy: 1.0000 - val_loss: 0.2094 - val_accuracy: 0.9545\n",
            "Epoch 27/50\n",
            "7/7 [==============================] - 0s 13ms/step - loss: 0.0228 - accuracy: 1.0000 - val_loss: 0.2081 - val_accuracy: 0.9545\n",
            "Epoch 28/50\n",
            "7/7 [==============================] - 0s 11ms/step - loss: 0.0221 - accuracy: 1.0000 - val_loss: 0.2067 - val_accuracy: 0.9545\n",
            "Epoch 29/50\n",
            "7/7 [==============================] - 0s 11ms/step - loss: 0.0215 - accuracy: 1.0000 - val_loss: 0.2052 - val_accuracy: 0.9545\n",
            "Epoch 30/50\n",
            "7/7 [==============================] - 0s 11ms/step - loss: 0.0210 - accuracy: 1.0000 - val_loss: 0.2033 - val_accuracy: 0.9545\n",
            "Epoch 31/50\n",
            "7/7 [==============================] - 0s 11ms/step - loss: 0.0204 - accuracy: 1.0000 - val_loss: 0.2019 - val_accuracy: 0.9545\n",
            "Epoch 32/50\n",
            "7/7 [==============================] - 0s 12ms/step - loss: 0.0199 - accuracy: 1.0000 - val_loss: 0.2009 - val_accuracy: 0.9545\n",
            "Epoch 33/50\n",
            "7/7 [==============================] - 0s 11ms/step - loss: 0.0194 - accuracy: 1.0000 - val_loss: 0.2000 - val_accuracy: 0.9545\n",
            "Epoch 34/50\n",
            "7/7 [==============================] - 0s 11ms/step - loss: 0.0189 - accuracy: 1.0000 - val_loss: 0.1991 - val_accuracy: 0.9545\n",
            "Epoch 35/50\n",
            "7/7 [==============================] - 0s 11ms/step - loss: 0.0185 - accuracy: 1.0000 - val_loss: 0.1986 - val_accuracy: 0.9545\n",
            "Epoch 36/50\n",
            "7/7 [==============================] - 0s 11ms/step - loss: 0.0180 - accuracy: 1.0000 - val_loss: 0.1983 - val_accuracy: 0.9545\n",
            "Epoch 37/50\n",
            "7/7 [==============================] - 0s 11ms/step - loss: 0.0176 - accuracy: 1.0000 - val_loss: 0.1977 - val_accuracy: 0.9545\n",
            "Epoch 38/50\n",
            "7/7 [==============================] - 0s 11ms/step - loss: 0.0172 - accuracy: 1.0000 - val_loss: 0.1966 - val_accuracy: 0.9545\n",
            "Epoch 39/50\n",
            "7/7 [==============================] - 0s 11ms/step - loss: 0.0168 - accuracy: 1.0000 - val_loss: 0.1957 - val_accuracy: 0.9545\n",
            "Epoch 40/50\n",
            "7/7 [==============================] - 0s 11ms/step - loss: 0.0164 - accuracy: 1.0000 - val_loss: 0.1948 - val_accuracy: 0.9545\n",
            "Epoch 41/50\n",
            "7/7 [==============================] - 0s 10ms/step - loss: 0.0160 - accuracy: 1.0000 - val_loss: 0.1937 - val_accuracy: 0.9545\n",
            "Epoch 42/50\n",
            "7/7 [==============================] - 0s 12ms/step - loss: 0.0156 - accuracy: 1.0000 - val_loss: 0.1932 - val_accuracy: 0.9545\n",
            "Epoch 43/50\n",
            "7/7 [==============================] - 0s 10ms/step - loss: 0.0153 - accuracy: 1.0000 - val_loss: 0.1926 - val_accuracy: 0.9545\n",
            "Epoch 44/50\n",
            "7/7 [==============================] - 0s 11ms/step - loss: 0.0149 - accuracy: 1.0000 - val_loss: 0.1916 - val_accuracy: 0.9545\n",
            "Epoch 45/50\n",
            "7/7 [==============================] - 0s 11ms/step - loss: 0.0145 - accuracy: 1.0000 - val_loss: 0.1904 - val_accuracy: 0.9545\n",
            "Epoch 46/50\n",
            "7/7 [==============================] - 0s 11ms/step - loss: 0.0142 - accuracy: 1.0000 - val_loss: 0.1893 - val_accuracy: 0.9545\n",
            "Epoch 47/50\n",
            "7/7 [==============================] - 0s 11ms/step - loss: 0.0139 - accuracy: 1.0000 - val_loss: 0.1883 - val_accuracy: 0.9545\n",
            "Epoch 48/50\n",
            "7/7 [==============================] - 0s 12ms/step - loss: 0.0136 - accuracy: 1.0000 - val_loss: 0.1880 - val_accuracy: 0.9545\n",
            "Epoch 49/50\n",
            "7/7 [==============================] - 0s 10ms/step - loss: 0.0133 - accuracy: 1.0000 - val_loss: 0.1875 - val_accuracy: 0.9545\n",
            "Epoch 50/50\n",
            "7/7 [==============================] - 0s 11ms/step - loss: 0.0130 - accuracy: 1.0000 - val_loss: 0.1872 - val_accuracy: 0.9545\n"
          ]
        }
      ]
    },
    {
      "cell_type": "markdown",
      "metadata": {
        "id": "qH2ONjxtUHZc"
      },
      "source": [
        "## Здійснити порівняння ефективності моделей"
      ]
    },
    {
      "cell_type": "code",
      "metadata": {
        "id": "ROXko56mUHgl",
        "colab": {
          "base_uri": "https://localhost:8080/"
        },
        "outputId": "93c42b65-4f48-45ba-969d-a121c5a2c1b1"
      },
      "source": [
        "calculate_results(test_split['Label'], model_0.predict(test_split['Sentence']))"
      ],
      "execution_count": 25,
      "outputs": [
        {
          "output_type": "execute_result",
          "data": {
            "text/plain": [
              "{'accuracy': 90.9090909090909,\n",
              " 'f1': 0.9066558441558442,\n",
              " 'precision': 0.9212121212121211,\n",
              " 'recall': 0.9090909090909091}"
            ]
          },
          "metadata": {},
          "execution_count": 25
        }
      ]
    },
    {
      "cell_type": "code",
      "metadata": {
        "colab": {
          "base_uri": "https://localhost:8080/"
        },
        "id": "kzWiyKslihDP",
        "outputId": "3af39ad3-5b87-4ab7-8128-c8f4ca72ef0e"
      },
      "source": [
        "calculate_results(test_split['Label'], tf.squeeze(tf.round(model_1.predict(test_split['Sentence']))))\n"
      ],
      "execution_count": 26,
      "outputs": [
        {
          "output_type": "execute_result",
          "data": {
            "text/plain": [
              "{'accuracy': 95.45454545454545,\n",
              " 'f1': 0.9540503069914834,\n",
              " 'precision': 0.9577922077922078,\n",
              " 'recall': 0.9545454545454546}"
            ]
          },
          "metadata": {},
          "execution_count": 26
        }
      ]
    },
    {
      "cell_type": "markdown",
      "metadata": {
        "id": "P0aMvjOrUHo0"
      },
      "source": [
        ""
      ]
    }
  ]
}